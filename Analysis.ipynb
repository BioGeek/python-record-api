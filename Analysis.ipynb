{
 "cells": [
  {
   "cell_type": "code",
   "execution_count": 1,
   "metadata": {
    "collapsed": true,
    "execution": {
     "iopub.execute_input": "2020-04-21T18:07:55.166256Z",
     "iopub.status.busy": "2020-04-21T18:07:55.166028Z",
     "iopub.status.idle": "2020-04-21T18:07:56.395242Z",
     "shell.execute_reply": "2020-04-21T18:07:56.394574Z",
     "shell.execute_reply.started": "2020-04-21T18:07:55.166232Z"
    },
    "jupyter": {
     "outputs_hidden": true
    }
   },
   "outputs": [
    {
     "name": "stdout",
     "output_type": "stream",
     "text": [
      "Requirement already satisfied: pandas in /usr/local/Caskroom/miniconda/base/envs/scikit-image/lib/python3.8/site-packages (1.0.3)\n",
      "Requirement already satisfied: altair in /usr/local/Caskroom/miniconda/base/envs/scikit-image/lib/python3.8/site-packages (4.1.0)\n",
      "Requirement already satisfied: altair_data_server in /usr/local/Caskroom/miniconda/base/envs/scikit-image/lib/python3.8/site-packages (0.4.1)\n",
      "Requirement already satisfied: numpy>=1.13.3 in /usr/local/Caskroom/miniconda/base/envs/scikit-image/lib/python3.8/site-packages (from pandas) (1.18.1)\n",
      "Requirement already satisfied: python-dateutil>=2.6.1 in /usr/local/Caskroom/miniconda/base/envs/scikit-image/lib/python3.8/site-packages (from pandas) (2.8.1)\n",
      "Requirement already satisfied: pytz>=2017.2 in /usr/local/Caskroom/miniconda/base/envs/scikit-image/lib/python3.8/site-packages (from pandas) (2019.3)\n",
      "Requirement already satisfied: jinja2 in /usr/local/Caskroom/miniconda/base/envs/scikit-image/lib/python3.8/site-packages (from altair) (2.11.2)\n",
      "Requirement already satisfied: entrypoints in /usr/local/Caskroom/miniconda/base/envs/scikit-image/lib/python3.8/site-packages (from altair) (0.3)\n",
      "Requirement already satisfied: toolz in /usr/local/Caskroom/miniconda/base/envs/scikit-image/lib/python3.8/site-packages (from altair) (0.10.0)\n",
      "Requirement already satisfied: jsonschema in /usr/local/Caskroom/miniconda/base/envs/scikit-image/lib/python3.8/site-packages (from altair) (3.2.0)\n",
      "Requirement already satisfied: tornado in /usr/local/Caskroom/miniconda/base/envs/scikit-image/lib/python3.8/site-packages (from altair_data_server) (6.0.4)\n",
      "Requirement already satisfied: portpicker in /usr/local/Caskroom/miniconda/base/envs/scikit-image/lib/python3.8/site-packages (from altair_data_server) (1.3.1)\n",
      "Requirement already satisfied: six>=1.5 in /usr/local/Caskroom/miniconda/base/envs/scikit-image/lib/python3.8/site-packages (from python-dateutil>=2.6.1->pandas) (1.14.0)\n",
      "Requirement already satisfied: MarkupSafe>=0.23 in /usr/local/Caskroom/miniconda/base/envs/scikit-image/lib/python3.8/site-packages (from jinja2->altair) (1.1.1)\n",
      "Requirement already satisfied: pyrsistent>=0.14.0 in /usr/local/Caskroom/miniconda/base/envs/scikit-image/lib/python3.8/site-packages (from jsonschema->altair) (0.16.0)\n",
      "Requirement already satisfied: setuptools in /usr/local/Caskroom/miniconda/base/envs/scikit-image/lib/python3.8/site-packages (from jsonschema->altair) (46.1.3.post20200325)\n",
      "Requirement already satisfied: attrs>=17.4.0 in /usr/local/Caskroom/miniconda/base/envs/scikit-image/lib/python3.8/site-packages (from jsonschema->altair) (19.3.0)\n"
     ]
    }
   ],
   "source": [
    "!pip install pandas altair altair_data_server"
   ]
  },
  {
   "cell_type": "code",
   "execution_count": 73,
   "metadata": {
    "execution": {
     "iopub.execute_input": "2020-04-21T18:57:25.851574Z",
     "iopub.status.busy": "2020-04-21T18:57:25.851344Z",
     "iopub.status.idle": "2020-04-21T18:57:25.855520Z",
     "shell.execute_reply": "2020-04-21T18:57:25.854901Z",
     "shell.execute_reply.started": "2020-04-21T18:57:25.851550Z"
    }
   },
   "outputs": [
    {
     "data": {
      "text/plain": [
       "DataTransformerRegistry.enable('data_server')"
      ]
     },
     "execution_count": 73,
     "metadata": {},
     "output_type": "execute_result"
    }
   ],
   "source": [
    "import pandas\n",
    "import altair\n",
    "\n",
    "altair.data_transformers.enable('data_server')"
   ]
  },
  {
   "cell_type": "code",
   "execution_count": 74,
   "metadata": {
    "execution": {
     "iopub.execute_input": "2020-04-21T18:57:26.176759Z",
     "iopub.status.busy": "2020-04-21T18:57:26.176535Z",
     "iopub.status.idle": "2020-04-21T18:57:26.196284Z",
     "shell.execute_reply": "2020-04-21T18:57:26.195676Z",
     "shell.execute_reply.started": "2020-04-21T18:57:26.176735Z"
    }
   },
   "outputs": [
    {
     "data": {
      "text/html": [
       "<div>\n",
       "<style scoped>\n",
       "    .dataframe tbody tr th:only-of-type {\n",
       "        vertical-align: middle;\n",
       "    }\n",
       "\n",
       "    .dataframe tbody tr th {\n",
       "        vertical-align: top;\n",
       "    }\n",
       "\n",
       "    .dataframe thead th {\n",
       "        text-align: right;\n",
       "    }\n",
       "</style>\n",
       "<table border=\"1\" class=\"dataframe\">\n",
       "  <thead>\n",
       "    <tr style=\"text-align: right;\">\n",
       "      <th></th>\n",
       "      <th>function</th>\n",
       "      <th>params</th>\n",
       "    </tr>\n",
       "  </thead>\n",
       "  <tbody>\n",
       "    <tr>\n",
       "      <th>0</th>\n",
       "      <td>numpy.arange</td>\n",
       "      <td>{'0': 10}</td>\n",
       "    </tr>\n",
       "    <tr>\n",
       "      <th>1</th>\n",
       "      <td>_operator.pos</td>\n",
       "      <td>{'a': {'__tp': 'numpy.ndarray', '__v': {'shape...</td>\n",
       "    </tr>\n",
       "    <tr>\n",
       "      <th>2</th>\n",
       "      <td>_operator.neg</td>\n",
       "      <td>{'a': {'__tp': 'numpy.ndarray', '__v': {'shape...</td>\n",
       "    </tr>\n",
       "    <tr>\n",
       "      <th>3</th>\n",
       "      <td>_operator.invert</td>\n",
       "      <td>{'a': {'__tp': 'numpy.ndarray', '__v': {'shape...</td>\n",
       "    </tr>\n",
       "    <tr>\n",
       "      <th>4</th>\n",
       "      <td>_operator.not_</td>\n",
       "      <td>{'a': {'__tp': 'numpy.ndarray', '__v': {'shape...</td>\n",
       "    </tr>\n",
       "    <tr>\n",
       "      <th>...</th>\n",
       "      <td>...</td>\n",
       "      <td>...</td>\n",
       "    </tr>\n",
       "    <tr>\n",
       "      <th>66</th>\n",
       "      <td>builtins.getattr</td>\n",
       "      <td>{'0': {'__tp': 'numpy.ndarray', '__v': {'shape...</td>\n",
       "    </tr>\n",
       "    <tr>\n",
       "      <th>67</th>\n",
       "      <td>numpy.ndarray.reshape</td>\n",
       "      <td>{'0': {'__tp': 'numpy.ndarray', '__v': {'shape...</td>\n",
       "    </tr>\n",
       "    <tr>\n",
       "      <th>68</th>\n",
       "      <td>numpy.column_stack</td>\n",
       "      <td>{'tup': [{'__tp': 'numpy.ndarray', '__v': {'sh...</td>\n",
       "    </tr>\n",
       "    <tr>\n",
       "      <th>69</th>\n",
       "      <td>builtins.getattr</td>\n",
       "      <td>{'0': {'__tp': 'builtins.module', '__v': 'nump...</td>\n",
       "    </tr>\n",
       "    <tr>\n",
       "      <th>70</th>\n",
       "      <td>numpy.concatenate</td>\n",
       "      <td>{'axis': 0, '0': [{'__tp': 'numpy.ndarray', '_...</td>\n",
       "    </tr>\n",
       "  </tbody>\n",
       "</table>\n",
       "<p>71 rows × 2 columns</p>\n",
       "</div>"
      ],
      "text/plain": [
       "                 function                                             params\n",
       "0            numpy.arange                                          {'0': 10}\n",
       "1           _operator.pos  {'a': {'__tp': 'numpy.ndarray', '__v': {'shape...\n",
       "2           _operator.neg  {'a': {'__tp': 'numpy.ndarray', '__v': {'shape...\n",
       "3        _operator.invert  {'a': {'__tp': 'numpy.ndarray', '__v': {'shape...\n",
       "4          _operator.not_  {'a': {'__tp': 'numpy.ndarray', '__v': {'shape...\n",
       "..                    ...                                                ...\n",
       "66       builtins.getattr  {'0': {'__tp': 'numpy.ndarray', '__v': {'shape...\n",
       "67  numpy.ndarray.reshape  {'0': {'__tp': 'numpy.ndarray', '__v': {'shape...\n",
       "68     numpy.column_stack  {'tup': [{'__tp': 'numpy.ndarray', '__v': {'sh...\n",
       "69       builtins.getattr  {'0': {'__tp': 'builtins.module', '__v': 'nump...\n",
       "70      numpy.concatenate  {'axis': 0, '0': [{'__tp': 'numpy.ndarray', '_...\n",
       "\n",
       "[71 rows x 2 columns]"
      ]
     },
     "execution_count": 74,
     "metadata": {},
     "output_type": "execute_result"
    }
   ],
   "source": [
    "data = pandas.read_json('use_numpy_api.jsonl', lines=True)\n",
    "data"
   ]
  },
  {
   "cell_type": "code",
   "execution_count": 75,
   "metadata": {
    "execution": {
     "iopub.execute_input": "2020-04-21T18:57:41.828736Z",
     "iopub.status.busy": "2020-04-21T18:57:41.828515Z",
     "iopub.status.idle": "2020-04-21T18:57:41.841685Z",
     "shell.execute_reply": "2020-04-21T18:57:41.841033Z",
     "shell.execute_reply.started": "2020-04-21T18:57:41.828713Z"
    }
   },
   "outputs": [
    {
     "data": {
      "text/html": [
       "\n",
       "<div id=\"altair-viz-0f752569de06450cbe95889f59c64d39\"></div>\n",
       "<script type=\"text/javascript\">\n",
       "  (function(spec, embedOpt){\n",
       "    let outputDiv = document.currentScript.previousElementSibling;\n",
       "    if (outputDiv.id !== \"altair-viz-0f752569de06450cbe95889f59c64d39\") {\n",
       "      outputDiv = document.getElementById(\"altair-viz-0f752569de06450cbe95889f59c64d39\");\n",
       "    }\n",
       "    const paths = {\n",
       "      \"vega\": \"https://cdn.jsdelivr.net/npm//vega@5?noext\",\n",
       "      \"vega-lib\": \"https://cdn.jsdelivr.net/npm//vega-lib?noext\",\n",
       "      \"vega-lite\": \"https://cdn.jsdelivr.net/npm//vega-lite@4.8.1?noext\",\n",
       "      \"vega-embed\": \"https://cdn.jsdelivr.net/npm//vega-embed@6?noext\",\n",
       "    };\n",
       "\n",
       "    function loadScript(lib) {\n",
       "      return new Promise(function(resolve, reject) {\n",
       "        var s = document.createElement('script');\n",
       "        s.src = paths[lib];\n",
       "        s.async = true;\n",
       "        s.onload = () => resolve(paths[lib]);\n",
       "        s.onerror = () => reject(`Error loading script: ${paths[lib]}`);\n",
       "        document.getElementsByTagName(\"head\")[0].appendChild(s);\n",
       "      });\n",
       "    }\n",
       "\n",
       "    function showError(err) {\n",
       "      outputDiv.innerHTML = `<div class=\"error\" style=\"color:red;\">${err}</div>`;\n",
       "      throw err;\n",
       "    }\n",
       "\n",
       "    function displayChart(vegaEmbed) {\n",
       "      vegaEmbed(outputDiv, spec, embedOpt)\n",
       "        .catch(err => showError(`Javascript Error: ${err.message}<br>This usually means there's a typo in your chart specification. See the javascript console for the full traceback.`));\n",
       "    }\n",
       "\n",
       "    if(typeof define === \"function\" && define.amd) {\n",
       "      requirejs.config({paths});\n",
       "      require([\"vega-embed\"], displayChart, err => showError(`Error loading script: ${err.message}`));\n",
       "    } else if (typeof vegaEmbed === \"function\") {\n",
       "      displayChart(vegaEmbed);\n",
       "    } else {\n",
       "      loadScript(\"vega\")\n",
       "        .then(() => loadScript(\"vega-lite\"))\n",
       "        .then(() => loadScript(\"vega-embed\"))\n",
       "        .catch(showError)\n",
       "        .then(() => displayChart(vegaEmbed));\n",
       "    }\n",
       "  })({\"config\": {\"view\": {\"continuousWidth\": 400, \"continuousHeight\": 300}}, \"data\": {\"url\": \"http://localhost:24560/550c1e81f7a9dc29073f5e3812287c5f.json\"}, \"mark\": \"bar\", \"encoding\": {\"x\": {\"type\": \"quantitative\", \"aggregate\": \"count\"}, \"y\": {\"type\": \"nominal\", \"field\": \"function\", \"sort\": \"-x\"}}, \"$schema\": \"https://vega.github.io/schema/vega-lite/v4.8.1.json\"}, {\"mode\": \"vega-lite\"});\n",
       "</script>"
      ],
      "text/plain": [
       "alt.Chart(...)"
      ]
     },
     "execution_count": 75,
     "metadata": {},
     "output_type": "execute_result"
    }
   ],
   "source": [
    "altair.Chart(data).mark_bar().encode(\n",
    "    y=altair.Y('function', sort='-x'),\n",
    "    x='count()'\n",
    ")"
   ]
  },
  {
   "cell_type": "code",
   "execution_count": 82,
   "metadata": {
    "execution": {
     "iopub.execute_input": "2020-04-21T18:58:58.939995Z",
     "iopub.status.busy": "2020-04-21T18:58:58.939768Z",
     "iopub.status.idle": "2020-04-21T18:58:58.958565Z",
     "shell.execute_reply": "2020-04-21T18:58:58.957858Z",
     "shell.execute_reply.started": "2020-04-21T18:58:58.939971Z"
    }
   },
   "outputs": [
    {
     "data": {
      "text/plain": [
       "[{'0': 10},\n",
       " {'a': {'__tp': 'numpy.ndarray',\n",
       "   '__v': {'shape': [10], 'dtype': {'__tp': 'numpy.dtype'}}}},\n",
       " {'a': {'__tp': 'numpy.ndarray',\n",
       "   '__v': {'shape': [10], 'dtype': {'__tp': 'numpy.dtype'}}}},\n",
       " {'a': {'__tp': 'numpy.ndarray',\n",
       "   '__v': {'shape': [10], 'dtype': {'__tp': 'numpy.dtype'}}}},\n",
       " {'a': {'__tp': 'numpy.ndarray',\n",
       "   '__v': {'shape': [10], 'dtype': {'__tp': 'numpy.dtype'}}}},\n",
       " {'0': {'__tp': 'numpy.ndarray',\n",
       "   '__v': {'shape': [10], 'dtype': {'__tp': 'numpy.dtype'}}}},\n",
       " {'a': {'__tp': 'numpy.ndarray',\n",
       "   '__v': {'shape': [10], 'dtype': {'__tp': 'numpy.dtype'}}},\n",
       "  'b': 0},\n",
       " {'a': {'__tp': 'numpy.ndarray',\n",
       "   '__v': {'shape': [10], 'dtype': {'__tp': 'numpy.dtype'}}},\n",
       "  'b': 2},\n",
       " {'a': 2,\n",
       "  'b': {'__tp': 'numpy.ndarray',\n",
       "   '__v': {'shape': [10], 'dtype': {'__tp': 'numpy.dtype'}}}},\n",
       " {'a': {'__tp': 'numpy.ndarray',\n",
       "   '__v': {'shape': [10], 'dtype': {'__tp': 'numpy.dtype'}}},\n",
       "  'b': 2},\n",
       " {'a': 2,\n",
       "  'b': {'__tp': 'numpy.ndarray',\n",
       "   '__v': {'shape': [10], 'dtype': {'__tp': 'numpy.dtype'}}}},\n",
       " {'a': {'__tp': 'numpy.ndarray',\n",
       "   '__v': {'shape': [10], 'dtype': {'__tp': 'numpy.dtype'}}},\n",
       "  'b': {'__tp': 'numpy.ndarray',\n",
       "   '__v': {'shape': [10], 'dtype': {'__tp': 'numpy.dtype'}}}},\n",
       " {'a': {'__tp': 'numpy.ndarray',\n",
       "   '__v': {'shape': [10], 'dtype': {'__tp': 'numpy.dtype'}}},\n",
       "  'b': 2},\n",
       " {'a': 2,\n",
       "  'b': {'__tp': 'numpy.ndarray',\n",
       "   '__v': {'shape': [10], 'dtype': {'__tp': 'numpy.dtype'}}}},\n",
       " {'a': {'__tp': 'numpy.ndarray',\n",
       "   '__v': {'shape': [10], 'dtype': {'__tp': 'numpy.dtype'}}},\n",
       "  'b': 2},\n",
       " {'a': 2,\n",
       "  'b': {'__tp': 'numpy.ndarray',\n",
       "   '__v': {'shape': [10], 'dtype': {'__tp': 'numpy.dtype'}}}},\n",
       " {'a': {'__tp': 'numpy.ndarray',\n",
       "   '__v': {'shape': [10], 'dtype': {'__tp': 'numpy.dtype'}}},\n",
       "  'b': 2},\n",
       " {'a': 2,\n",
       "  'b': {'__tp': 'numpy.ndarray',\n",
       "   '__v': {'shape': [10], 'dtype': {'__tp': 'numpy.dtype'}}}},\n",
       " {'a': {'__tp': 'numpy.ndarray',\n",
       "   '__v': {'shape': [10], 'dtype': {'__tp': 'numpy.dtype'}}},\n",
       "  'b': 2},\n",
       " {'a': 2,\n",
       "  'b': {'__tp': 'numpy.ndarray',\n",
       "   '__v': {'shape': [10], 'dtype': {'__tp': 'numpy.dtype'}}}},\n",
       " {'a': {'__tp': 'numpy.ndarray',\n",
       "   '__v': {'shape': [10], 'dtype': {'__tp': 'numpy.dtype'}}},\n",
       "  'b': 2},\n",
       " {'a': 2,\n",
       "  'b': {'__tp': 'numpy.ndarray',\n",
       "   '__v': {'shape': [10], 'dtype': {'__tp': 'numpy.dtype'}}}},\n",
       " {'a': {'__tp': 'numpy.ndarray',\n",
       "   '__v': {'shape': [10], 'dtype': {'__tp': 'numpy.dtype'}}},\n",
       "  'b': 2},\n",
       " {'a': 2,\n",
       "  'b': {'__tp': 'numpy.ndarray',\n",
       "   '__v': {'shape': [10], 'dtype': {'__tp': 'numpy.dtype'}}}},\n",
       " {'a': {'__tp': 'numpy.ndarray',\n",
       "   '__v': {'shape': [10], 'dtype': {'__tp': 'numpy.dtype'}}},\n",
       "  'b': 2},\n",
       " {'a': 2,\n",
       "  'b': {'__tp': 'numpy.ndarray',\n",
       "   '__v': {'shape': [10], 'dtype': {'__tp': 'numpy.dtype'}}}},\n",
       " {'a': {'__tp': 'numpy.ndarray',\n",
       "   '__v': {'shape': [10], 'dtype': {'__tp': 'numpy.dtype'}}},\n",
       "  'b': 2},\n",
       " {'a': 2,\n",
       "  'b': {'__tp': 'numpy.ndarray',\n",
       "   '__v': {'shape': [10], 'dtype': {'__tp': 'numpy.dtype'}}}},\n",
       " {'a': {'__tp': 'numpy.ndarray',\n",
       "   '__v': {'shape': [10], 'dtype': {'__tp': 'numpy.dtype'}}},\n",
       "  'b': 2},\n",
       " {'a': 2,\n",
       "  'b': {'__tp': 'numpy.ndarray',\n",
       "   '__v': {'shape': [10], 'dtype': {'__tp': 'numpy.dtype'}}}},\n",
       " {'a': {'__tp': 'numpy.ndarray',\n",
       "   '__v': {'shape': [10], 'dtype': {'__tp': 'numpy.dtype'}}},\n",
       "  'b': 2},\n",
       " {'a': 2,\n",
       "  'b': {'__tp': 'numpy.ndarray',\n",
       "   '__v': {'shape': [10], 'dtype': {'__tp': 'numpy.dtype'}}}},\n",
       " {'a': {'__tp': 'numpy.ndarray',\n",
       "   '__v': {'shape': [10], 'dtype': {'__tp': 'numpy.dtype'}}},\n",
       "  'b': 2},\n",
       " {'a': {'__tp': 'numpy.ndarray',\n",
       "   '__v': {'shape': [10], 'dtype': {'__tp': 'numpy.dtype'}}},\n",
       "  'b': 2},\n",
       " {'a': {'__tp': 'numpy.ndarray',\n",
       "   '__v': {'shape': [10], 'dtype': {'__tp': 'numpy.dtype'}}},\n",
       "  'b': 2},\n",
       " {'a': {'__tp': 'numpy.ndarray',\n",
       "   '__v': {'shape': [10], 'dtype': {'__tp': 'numpy.dtype'}}},\n",
       "  'b': 2},\n",
       " {'a': {'__tp': 'numpy.ndarray',\n",
       "   '__v': {'shape': [10], 'dtype': {'__tp': 'numpy.dtype'}}},\n",
       "  'b': 2},\n",
       " {'a': {'__tp': 'numpy.ndarray',\n",
       "   '__v': {'shape': [10], 'dtype': {'__tp': 'numpy.dtype'}}},\n",
       "  'b': 2},\n",
       " {'a': {'__tp': 'numpy.ndarray',\n",
       "   '__v': {'shape': [10], 'dtype': {'__tp': 'numpy.dtype'}}},\n",
       "  'b': 2},\n",
       " {'a': {'__tp': 'numpy.ndarray',\n",
       "   '__v': {'shape': [10], 'dtype': {'__tp': 'numpy.dtype'}}},\n",
       "  'b': 2},\n",
       " {'a': {'__tp': 'numpy.ndarray',\n",
       "   '__v': {'shape': [10], 'dtype': {'__tp': 'numpy.dtype'}}},\n",
       "  'b': 0,\n",
       "  'c': 2},\n",
       " {'0': {'__tp': 'numpy.ndarray',\n",
       "   '__v': {'shape': [10], 'dtype': {'__tp': 'numpy.dtype'}}}},\n",
       " {'0': 10},\n",
       " {'0': [1, 2, 3]},\n",
       " {'0': [4, 5]},\n",
       " {'shape': [5, 4]},\n",
       " {'start': 0, 'stop': 2, 'num': 100},\n",
       " {'N': 10},\n",
       " {'0': 10},\n",
       " {'0': {'__tp': 'numpy.ndarray',\n",
       "   '__v': {'shape': [10], 'dtype': {'__tp': 'numpy.dtype'}}},\n",
       "  '1': 'shape'},\n",
       " {'0': {'__tp': 'numpy.ndarray',\n",
       "   '__v': {'shape': [10], 'dtype': {'__tp': 'numpy.dtype'}}},\n",
       "  '1': 'ndim'},\n",
       " {'0': {'__tp': 'numpy.ndarray',\n",
       "   '__v': {'shape': [10], 'dtype': {'__tp': 'numpy.dtype'}}},\n",
       "  '1': 'dtype'},\n",
       " {'0': {'__tp': 'numpy.ndarray',\n",
       "   '__v': {'shape': [10], 'dtype': {'__tp': 'numpy.dtype'}}},\n",
       "  '1': 'size'},\n",
       " {'a': {'__tp': 'numpy.ndarray',\n",
       "   '__v': {'shape': [10], 'dtype': {'__tp': 'numpy.dtype'}}},\n",
       "  'b': {'__tp': 'numpy.ndarray',\n",
       "   '__v': {'shape': [10], 'dtype': {'__tp': 'numpy.dtype'}}}},\n",
       " {'0': {'__tp': 'numpy.ndarray',\n",
       "   '__v': {'shape': [10], 'dtype': {'__tp': 'numpy.dtype'}}},\n",
       "  '1': {'__tp': 'numpy.ndarray',\n",
       "   '__v': {'shape': [10], 'dtype': {'__tp': 'numpy.dtype'}}}},\n",
       " {'0': {'__tp': 'numpy.ndarray',\n",
       "   '__v': {'shape': [10], 'dtype': {'__tp': 'numpy.dtype'}}}},\n",
       " {'0': {'__tp': 'numpy.ndarray',\n",
       "   '__v': {'shape': [10], 'dtype': {'__tp': 'numpy.dtype'}}}},\n",
       " {'a': {'__tp': 'numpy.ndarray',\n",
       "   '__v': {'shape': [10], 'dtype': {'__tp': 'numpy.dtype'}}},\n",
       "  'b': {'__tp': 'numpy.ndarray',\n",
       "   '__v': {'shape': [10], 'dtype': {'__tp': 'numpy.dtype'}}}},\n",
       " {'a': {'__tp': 'numpy.ndarray',\n",
       "   '__v': {'shape': [10], 'dtype': {'__tp': 'numpy.dtype'}}},\n",
       "  'b': 2},\n",
       " {'0': {'__tp': 'numpy.ndarray',\n",
       "   '__v': {'shape': [10], 'dtype': {'__tp': 'numpy.dtype'}}}},\n",
       " {'0': {'__tp': 'numpy.ndarray',\n",
       "   '__v': {'shape': [10], 'dtype': {'__tp': 'numpy.dtype'}}},\n",
       "  '1': 'sort'},\n",
       " {'axis': 0,\n",
       "  '0': {'__tp': 'numpy.ndarray',\n",
       "   '__v': {'shape': [10], 'dtype': {'__tp': 'numpy.dtype'}}}},\n",
       " {'a': {'__tp': 'numpy.ndarray',\n",
       "   '__v': {'shape': [10], 'dtype': {'__tp': 'numpy.dtype'}}},\n",
       "  'b': 10},\n",
       " {'a': {'__tp': 'numpy.ndarray',\n",
       "   '__v': {'shape': [10], 'dtype': {'__tp': 'numpy.dtype'}}},\n",
       "  'b': {'__tp': 'numpy.ndarray',\n",
       "   '__v': {'shape': [10], 'dtype': {'__tp': 'numpy.dtype'}}}},\n",
       " {'a': {'__tp': 'numpy.ndarray',\n",
       "   '__v': {'shape': [10], 'dtype': {'__tp': 'numpy.dtype'}}},\n",
       "  'b': 0},\n",
       " {'a': {'__tp': 'numpy.ndarray',\n",
       "   '__v': {'shape': [10], 'dtype': {'__tp': 'numpy.dtype'}}},\n",
       "  'b': {'__tp': 'builtins.slice', '__v': [1, 2, None]}},\n",
       " {'0': {'__tp': 'numpy.ndarray',\n",
       "   '__v': {'shape': [10], 'dtype': {'__tp': 'numpy.dtype'}}},\n",
       "  '1': 'T'},\n",
       " {'0': {'__tp': 'numpy.ndarray',\n",
       "   '__v': {'shape': [10], 'dtype': {'__tp': 'numpy.dtype'}}},\n",
       "  '1': [5, 2]},\n",
       " {'tup': [{'__tp': 'numpy.ndarray',\n",
       "    '__v': {'shape': [10], 'dtype': {'__tp': 'numpy.dtype'}}},\n",
       "   {'__tp': 'numpy.ndarray',\n",
       "    '__v': {'shape': [10], 'dtype': {'__tp': 'numpy.dtype'}}}]},\n",
       " {'0': {'__tp': 'builtins.module', '__v': 'numpy'}, '1': 'concatenate'},\n",
       " {'axis': 0,\n",
       "  '0': [{'__tp': 'numpy.ndarray',\n",
       "    '__v': {'shape': [10], 'dtype': {'__tp': 'numpy.dtype'}}},\n",
       "   {'__tp': 'numpy.ndarray',\n",
       "    '__v': {'shape': [10], 'dtype': {'__tp': 'numpy.dtype'}}}]}]"
      ]
     },
     "execution_count": 82,
     "metadata": {},
     "output_type": "execute_result"
    }
   ],
   "source": [
    "list(data['params'].to_dict().values())"
   ]
  },
  {
   "cell_type": "code",
   "execution_count": 92,
   "metadata": {
    "execution": {
     "iopub.execute_input": "2020-04-21T19:00:12.756647Z",
     "iopub.status.busy": "2020-04-21T19:00:12.756423Z",
     "iopub.status.idle": "2020-04-21T19:00:12.760045Z",
     "shell.execute_reply": "2020-04-21T19:00:12.759413Z",
     "shell.execute_reply.started": "2020-04-21T19:00:12.756623Z"
    }
   },
   "outputs": [],
   "source": [
    "def get_args(fn_name):\n",
    "    return pandas.DataFrame.from_records(list(data[data.function == fn_name]['params'].to_dict().values()))"
   ]
  },
  {
   "cell_type": "code",
   "execution_count": 93,
   "metadata": {
    "execution": {
     "iopub.execute_input": "2020-04-21T19:00:13.898383Z",
     "iopub.status.busy": "2020-04-21T19:00:13.898152Z",
     "iopub.status.idle": "2020-04-21T19:00:13.911947Z",
     "shell.execute_reply": "2020-04-21T19:00:13.911293Z",
     "shell.execute_reply.started": "2020-04-21T19:00:13.898359Z"
    }
   },
   "outputs": [
    {
     "data": {
      "text/html": [
       "<div>\n",
       "<style scoped>\n",
       "    .dataframe tbody tr th:only-of-type {\n",
       "        vertical-align: middle;\n",
       "    }\n",
       "\n",
       "    .dataframe tbody tr th {\n",
       "        vertical-align: top;\n",
       "    }\n",
       "\n",
       "    .dataframe thead th {\n",
       "        text-align: right;\n",
       "    }\n",
       "</style>\n",
       "<table border=\"1\" class=\"dataframe\">\n",
       "  <thead>\n",
       "    <tr style=\"text-align: right;\">\n",
       "      <th></th>\n",
       "      <th>0</th>\n",
       "      <th>1</th>\n",
       "    </tr>\n",
       "  </thead>\n",
       "  <tbody>\n",
       "    <tr>\n",
       "      <th>0</th>\n",
       "      <td>{'__tp': 'numpy.ndarray', '__v': {'shape': [10...</td>\n",
       "      <td>shape</td>\n",
       "    </tr>\n",
       "    <tr>\n",
       "      <th>1</th>\n",
       "      <td>{'__tp': 'numpy.ndarray', '__v': {'shape': [10...</td>\n",
       "      <td>ndim</td>\n",
       "    </tr>\n",
       "    <tr>\n",
       "      <th>2</th>\n",
       "      <td>{'__tp': 'numpy.ndarray', '__v': {'shape': [10...</td>\n",
       "      <td>dtype</td>\n",
       "    </tr>\n",
       "    <tr>\n",
       "      <th>3</th>\n",
       "      <td>{'__tp': 'numpy.ndarray', '__v': {'shape': [10...</td>\n",
       "      <td>size</td>\n",
       "    </tr>\n",
       "    <tr>\n",
       "      <th>4</th>\n",
       "      <td>{'__tp': 'numpy.ndarray', '__v': {'shape': [10...</td>\n",
       "      <td>sort</td>\n",
       "    </tr>\n",
       "    <tr>\n",
       "      <th>5</th>\n",
       "      <td>{'__tp': 'numpy.ndarray', '__v': {'shape': [10...</td>\n",
       "      <td>T</td>\n",
       "    </tr>\n",
       "    <tr>\n",
       "      <th>6</th>\n",
       "      <td>{'__tp': 'builtins.module', '__v': 'numpy'}</td>\n",
       "      <td>concatenate</td>\n",
       "    </tr>\n",
       "  </tbody>\n",
       "</table>\n",
       "</div>"
      ],
      "text/plain": [
       "                                                   0            1\n",
       "0  {'__tp': 'numpy.ndarray', '__v': {'shape': [10...        shape\n",
       "1  {'__tp': 'numpy.ndarray', '__v': {'shape': [10...         ndim\n",
       "2  {'__tp': 'numpy.ndarray', '__v': {'shape': [10...        dtype\n",
       "3  {'__tp': 'numpy.ndarray', '__v': {'shape': [10...         size\n",
       "4  {'__tp': 'numpy.ndarray', '__v': {'shape': [10...         sort\n",
       "5  {'__tp': 'numpy.ndarray', '__v': {'shape': [10...            T\n",
       "6        {'__tp': 'builtins.module', '__v': 'numpy'}  concatenate"
      ]
     },
     "execution_count": 93,
     "metadata": {},
     "output_type": "execute_result"
    }
   ],
   "source": [
    "get_args('builtins.getattr')"
   ]
  },
  {
   "cell_type": "code",
   "execution_count": 69,
   "metadata": {
    "execution": {
     "iopub.execute_input": "2020-04-21T18:51:25.688993Z",
     "iopub.status.busy": "2020-04-21T18:51:25.688766Z",
     "iopub.status.idle": "2020-04-21T18:51:25.695943Z",
     "shell.execute_reply": "2020-04-21T18:51:25.695178Z",
     "shell.execute_reply.started": "2020-04-21T18:51:25.688970Z"
    }
   },
   "outputs": [
    {
     "data": {
      "text/html": [
       "<div>\n",
       "<style scoped>\n",
       "    .dataframe tbody tr th:only-of-type {\n",
       "        vertical-align: middle;\n",
       "    }\n",
       "\n",
       "    .dataframe tbody tr th {\n",
       "        vertical-align: top;\n",
       "    }\n",
       "\n",
       "    .dataframe thead th {\n",
       "        text-align: right;\n",
       "    }\n",
       "</style>\n",
       "<table border=\"1\" class=\"dataframe\">\n",
       "  <thead>\n",
       "    <tr style=\"text-align: right;\">\n",
       "      <th></th>\n",
       "      <th>0</th>\n",
       "    </tr>\n",
       "  </thead>\n",
       "  <tbody>\n",
       "    <tr>\n",
       "      <th>0</th>\n",
       "      <td>[4, 5]</td>\n",
       "    </tr>\n",
       "  </tbody>\n",
       "</table>\n",
       "</div>"
      ],
      "text/plain": [
       "        0\n",
       "0  [4, 5]"
      ]
     },
     "execution_count": 69,
     "metadata": {},
     "output_type": "execute_result"
    }
   ],
   "source": [
    "get_types('numpy.zeros')"
   ]
  },
  {
   "cell_type": "code",
   "execution_count": 70,
   "metadata": {
    "execution": {
     "iopub.execute_input": "2020-04-21T18:51:26.195469Z",
     "iopub.status.busy": "2020-04-21T18:51:26.195240Z",
     "iopub.status.idle": "2020-04-21T18:51:26.203845Z",
     "shell.execute_reply": "2020-04-21T18:51:26.203013Z",
     "shell.execute_reply.started": "2020-04-21T18:51:26.195443Z"
    }
   },
   "outputs": [
    {
     "data": {
      "text/html": [
       "<div>\n",
       "<style scoped>\n",
       "    .dataframe tbody tr th:only-of-type {\n",
       "        vertical-align: middle;\n",
       "    }\n",
       "\n",
       "    .dataframe tbody tr th {\n",
       "        vertical-align: top;\n",
       "    }\n",
       "\n",
       "    .dataframe thead th {\n",
       "        text-align: right;\n",
       "    }\n",
       "</style>\n",
       "<table border=\"1\" class=\"dataframe\">\n",
       "  <thead>\n",
       "    <tr style=\"text-align: right;\">\n",
       "      <th></th>\n",
       "      <th>0</th>\n",
       "      <th>1</th>\n",
       "      <th>2</th>\n",
       "    </tr>\n",
       "  </thead>\n",
       "  <tbody>\n",
       "    <tr>\n",
       "      <th>0</th>\n",
       "      <td>0</td>\n",
       "      <td>2</td>\n",
       "      <td>100</td>\n",
       "    </tr>\n",
       "  </tbody>\n",
       "</table>\n",
       "</div>"
      ],
      "text/plain": [
       "   0  1    2\n",
       "0  0  2  100"
      ]
     },
     "execution_count": 70,
     "metadata": {},
     "output_type": "execute_result"
    }
   ],
   "source": [
    "get_types('numpy.linspace').head()"
   ]
  },
  {
   "cell_type": "code",
   "execution_count": null,
   "metadata": {},
   "outputs": [],
   "source": []
  }
 ],
 "metadata": {
  "kernelspec": {
   "display_name": "Python 3",
   "language": "python",
   "name": "python3"
  },
  "language_info": {
   "codemirror_mode": {
    "name": "ipython",
    "version": 3
   },
   "file_extension": ".py",
   "mimetype": "text/x-python",
   "name": "python",
   "nbconvert_exporter": "python",
   "pygments_lexer": "ipython3",
   "version": "3.8.2"
  }
 },
 "nbformat": 4,
 "nbformat_minor": 4
}
