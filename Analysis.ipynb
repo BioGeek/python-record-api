{
 "cells": [
  {
   "cell_type": "code",
   "execution_count": 1,
   "metadata": {
    "collapsed": true,
    "execution": {
     "iopub.execute_input": "2020-04-21T18:07:55.166256Z",
     "iopub.status.busy": "2020-04-21T18:07:55.166028Z",
     "iopub.status.idle": "2020-04-21T18:07:56.395242Z",
     "shell.execute_reply": "2020-04-21T18:07:56.394574Z",
     "shell.execute_reply.started": "2020-04-21T18:07:55.166232Z"
    },
    "jupyter": {
     "outputs_hidden": true
    }
   },
   "outputs": [
    {
     "name": "stdout",
     "output_type": "stream",
     "text": [
      "Requirement already satisfied: pandas in /usr/local/Caskroom/miniconda/base/envs/scikit-image/lib/python3.8/site-packages (1.0.3)\n",
      "Requirement already satisfied: altair in /usr/local/Caskroom/miniconda/base/envs/scikit-image/lib/python3.8/site-packages (4.1.0)\n",
      "Requirement already satisfied: altair_data_server in /usr/local/Caskroom/miniconda/base/envs/scikit-image/lib/python3.8/site-packages (0.4.1)\n",
      "Requirement already satisfied: numpy>=1.13.3 in /usr/local/Caskroom/miniconda/base/envs/scikit-image/lib/python3.8/site-packages (from pandas) (1.18.1)\n",
      "Requirement already satisfied: python-dateutil>=2.6.1 in /usr/local/Caskroom/miniconda/base/envs/scikit-image/lib/python3.8/site-packages (from pandas) (2.8.1)\n",
      "Requirement already satisfied: pytz>=2017.2 in /usr/local/Caskroom/miniconda/base/envs/scikit-image/lib/python3.8/site-packages (from pandas) (2019.3)\n",
      "Requirement already satisfied: jinja2 in /usr/local/Caskroom/miniconda/base/envs/scikit-image/lib/python3.8/site-packages (from altair) (2.11.2)\n",
      "Requirement already satisfied: entrypoints in /usr/local/Caskroom/miniconda/base/envs/scikit-image/lib/python3.8/site-packages (from altair) (0.3)\n",
      "Requirement already satisfied: toolz in /usr/local/Caskroom/miniconda/base/envs/scikit-image/lib/python3.8/site-packages (from altair) (0.10.0)\n",
      "Requirement already satisfied: jsonschema in /usr/local/Caskroom/miniconda/base/envs/scikit-image/lib/python3.8/site-packages (from altair) (3.2.0)\n",
      "Requirement already satisfied: tornado in /usr/local/Caskroom/miniconda/base/envs/scikit-image/lib/python3.8/site-packages (from altair_data_server) (6.0.4)\n",
      "Requirement already satisfied: portpicker in /usr/local/Caskroom/miniconda/base/envs/scikit-image/lib/python3.8/site-packages (from altair_data_server) (1.3.1)\n",
      "Requirement already satisfied: six>=1.5 in /usr/local/Caskroom/miniconda/base/envs/scikit-image/lib/python3.8/site-packages (from python-dateutil>=2.6.1->pandas) (1.14.0)\n",
      "Requirement already satisfied: MarkupSafe>=0.23 in /usr/local/Caskroom/miniconda/base/envs/scikit-image/lib/python3.8/site-packages (from jinja2->altair) (1.1.1)\n",
      "Requirement already satisfied: pyrsistent>=0.14.0 in /usr/local/Caskroom/miniconda/base/envs/scikit-image/lib/python3.8/site-packages (from jsonschema->altair) (0.16.0)\n",
      "Requirement already satisfied: setuptools in /usr/local/Caskroom/miniconda/base/envs/scikit-image/lib/python3.8/site-packages (from jsonschema->altair) (46.1.3.post20200325)\n",
      "Requirement already satisfied: attrs>=17.4.0 in /usr/local/Caskroom/miniconda/base/envs/scikit-image/lib/python3.8/site-packages (from jsonschema->altair) (19.3.0)\n"
     ]
    }
   ],
   "source": [
    "!pip install pandas altair altair_data_server"
   ]
  },
  {
   "cell_type": "code",
   "execution_count": 10,
   "metadata": {
    "execution": {
     "iopub.execute_input": "2020-04-21T22:11:31.039263Z",
     "iopub.status.busy": "2020-04-21T22:11:31.039032Z",
     "iopub.status.idle": "2020-04-21T22:11:31.042217Z",
     "shell.execute_reply": "2020-04-21T22:11:31.041540Z",
     "shell.execute_reply.started": "2020-04-21T22:11:31.039238Z"
    }
   },
   "outputs": [],
   "source": [
    "import pkg_resources"
   ]
  },
  {
   "cell_type": "code",
   "execution_count": 16,
   "metadata": {
    "execution": {
     "iopub.execute_input": "2020-04-21T23:26:56.294384Z",
     "iopub.status.busy": "2020-04-21T23:26:56.294157Z",
     "iopub.status.idle": "2020-04-21T23:26:56.297384Z",
     "shell.execute_reply": "2020-04-21T23:26:56.296646Z",
     "shell.execute_reply.started": "2020-04-21T23:26:56.294360Z"
    }
   },
   "outputs": [],
   "source": [
    "import importlib.util"
   ]
  },
  {
   "cell_type": "code",
   "execution_count": 17,
   "metadata": {
    "execution": {
     "iopub.execute_input": "2020-04-21T23:27:03.779142Z",
     "iopub.status.busy": "2020-04-21T23:27:03.778957Z",
     "iopub.status.idle": "2020-04-21T23:27:03.781682Z",
     "shell.execute_reply": "2020-04-21T23:27:03.781046Z",
     "shell.execute_reply.started": "2020-04-21T23:27:03.779123Z"
    }
   },
   "outputs": [],
   "source": [
    "l = importlib.util.find_spec(\"scipy\")"
   ]
  },
  {
   "cell_type": "code",
   "execution_count": 34,
   "metadata": {
    "execution": {
     "iopub.execute_input": "2020-04-21T23:41:16.644867Z",
     "iopub.status.busy": "2020-04-21T23:41:16.644634Z",
     "iopub.status.idle": "2020-04-21T23:41:16.649218Z",
     "shell.execute_reply": "2020-04-21T23:41:16.648547Z",
     "shell.execute_reply.started": "2020-04-21T23:41:16.644842Z"
    }
   },
   "outputs": [
    {
     "data": {
      "text/plain": [
       "True"
      ]
     },
     "execution_count": 34,
     "metadata": {},
     "output_type": "execute_result"
    }
   ],
   "source": [
    "type(int) == type"
   ]
  },
  {
   "cell_type": "code",
   "execution_count": 23,
   "metadata": {
    "execution": {
     "iopub.execute_input": "2020-04-21T23:32:14.270526Z",
     "iopub.status.busy": "2020-04-21T23:32:14.270341Z",
     "iopub.status.idle": "2020-04-21T23:32:14.273774Z",
     "shell.execute_reply": "2020-04-21T23:32:14.273246Z",
     "shell.execute_reply.started": "2020-04-21T23:32:14.270507Z"
    }
   },
   "outputs": [
    {
     "data": {
      "text/plain": [
       "'scipy'"
      ]
     },
     "execution_count": 23,
     "metadata": {},
     "output_type": "execute_result"
    }
   ],
   "source": [
    "l.loader."
   ]
  },
  {
   "cell_type": "code",
   "execution_count": 32,
   "metadata": {
    "execution": {
     "iopub.execute_input": "2020-04-21T23:34:26.930477Z",
     "iopub.status.busy": "2020-04-21T23:34:26.930253Z",
     "iopub.status.idle": "2020-04-21T23:34:26.936995Z",
     "shell.execute_reply": "2020-04-21T23:34:26.936300Z",
     "shell.execute_reply.started": "2020-04-21T23:34:26.930453Z"
    }
   },
   "outputs": [
    {
     "data": {
      "text/plain": [
       "[('__config__',\n",
       "  <module 'scipy.__config__' from '/usr/local/Caskroom/miniconda/base/envs/scikit-image/lib/python3.8/site-packages/scipy/__config__.py'>),\n",
       " ('_build_utils',\n",
       "  <module 'scipy._build_utils' from '/usr/local/Caskroom/miniconda/base/envs/scikit-image/lib/python3.8/site-packages/scipy/_build_utils/__init__.py'>),\n",
       " ('_distributor_init',\n",
       "  <module 'scipy._distributor_init' from '/usr/local/Caskroom/miniconda/base/envs/scikit-image/lib/python3.8/site-packages/scipy/_distributor_init.py'>),\n",
       " ('_lib',\n",
       "  <module 'scipy._lib' from '/usr/local/Caskroom/miniconda/base/envs/scikit-image/lib/python3.8/site-packages/scipy/_lib/__init__.py'>),\n",
       " ('_sci',\n",
       "  <module 'numpy.lib.scimath' from '/usr/local/Caskroom/miniconda/base/envs/scikit-image/lib/python3.8/site-packages/numpy/lib/scimath.py'>),\n",
       " ('char',\n",
       "  <module 'numpy.core.defchararray' from '/usr/local/Caskroom/miniconda/base/envs/scikit-image/lib/python3.8/site-packages/numpy/core/defchararray.py'>),\n",
       " ('cluster',\n",
       "  <module 'scipy.cluster' from '/usr/local/Caskroom/miniconda/base/envs/scikit-image/lib/python3.8/site-packages/scipy/cluster/__init__.py'>),\n",
       " ('constants',\n",
       "  <module 'scipy.constants' from '/usr/local/Caskroom/miniconda/base/envs/scikit-image/lib/python3.8/site-packages/scipy/constants/__init__.py'>),\n",
       " ('ctypeslib',\n",
       "  <module 'numpy.ctypeslib' from '/usr/local/Caskroom/miniconda/base/envs/scikit-image/lib/python3.8/site-packages/numpy/ctypeslib.py'>),\n",
       " ('emath',\n",
       "  <module 'numpy.lib.scimath' from '/usr/local/Caskroom/miniconda/base/envs/scikit-image/lib/python3.8/site-packages/numpy/lib/scimath.py'>),\n",
       " ('fft',\n",
       "  <module 'scipy.fft' from '/usr/local/Caskroom/miniconda/base/envs/scikit-image/lib/python3.8/site-packages/scipy/fft/__init__.py'>),\n",
       " ('fftpack',\n",
       "  <module 'scipy.fftpack' from '/usr/local/Caskroom/miniconda/base/envs/scikit-image/lib/python3.8/site-packages/scipy/fftpack/__init__.py'>),\n",
       " ('integrate',\n",
       "  <module 'scipy.integrate' from '/usr/local/Caskroom/miniconda/base/envs/scikit-image/lib/python3.8/site-packages/scipy/integrate/__init__.py'>),\n",
       " ('interpolate',\n",
       "  <module 'scipy.interpolate' from '/usr/local/Caskroom/miniconda/base/envs/scikit-image/lib/python3.8/site-packages/scipy/interpolate/__init__.py'>),\n",
       " ('io',\n",
       "  <module 'scipy.io' from '/usr/local/Caskroom/miniconda/base/envs/scikit-image/lib/python3.8/site-packages/scipy/io/__init__.py'>),\n",
       " ('linalg',\n",
       "  <module 'scipy.linalg' from '/usr/local/Caskroom/miniconda/base/envs/scikit-image/lib/python3.8/site-packages/scipy/linalg/__init__.py'>),\n",
       " ('ma',\n",
       "  <module 'numpy.ma' from '/usr/local/Caskroom/miniconda/base/envs/scikit-image/lib/python3.8/site-packages/numpy/ma/__init__.py'>),\n",
       " ('math',\n",
       "  <module 'math' from '/usr/local/Caskroom/miniconda/base/envs/scikit-image/lib/python3.8/lib-dynload/math.cpython-38-darwin.so'>),\n",
       " ('misc',\n",
       "  <module 'scipy.misc' from '/usr/local/Caskroom/miniconda/base/envs/scikit-image/lib/python3.8/site-packages/scipy/misc/__init__.py'>),\n",
       " ('ndimage',\n",
       "  <module 'scipy.ndimage' from '/usr/local/Caskroom/miniconda/base/envs/scikit-image/lib/python3.8/site-packages/scipy/ndimage/__init__.py'>),\n",
       " ('odr',\n",
       "  <module 'scipy.odr' from '/usr/local/Caskroom/miniconda/base/envs/scikit-image/lib/python3.8/site-packages/scipy/odr/__init__.py'>),\n",
       " ('optimize',\n",
       "  <module 'scipy.optimize' from '/usr/local/Caskroom/miniconda/base/envs/scikit-image/lib/python3.8/site-packages/scipy/optimize/__init__.py'>),\n",
       " ('random',\n",
       "  <module 'numpy.random' from '/usr/local/Caskroom/miniconda/base/envs/scikit-image/lib/python3.8/site-packages/numpy/random/__init__.py'>),\n",
       " ('rec',\n",
       "  <module 'numpy.core.records' from '/usr/local/Caskroom/miniconda/base/envs/scikit-image/lib/python3.8/site-packages/numpy/core/records.py'>),\n",
       " ('signal',\n",
       "  <module 'scipy.signal' from '/usr/local/Caskroom/miniconda/base/envs/scikit-image/lib/python3.8/site-packages/scipy/signal/__init__.py'>),\n",
       " ('sparse',\n",
       "  <module 'scipy.sparse' from '/usr/local/Caskroom/miniconda/base/envs/scikit-image/lib/python3.8/site-packages/scipy/sparse/__init__.py'>),\n",
       " ('spatial',\n",
       "  <module 'scipy.spatial' from '/usr/local/Caskroom/miniconda/base/envs/scikit-image/lib/python3.8/site-packages/scipy/spatial/__init__.py'>),\n",
       " ('special',\n",
       "  <module 'scipy.special' from '/usr/local/Caskroom/miniconda/base/envs/scikit-image/lib/python3.8/site-packages/scipy/special/__init__.py'>),\n",
       " ('stats',\n",
       "  <module 'scipy.stats' from '/usr/local/Caskroom/miniconda/base/envs/scikit-image/lib/python3.8/site-packages/scipy/stats/__init__.py'>),\n",
       " ('version',\n",
       "  <module 'scipy.version' from '/usr/local/Caskroom/miniconda/base/envs/scikit-image/lib/python3.8/site-packages/scipy/version.py'>)]"
      ]
     },
     "execution_count": 32,
     "metadata": {},
     "output_type": "execute_result"
    }
   ],
   "source": [
    "inspect.getmembers(scipy, inspect.ismodule)"
   ]
  },
  {
   "cell_type": "code",
   "execution_count": 31,
   "metadata": {
    "execution": {
     "iopub.execute_input": "2020-04-21T23:34:08.991597Z",
     "iopub.status.busy": "2020-04-21T23:34:08.991333Z",
     "iopub.status.idle": "2020-04-21T23:34:08.996180Z",
     "shell.execute_reply": "2020-04-21T23:34:08.995446Z",
     "shell.execute_reply.started": "2020-04-21T23:34:08.991566Z"
    }
   },
   "outputs": [
    {
     "data": {
      "text/plain": [
       "[('_fortran',\n",
       "  <module 'scipy._build_utils._fortran' from '/usr/local/Caskroom/miniconda/base/envs/scikit-image/lib/python3.8/site-packages/scipy/_build_utils/_fortran.py'>),\n",
       " ('np',\n",
       "  <module 'numpy' from '/usr/local/Caskroom/miniconda/base/envs/scikit-image/lib/python3.8/site-packages/numpy/__init__.py'>),\n",
       " ('tests',\n",
       "  <module 'scipy._build_utils.tests' from '/usr/local/Caskroom/miniconda/base/envs/scikit-image/lib/python3.8/site-packages/scipy/_build_utils/tests/__init__.py'>)]"
      ]
     },
     "execution_count": 31,
     "metadata": {},
     "output_type": "execute_result"
    }
   ],
   "source": [
    "inspect.getmembers(res[1][1], inspect.ismodule)"
   ]
  },
  {
   "cell_type": "code",
   "execution_count": null,
   "metadata": {},
   "outputs": [],
   "source": [
    "u."
   ]
  },
  {
   "cell_type": "code",
   "execution_count": 122,
   "metadata": {
    "execution": {
     "iopub.execute_input": "2020-04-21T19:34:54.561263Z",
     "iopub.status.busy": "2020-04-21T19:34:54.561080Z",
     "iopub.status.idle": "2020-04-21T19:34:54.564246Z",
     "shell.execute_reply": "2020-04-21T19:34:54.563718Z",
     "shell.execute_reply.started": "2020-04-21T19:34:54.561244Z"
    }
   },
   "outputs": [],
   "source": [
    "import pandas\n",
    "import altair\n",
    "\n",
    "altair.data_transformers.enable('data_server')\n",
    "pandas.set_option('max_colwidth', 200)"
   ]
  },
  {
   "cell_type": "code",
   "execution_count": 123,
   "metadata": {
    "execution": {
     "iopub.execute_input": "2020-04-21T19:34:54.974694Z",
     "iopub.status.busy": "2020-04-21T19:34:54.974508Z",
     "iopub.status.idle": "2020-04-21T19:34:54.991475Z",
     "shell.execute_reply": "2020-04-21T19:34:54.990932Z",
     "shell.execute_reply.started": "2020-04-21T19:34:54.974675Z"
    }
   },
   "outputs": [
    {
     "data": {
      "text/html": [
       "<div>\n",
       "<style scoped>\n",
       "    .dataframe tbody tr th:only-of-type {\n",
       "        vertical-align: middle;\n",
       "    }\n",
       "\n",
       "    .dataframe tbody tr th {\n",
       "        vertical-align: top;\n",
       "    }\n",
       "\n",
       "    .dataframe thead th {\n",
       "        text-align: right;\n",
       "    }\n",
       "</style>\n",
       "<table border=\"1\" class=\"dataframe\">\n",
       "  <thead>\n",
       "    <tr style=\"text-align: right;\">\n",
       "      <th></th>\n",
       "      <th>function</th>\n",
       "      <th>params</th>\n",
       "    </tr>\n",
       "  </thead>\n",
       "  <tbody>\n",
       "    <tr>\n",
       "      <th>0</th>\n",
       "      <td>numpy.arange</td>\n",
       "      <td>{'0': 10}</td>\n",
       "    </tr>\n",
       "    <tr>\n",
       "      <th>1</th>\n",
       "      <td>_operator.pos</td>\n",
       "      <td>{'a': {'__tp': 'numpy.ndarray', '__v': {'shape': [10], 'dtype': {'__tp': 'numpy.dtype'}}}}</td>\n",
       "    </tr>\n",
       "    <tr>\n",
       "      <th>2</th>\n",
       "      <td>_operator.neg</td>\n",
       "      <td>{'a': {'__tp': 'numpy.ndarray', '__v': {'shape': [10], 'dtype': {'__tp': 'numpy.dtype'}}}}</td>\n",
       "    </tr>\n",
       "    <tr>\n",
       "      <th>3</th>\n",
       "      <td>_operator.invert</td>\n",
       "      <td>{'a': {'__tp': 'numpy.ndarray', '__v': {'shape': [10], 'dtype': {'__tp': 'numpy.dtype'}}}}</td>\n",
       "    </tr>\n",
       "    <tr>\n",
       "      <th>4</th>\n",
       "      <td>_operator.not_</td>\n",
       "      <td>{'a': {'__tp': 'numpy.ndarray', '__v': {'shape': [10], 'dtype': {'__tp': 'numpy.dtype'}}}}</td>\n",
       "    </tr>\n",
       "    <tr>\n",
       "      <th>...</th>\n",
       "      <td>...</td>\n",
       "      <td>...</td>\n",
       "    </tr>\n",
       "    <tr>\n",
       "      <th>69</th>\n",
       "      <td>builtins.getattr</td>\n",
       "      <td>{'0': {'__tp': 'numpy.ndarray', '__v': {'shape': [10], 'dtype': {'__tp': 'numpy.dtype'}}}, '1': 'T'}</td>\n",
       "    </tr>\n",
       "    <tr>\n",
       "      <th>70</th>\n",
       "      <td>numpy.ndarray.reshape</td>\n",
       "      <td>{'0': {'__tp': 'numpy.ndarray', '__v': {'shape': [10], 'dtype': {'__tp': 'numpy.dtype'}}}, '1': {'__tp': 'tuple', 'value': [5, 2]}}</td>\n",
       "    </tr>\n",
       "    <tr>\n",
       "      <th>71</th>\n",
       "      <td>numpy.column_stack</td>\n",
       "      <td>{'tup': [{'__tp': 'numpy.ndarray', '__v': {'shape': [10], 'dtype': {'__tp': 'numpy.dtype'}}}, {'__tp': 'numpy.ndarray', '__v': {'shape': [10], 'dtype': {'__tp': 'numpy.dtype'}}}]}</td>\n",
       "    </tr>\n",
       "    <tr>\n",
       "      <th>72</th>\n",
       "      <td>builtins.getattr</td>\n",
       "      <td>{'0': {'__tp': 'builtins.module', '__v': 'numpy'}, '1': 'concatenate'}</td>\n",
       "    </tr>\n",
       "    <tr>\n",
       "      <th>73</th>\n",
       "      <td>numpy.concatenate</td>\n",
       "      <td>{'axis': 0, '0': {'__tp': 'tuple', 'value': [{'__tp': 'numpy.ndarray', '__v': {'shape': [10], 'dtype': {'__tp': 'numpy.dtype'}}}, {'__tp': 'numpy.ndarray', '__v': {'shape': [10], 'dtype': {'__tp':...</td>\n",
       "    </tr>\n",
       "  </tbody>\n",
       "</table>\n",
       "<p>74 rows × 2 columns</p>\n",
       "</div>"
      ],
      "text/plain": [
       "                 function  \\\n",
       "0            numpy.arange   \n",
       "1           _operator.pos   \n",
       "2           _operator.neg   \n",
       "3        _operator.invert   \n",
       "4          _operator.not_   \n",
       "..                    ...   \n",
       "69       builtins.getattr   \n",
       "70  numpy.ndarray.reshape   \n",
       "71     numpy.column_stack   \n",
       "72       builtins.getattr   \n",
       "73      numpy.concatenate   \n",
       "\n",
       "                                                                                                                                                                                                     params  \n",
       "0                                                                                                                                                                                                 {'0': 10}  \n",
       "1                                                                                                                {'a': {'__tp': 'numpy.ndarray', '__v': {'shape': [10], 'dtype': {'__tp': 'numpy.dtype'}}}}  \n",
       "2                                                                                                                {'a': {'__tp': 'numpy.ndarray', '__v': {'shape': [10], 'dtype': {'__tp': 'numpy.dtype'}}}}  \n",
       "3                                                                                                                {'a': {'__tp': 'numpy.ndarray', '__v': {'shape': [10], 'dtype': {'__tp': 'numpy.dtype'}}}}  \n",
       "4                                                                                                                {'a': {'__tp': 'numpy.ndarray', '__v': {'shape': [10], 'dtype': {'__tp': 'numpy.dtype'}}}}  \n",
       "..                                                                                                                                                                                                      ...  \n",
       "69                                                                                                     {'0': {'__tp': 'numpy.ndarray', '__v': {'shape': [10], 'dtype': {'__tp': 'numpy.dtype'}}}, '1': 'T'}  \n",
       "70                                                                      {'0': {'__tp': 'numpy.ndarray', '__v': {'shape': [10], 'dtype': {'__tp': 'numpy.dtype'}}}, '1': {'__tp': 'tuple', 'value': [5, 2]}}  \n",
       "71                      {'tup': [{'__tp': 'numpy.ndarray', '__v': {'shape': [10], 'dtype': {'__tp': 'numpy.dtype'}}}, {'__tp': 'numpy.ndarray', '__v': {'shape': [10], 'dtype': {'__tp': 'numpy.dtype'}}}]}  \n",
       "72                                                                                                                                   {'0': {'__tp': 'builtins.module', '__v': 'numpy'}, '1': 'concatenate'}  \n",
       "73  {'axis': 0, '0': {'__tp': 'tuple', 'value': [{'__tp': 'numpy.ndarray', '__v': {'shape': [10], 'dtype': {'__tp': 'numpy.dtype'}}}, {'__tp': 'numpy.ndarray', '__v': {'shape': [10], 'dtype': {'__tp':...  \n",
       "\n",
       "[74 rows x 2 columns]"
      ]
     },
     "execution_count": 123,
     "metadata": {},
     "output_type": "execute_result"
    }
   ],
   "source": [
    "data = pandas.read_json('use_numpy_api.jsonl', lines=True)\n",
    "data"
   ]
  },
  {
   "cell_type": "code",
   "execution_count": 124,
   "metadata": {
    "execution": {
     "iopub.execute_input": "2020-04-21T19:34:56.950448Z",
     "iopub.status.busy": "2020-04-21T19:34:56.950208Z",
     "iopub.status.idle": "2020-04-21T19:34:56.963760Z",
     "shell.execute_reply": "2020-04-21T19:34:56.963210Z",
     "shell.execute_reply.started": "2020-04-21T19:34:56.950423Z"
    }
   },
   "outputs": [
    {
     "data": {
      "text/html": [
       "\n",
       "<div id=\"altair-viz-47cd384e84974e66bf347640044ff697\"></div>\n",
       "<script type=\"text/javascript\">\n",
       "  (function(spec, embedOpt){\n",
       "    let outputDiv = document.currentScript.previousElementSibling;\n",
       "    if (outputDiv.id !== \"altair-viz-47cd384e84974e66bf347640044ff697\") {\n",
       "      outputDiv = document.getElementById(\"altair-viz-47cd384e84974e66bf347640044ff697\");\n",
       "    }\n",
       "    const paths = {\n",
       "      \"vega\": \"https://cdn.jsdelivr.net/npm//vega@5?noext\",\n",
       "      \"vega-lib\": \"https://cdn.jsdelivr.net/npm//vega-lib?noext\",\n",
       "      \"vega-lite\": \"https://cdn.jsdelivr.net/npm//vega-lite@4.8.1?noext\",\n",
       "      \"vega-embed\": \"https://cdn.jsdelivr.net/npm//vega-embed@6?noext\",\n",
       "    };\n",
       "\n",
       "    function loadScript(lib) {\n",
       "      return new Promise(function(resolve, reject) {\n",
       "        var s = document.createElement('script');\n",
       "        s.src = paths[lib];\n",
       "        s.async = true;\n",
       "        s.onload = () => resolve(paths[lib]);\n",
       "        s.onerror = () => reject(`Error loading script: ${paths[lib]}`);\n",
       "        document.getElementsByTagName(\"head\")[0].appendChild(s);\n",
       "      });\n",
       "    }\n",
       "\n",
       "    function showError(err) {\n",
       "      outputDiv.innerHTML = `<div class=\"error\" style=\"color:red;\">${err}</div>`;\n",
       "      throw err;\n",
       "    }\n",
       "\n",
       "    function displayChart(vegaEmbed) {\n",
       "      vegaEmbed(outputDiv, spec, embedOpt)\n",
       "        .catch(err => showError(`Javascript Error: ${err.message}<br>This usually means there's a typo in your chart specification. See the javascript console for the full traceback.`));\n",
       "    }\n",
       "\n",
       "    if(typeof define === \"function\" && define.amd) {\n",
       "      requirejs.config({paths});\n",
       "      require([\"vega-embed\"], displayChart, err => showError(`Error loading script: ${err.message}`));\n",
       "    } else if (typeof vegaEmbed === \"function\") {\n",
       "      displayChart(vegaEmbed);\n",
       "    } else {\n",
       "      loadScript(\"vega\")\n",
       "        .then(() => loadScript(\"vega-lite\"))\n",
       "        .then(() => loadScript(\"vega-embed\"))\n",
       "        .catch(showError)\n",
       "        .then(() => displayChart(vegaEmbed));\n",
       "    }\n",
       "  })({\"config\": {\"view\": {\"continuousWidth\": 400, \"continuousHeight\": 300}}, \"data\": {\"url\": \"http://localhost:24560/ad3a1ba9bf505bb094cdbcd95ba3f3a1.json\"}, \"mark\": \"bar\", \"encoding\": {\"x\": {\"type\": \"quantitative\", \"aggregate\": \"count\"}, \"y\": {\"type\": \"nominal\", \"field\": \"function\", \"sort\": \"-x\"}}, \"$schema\": \"https://vega.github.io/schema/vega-lite/v4.8.1.json\"}, {\"mode\": \"vega-lite\"});\n",
       "</script>"
      ],
      "text/plain": [
       "alt.Chart(...)"
      ]
     },
     "execution_count": 124,
     "metadata": {},
     "output_type": "execute_result"
    }
   ],
   "source": [
    "altair.Chart(data).mark_bar().encode(\n",
    "    y=altair.Y('function', sort='-x'),\n",
    "    x='count()'\n",
    ")"
   ]
  },
  {
   "cell_type": "code",
   "execution_count": 125,
   "metadata": {
    "execution": {
     "iopub.execute_input": "2020-04-21T19:34:57.303340Z",
     "iopub.status.busy": "2020-04-21T19:34:57.303115Z",
     "iopub.status.idle": "2020-04-21T19:34:57.306882Z",
     "shell.execute_reply": "2020-04-21T19:34:57.306151Z",
     "shell.execute_reply.started": "2020-04-21T19:34:57.303315Z"
    }
   },
   "outputs": [],
   "source": [
    "def get_args(fn_name):\n",
    "    return pandas.DataFrame.from_records(list(data[data.function == fn_name]['params'].to_dict().values()))"
   ]
  },
  {
   "cell_type": "code",
   "execution_count": 126,
   "metadata": {
    "execution": {
     "iopub.execute_input": "2020-04-21T19:34:57.979671Z",
     "iopub.status.busy": "2020-04-21T19:34:57.979481Z",
     "iopub.status.idle": "2020-04-21T19:34:57.992159Z",
     "shell.execute_reply": "2020-04-21T19:34:57.991625Z",
     "shell.execute_reply.started": "2020-04-21T19:34:57.979651Z"
    }
   },
   "outputs": [
    {
     "data": {
      "text/html": [
       "<div>\n",
       "<style scoped>\n",
       "    .dataframe tbody tr th:only-of-type {\n",
       "        vertical-align: middle;\n",
       "    }\n",
       "\n",
       "    .dataframe tbody tr th {\n",
       "        vertical-align: top;\n",
       "    }\n",
       "\n",
       "    .dataframe thead th {\n",
       "        text-align: right;\n",
       "    }\n",
       "</style>\n",
       "<table border=\"1\" class=\"dataframe\">\n",
       "  <thead>\n",
       "    <tr style=\"text-align: right;\">\n",
       "      <th></th>\n",
       "      <th>a</th>\n",
       "      <th>b</th>\n",
       "    </tr>\n",
       "  </thead>\n",
       "  <tbody>\n",
       "    <tr>\n",
       "      <th>0</th>\n",
       "      <td>{'__tp': 'numpy.ndarray', '__v': {'shape': [10], 'dtype': {'__tp': 'numpy.dtype'}}}</td>\n",
       "      <td>0</td>\n",
       "    </tr>\n",
       "    <tr>\n",
       "      <th>1</th>\n",
       "      <td>{'__tp': 'numpy.ndarray', '__v': {'shape': [10], 'dtype': {'__tp': 'numpy.dtype'}}}</td>\n",
       "      <td>{'__tp': 'numpy.ndarray', '__v': {'shape': [10], 'dtype': {'__tp': 'numpy.dtype'}}}</td>\n",
       "    </tr>\n",
       "    <tr>\n",
       "      <th>2</th>\n",
       "      <td>{'__tp': 'numpy.ndarray', '__v': {'shape': [10], 'dtype': {'__tp': 'numpy.dtype'}}}</td>\n",
       "      <td>0</td>\n",
       "    </tr>\n",
       "    <tr>\n",
       "      <th>3</th>\n",
       "      <td>{'__tp': 'numpy.ndarray', '__v': {'shape': [10], 'dtype': {'__tp': 'numpy.dtype'}}}</td>\n",
       "      <td>{'__tp': 'builtins.slice', '__v': [1, 2, None]}</td>\n",
       "    </tr>\n",
       "    <tr>\n",
       "      <th>4</th>\n",
       "      <td>{'__tp': 'numpy.ndarray', '__v': {'shape': [5, 2], 'dtype': {'__tp': 'numpy.dtype'}}}</td>\n",
       "      <td>{'__tp': 'tuple', 'value': [{'__tp': 'tuple', 'value': [1, 2, 3]}, {'__tp': 'tuple', 'value': [0, 1, 1]}]}</td>\n",
       "    </tr>\n",
       "  </tbody>\n",
       "</table>\n",
       "</div>"
      ],
      "text/plain": [
       "                                                                                       a  \\\n",
       "0    {'__tp': 'numpy.ndarray', '__v': {'shape': [10], 'dtype': {'__tp': 'numpy.dtype'}}}   \n",
       "1    {'__tp': 'numpy.ndarray', '__v': {'shape': [10], 'dtype': {'__tp': 'numpy.dtype'}}}   \n",
       "2    {'__tp': 'numpy.ndarray', '__v': {'shape': [10], 'dtype': {'__tp': 'numpy.dtype'}}}   \n",
       "3    {'__tp': 'numpy.ndarray', '__v': {'shape': [10], 'dtype': {'__tp': 'numpy.dtype'}}}   \n",
       "4  {'__tp': 'numpy.ndarray', '__v': {'shape': [5, 2], 'dtype': {'__tp': 'numpy.dtype'}}}   \n",
       "\n",
       "                                                                                                            b  \n",
       "0                                                                                                           0  \n",
       "1                         {'__tp': 'numpy.ndarray', '__v': {'shape': [10], 'dtype': {'__tp': 'numpy.dtype'}}}  \n",
       "2                                                                                                           0  \n",
       "3                                                             {'__tp': 'builtins.slice', '__v': [1, 2, None]}  \n",
       "4  {'__tp': 'tuple', 'value': [{'__tp': 'tuple', 'value': [1, 2, 3]}, {'__tp': 'tuple', 'value': [0, 1, 1]}]}  "
      ]
     },
     "execution_count": 126,
     "metadata": {},
     "output_type": "execute_result"
    }
   ],
   "source": [
    "get_args('_operator.getitem')"
   ]
  },
  {
   "cell_type": "code",
   "execution_count": 69,
   "metadata": {
    "execution": {
     "iopub.execute_input": "2020-04-21T18:51:25.688993Z",
     "iopub.status.busy": "2020-04-21T18:51:25.688766Z",
     "iopub.status.idle": "2020-04-21T18:51:25.695943Z",
     "shell.execute_reply": "2020-04-21T18:51:25.695178Z",
     "shell.execute_reply.started": "2020-04-21T18:51:25.688970Z"
    }
   },
   "outputs": [
    {
     "data": {
      "text/html": [
       "<div>\n",
       "<style scoped>\n",
       "    .dataframe tbody tr th:only-of-type {\n",
       "        vertical-align: middle;\n",
       "    }\n",
       "\n",
       "    .dataframe tbody tr th {\n",
       "        vertical-align: top;\n",
       "    }\n",
       "\n",
       "    .dataframe thead th {\n",
       "        text-align: right;\n",
       "    }\n",
       "</style>\n",
       "<table border=\"1\" class=\"dataframe\">\n",
       "  <thead>\n",
       "    <tr style=\"text-align: right;\">\n",
       "      <th></th>\n",
       "      <th>0</th>\n",
       "    </tr>\n",
       "  </thead>\n",
       "  <tbody>\n",
       "    <tr>\n",
       "      <th>0</th>\n",
       "      <td>[4, 5]</td>\n",
       "    </tr>\n",
       "  </tbody>\n",
       "</table>\n",
       "</div>"
      ],
      "text/plain": [
       "        0\n",
       "0  [4, 5]"
      ]
     },
     "execution_count": 69,
     "metadata": {},
     "output_type": "execute_result"
    }
   ],
   "source": [
    "get_types('numpy.zeros')"
   ]
  },
  {
   "cell_type": "code",
   "execution_count": 70,
   "metadata": {
    "execution": {
     "iopub.execute_input": "2020-04-21T18:51:26.195469Z",
     "iopub.status.busy": "2020-04-21T18:51:26.195240Z",
     "iopub.status.idle": "2020-04-21T18:51:26.203845Z",
     "shell.execute_reply": "2020-04-21T18:51:26.203013Z",
     "shell.execute_reply.started": "2020-04-21T18:51:26.195443Z"
    }
   },
   "outputs": [
    {
     "data": {
      "text/html": [
       "<div>\n",
       "<style scoped>\n",
       "    .dataframe tbody tr th:only-of-type {\n",
       "        vertical-align: middle;\n",
       "    }\n",
       "\n",
       "    .dataframe tbody tr th {\n",
       "        vertical-align: top;\n",
       "    }\n",
       "\n",
       "    .dataframe thead th {\n",
       "        text-align: right;\n",
       "    }\n",
       "</style>\n",
       "<table border=\"1\" class=\"dataframe\">\n",
       "  <thead>\n",
       "    <tr style=\"text-align: right;\">\n",
       "      <th></th>\n",
       "      <th>0</th>\n",
       "      <th>1</th>\n",
       "      <th>2</th>\n",
       "    </tr>\n",
       "  </thead>\n",
       "  <tbody>\n",
       "    <tr>\n",
       "      <th>0</th>\n",
       "      <td>0</td>\n",
       "      <td>2</td>\n",
       "      <td>100</td>\n",
       "    </tr>\n",
       "  </tbody>\n",
       "</table>\n",
       "</div>"
      ],
      "text/plain": [
       "   0  1    2\n",
       "0  0  2  100"
      ]
     },
     "execution_count": 70,
     "metadata": {},
     "output_type": "execute_result"
    }
   ],
   "source": [
    "get_types('numpy.linspace').head()"
   ]
  },
  {
   "cell_type": "code",
   "execution_count": null,
   "metadata": {},
   "outputs": [],
   "source": []
  }
 ],
 "metadata": {
  "kernelspec": {
   "display_name": "Python 3",
   "language": "python",
   "name": "python3"
  },
  "language_info": {
   "codemirror_mode": {
    "name": "ipython",
    "version": 3
   },
   "file_extension": ".py",
   "mimetype": "text/x-python",
   "name": "python",
   "nbconvert_exporter": "python",
   "pygments_lexer": "ipython3",
   "version": "3.8.2"
  }
 },
 "nbformat": 4,
 "nbformat_minor": 4
}
