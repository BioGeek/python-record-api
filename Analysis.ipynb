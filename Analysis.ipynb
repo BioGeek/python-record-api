{
 "cells": [
  {
   "cell_type": "code",
   "execution_count": 49,
   "metadata": {
    "collapsed": true,
    "execution": {
     "iopub.execute_input": "2020-04-22T02:44:04.915418Z",
     "iopub.status.busy": "2020-04-22T02:44:04.915139Z",
     "iopub.status.idle": "2020-04-22T02:44:22.071532Z",
     "shell.execute_reply": "2020-04-22T02:44:22.070640Z",
     "shell.execute_reply.started": "2020-04-22T02:44:04.915383Z"
    },
    "jupyter": {
     "outputs_hidden": true
    }
   },
   "outputs": [
    {
     "name": "stdout",
     "output_type": "stream",
     "text": [
      "Requirement already satisfied: pandas in /usr/local/Caskroom/miniconda/base/envs/scikit-image/lib/python3.8/site-packages (1.0.3)\n",
      "Requirement already satisfied: altair in /usr/local/Caskroom/miniconda/base/envs/scikit-image/lib/python3.8/site-packages (4.1.0)\n",
      "Requirement already satisfied: altair_data_server in /usr/local/Caskroom/miniconda/base/envs/scikit-image/lib/python3.8/site-packages (0.4.1)\n",
      "Collecting swifter\n",
      "  Using cached swifter-0.302-py3-none-any.whl (10 kB)\n",
      "Requirement already satisfied: python-dateutil>=2.6.1 in /usr/local/Caskroom/miniconda/base/envs/scikit-image/lib/python3.8/site-packages (from pandas) (2.8.1)\n",
      "Requirement already satisfied: numpy>=1.13.3 in /usr/local/Caskroom/miniconda/base/envs/scikit-image/lib/python3.8/site-packages (from pandas) (1.18.1)\n",
      "Requirement already satisfied: pytz>=2017.2 in /usr/local/Caskroom/miniconda/base/envs/scikit-image/lib/python3.8/site-packages (from pandas) (2019.3)\n",
      "Requirement already satisfied: toolz in /usr/local/Caskroom/miniconda/base/envs/scikit-image/lib/python3.8/site-packages (from altair) (0.10.0)\n",
      "Requirement already satisfied: jinja2 in /usr/local/Caskroom/miniconda/base/envs/scikit-image/lib/python3.8/site-packages (from altair) (2.11.2)\n",
      "Requirement already satisfied: jsonschema in /usr/local/Caskroom/miniconda/base/envs/scikit-image/lib/python3.8/site-packages (from altair) (3.2.0)\n",
      "Requirement already satisfied: entrypoints in /usr/local/Caskroom/miniconda/base/envs/scikit-image/lib/python3.8/site-packages (from altair) (0.3)\n",
      "Requirement already satisfied: tornado in /usr/local/Caskroom/miniconda/base/envs/scikit-image/lib/python3.8/site-packages (from altair_data_server) (6.0.4)\n",
      "Requirement already satisfied: portpicker in /usr/local/Caskroom/miniconda/base/envs/scikit-image/lib/python3.8/site-packages (from altair_data_server) (1.3.1)\n",
      "Requirement already satisfied: dask[complete]>=0.19.0 in /usr/local/Caskroom/miniconda/base/envs/scikit-image/lib/python3.8/site-packages (from swifter) (2.14.0)\n",
      "Collecting numba>=0.30.0\n",
      "  Using cached numba-0.49.0-cp38-cp38-macosx_10_14_x86_64.whl (2.1 MB)\n",
      "Collecting tqdm>=4.33.0\n",
      "  Using cached tqdm-4.45.0-py2.py3-none-any.whl (60 kB)\n",
      "Requirement already satisfied: parso>0.4.0 in /usr/local/Caskroom/miniconda/base/envs/scikit-image/lib/python3.8/site-packages (from swifter) (0.7.0)\n",
      "Requirement already satisfied: bleach>=3.1.1 in /usr/local/Caskroom/miniconda/base/envs/scikit-image/lib/python3.8/site-packages (from swifter) (3.1.4)\n",
      "Collecting ipywidgets>=7.0.0\n",
      "  Using cached ipywidgets-7.5.1-py2.py3-none-any.whl (121 kB)\n",
      "Requirement already satisfied: psutil>=5.6.6 in /usr/local/Caskroom/miniconda/base/envs/scikit-image/lib/python3.8/site-packages (from swifter) (5.7.0)\n",
      "Requirement already satisfied: six>=1.5 in /usr/local/Caskroom/miniconda/base/envs/scikit-image/lib/python3.8/site-packages (from python-dateutil>=2.6.1->pandas) (1.14.0)\n",
      "Requirement already satisfied: MarkupSafe>=0.23 in /usr/local/Caskroom/miniconda/base/envs/scikit-image/lib/python3.8/site-packages (from jinja2->altair) (1.1.1)\n",
      "Requirement already satisfied: setuptools in /usr/local/Caskroom/miniconda/base/envs/scikit-image/lib/python3.8/site-packages (from jsonschema->altair) (46.1.3.post20200325)\n",
      "Requirement already satisfied: pyrsistent>=0.14.0 in /usr/local/Caskroom/miniconda/base/envs/scikit-image/lib/python3.8/site-packages (from jsonschema->altair) (0.16.0)\n",
      "Requirement already satisfied: attrs>=17.4.0 in /usr/local/Caskroom/miniconda/base/envs/scikit-image/lib/python3.8/site-packages (from jsonschema->altair) (19.3.0)\n",
      "Requirement already satisfied: distributed>=2.0; extra == \"complete\" in /usr/local/Caskroom/miniconda/base/envs/scikit-image/lib/python3.8/site-packages (from dask[complete]>=0.19.0->swifter) (2.14.0)\n",
      "Collecting bokeh>=1.0.0; extra == \"complete\"\n",
      "  Downloading bokeh-2.0.1.tar.gz (8.6 MB)\n",
      "\u001b[K     |████████████████████████████████| 8.6 MB 8.7 MB/s eta 0:00:01\n",
      "\u001b[?25hRequirement already satisfied: fsspec>=0.6.0; extra == \"complete\" in /usr/local/Caskroom/miniconda/base/envs/scikit-image/lib/python3.8/site-packages (from dask[complete]>=0.19.0->swifter) (0.7.2)\n",
      "Requirement already satisfied: partd>=0.3.10; extra == \"complete\" in /usr/local/Caskroom/miniconda/base/envs/scikit-image/lib/python3.8/site-packages (from dask[complete]>=0.19.0->swifter) (1.1.0)\n",
      "Requirement already satisfied: PyYaml; extra == \"complete\" in /usr/local/Caskroom/miniconda/base/envs/scikit-image/lib/python3.8/site-packages (from dask[complete]>=0.19.0->swifter) (5.3.1)\n",
      "Requirement already satisfied: cloudpickle>=0.2.2; extra == \"complete\" in /usr/local/Caskroom/miniconda/base/envs/scikit-image/lib/python3.8/site-packages (from dask[complete]>=0.19.0->swifter) (1.3.0)\n",
      "Collecting llvmlite<=0.33.0.dev0,>=0.31.0.dev0\n",
      "  Using cached llvmlite-0.32.0-cp38-cp38-macosx_10_9_x86_64.whl (15.9 MB)\n",
      "Requirement already satisfied: webencodings in /usr/local/Caskroom/miniconda/base/envs/scikit-image/lib/python3.8/site-packages (from bleach>=3.1.1->swifter) (0.5.1)\n",
      "Collecting widgetsnbextension~=3.5.0\n",
      "  Using cached widgetsnbextension-3.5.1-py2.py3-none-any.whl (2.2 MB)\n",
      "Requirement already satisfied: traitlets>=4.3.1 in /usr/local/Caskroom/miniconda/base/envs/scikit-image/lib/python3.8/site-packages (from ipywidgets>=7.0.0->swifter) (4.3.3)\n",
      "Requirement already satisfied: ipython>=4.0.0; python_version >= \"3.3\" in /usr/local/Caskroom/miniconda/base/envs/scikit-image/lib/python3.8/site-packages (from ipywidgets>=7.0.0->swifter) (7.13.0)\n",
      "Requirement already satisfied: nbformat>=4.2.0 in /usr/local/Caskroom/miniconda/base/envs/scikit-image/lib/python3.8/site-packages (from ipywidgets>=7.0.0->swifter) (5.0.4)\n",
      "Requirement already satisfied: ipykernel>=4.5.1 in /usr/local/Caskroom/miniconda/base/envs/scikit-image/lib/python3.8/site-packages (from ipywidgets>=7.0.0->swifter) (5.2.0)\n",
      "Requirement already satisfied: zict>=0.1.3 in /usr/local/Caskroom/miniconda/base/envs/scikit-image/lib/python3.8/site-packages (from distributed>=2.0; extra == \"complete\"->dask[complete]>=0.19.0->swifter) (2.0.0)\n",
      "Requirement already satisfied: sortedcontainers!=2.0.0,!=2.0.1 in /usr/local/Caskroom/miniconda/base/envs/scikit-image/lib/python3.8/site-packages (from distributed>=2.0; extra == \"complete\"->dask[complete]>=0.19.0->swifter) (2.1.0)\n",
      "Requirement already satisfied: tblib>=1.6.0 in /usr/local/Caskroom/miniconda/base/envs/scikit-image/lib/python3.8/site-packages (from distributed>=2.0; extra == \"complete\"->dask[complete]>=0.19.0->swifter) (1.6.0)\n",
      "Requirement already satisfied: click>=6.6 in /usr/local/Caskroom/miniconda/base/envs/scikit-image/lib/python3.8/site-packages (from distributed>=2.0; extra == \"complete\"->dask[complete]>=0.19.0->swifter) (7.1.1)\n",
      "Requirement already satisfied: msgpack>=0.6.0 in /usr/local/Caskroom/miniconda/base/envs/scikit-image/lib/python3.8/site-packages (from distributed>=2.0; extra == \"complete\"->dask[complete]>=0.19.0->swifter) (1.0.0)\n",
      "Requirement already satisfied: pillow>=4.0 in /usr/local/Caskroom/miniconda/base/envs/scikit-image/lib/python3.8/site-packages (from bokeh>=1.0.0; extra == \"complete\"->dask[complete]>=0.19.0->swifter) (6.2.1)\n",
      "Requirement already satisfied: packaging>=16.8 in /usr/local/Caskroom/miniconda/base/envs/scikit-image/lib/python3.8/site-packages (from bokeh>=1.0.0; extra == \"complete\"->dask[complete]>=0.19.0->swifter) (20.1)\n",
      "Requirement already satisfied: typing_extensions>=3.7.4 in /usr/local/Caskroom/miniconda/base/envs/scikit-image/lib/python3.8/site-packages (from bokeh>=1.0.0; extra == \"complete\"->dask[complete]>=0.19.0->swifter) (3.7.4.2)\n",
      "Requirement already satisfied: locket in /usr/local/Caskroom/miniconda/base/envs/scikit-image/lib/python3.8/site-packages (from partd>=0.3.10; extra == \"complete\"->dask[complete]>=0.19.0->swifter) (0.2.0)\n",
      "Requirement already satisfied: notebook>=4.4.1 in /usr/local/Caskroom/miniconda/base/envs/scikit-image/lib/python3.8/site-packages (from widgetsnbextension~=3.5.0->ipywidgets>=7.0.0->swifter) (6.0.3)\n",
      "Requirement already satisfied: decorator in /usr/local/Caskroom/miniconda/base/envs/scikit-image/lib/python3.8/site-packages (from traitlets>=4.3.1->ipywidgets>=7.0.0->swifter) (4.4.2)\n",
      "Requirement already satisfied: ipython-genutils in /usr/local/Caskroom/miniconda/base/envs/scikit-image/lib/python3.8/site-packages (from traitlets>=4.3.1->ipywidgets>=7.0.0->swifter) (0.2.0)\n",
      "Requirement already satisfied: prompt-toolkit!=3.0.0,!=3.0.1,<3.1.0,>=2.0.0 in /usr/local/Caskroom/miniconda/base/envs/scikit-image/lib/python3.8/site-packages (from ipython>=4.0.0; python_version >= \"3.3\"->ipywidgets>=7.0.0->swifter) (3.0.5)\n",
      "Requirement already satisfied: pygments in /usr/local/Caskroom/miniconda/base/envs/scikit-image/lib/python3.8/site-packages (from ipython>=4.0.0; python_version >= \"3.3\"->ipywidgets>=7.0.0->swifter) (2.6.1)\n",
      "Requirement already satisfied: jedi>=0.10 in /usr/local/Caskroom/miniconda/base/envs/scikit-image/lib/python3.8/site-packages (from ipython>=4.0.0; python_version >= \"3.3\"->ipywidgets>=7.0.0->swifter) (0.17.0)\n",
      "Requirement already satisfied: pickleshare in /usr/local/Caskroom/miniconda/base/envs/scikit-image/lib/python3.8/site-packages (from ipython>=4.0.0; python_version >= \"3.3\"->ipywidgets>=7.0.0->swifter) (0.7.5)\n",
      "Requirement already satisfied: pexpect; sys_platform != \"win32\" in /usr/local/Caskroom/miniconda/base/envs/scikit-image/lib/python3.8/site-packages (from ipython>=4.0.0; python_version >= \"3.3\"->ipywidgets>=7.0.0->swifter) (4.8.0)\n",
      "Requirement already satisfied: appnope; sys_platform == \"darwin\" in /usr/local/Caskroom/miniconda/base/envs/scikit-image/lib/python3.8/site-packages (from ipython>=4.0.0; python_version >= \"3.3\"->ipywidgets>=7.0.0->swifter) (0.1.0)\n",
      "Requirement already satisfied: backcall in /usr/local/Caskroom/miniconda/base/envs/scikit-image/lib/python3.8/site-packages (from ipython>=4.0.0; python_version >= \"3.3\"->ipywidgets>=7.0.0->swifter) (0.1.0)\n",
      "Requirement already satisfied: jupyter-core in /usr/local/Caskroom/miniconda/base/envs/scikit-image/lib/python3.8/site-packages (from nbformat>=4.2.0->ipywidgets>=7.0.0->swifter) (4.6.3)\n",
      "Requirement already satisfied: jupyter-client in /usr/local/Caskroom/miniconda/base/envs/scikit-image/lib/python3.8/site-packages (from ipykernel>=4.5.1->ipywidgets>=7.0.0->swifter) (6.1.3)\n",
      "Requirement already satisfied: heapdict in /usr/local/Caskroom/miniconda/base/envs/scikit-image/lib/python3.8/site-packages (from zict>=0.1.3->distributed>=2.0; extra == \"complete\"->dask[complete]>=0.19.0->swifter) (1.0.1)\n",
      "Requirement already satisfied: pyparsing>=2.0.2 in /usr/local/Caskroom/miniconda/base/envs/scikit-image/lib/python3.8/site-packages (from packaging>=16.8->bokeh>=1.0.0; extra == \"complete\"->dask[complete]>=0.19.0->swifter) (2.4.7)\n",
      "Requirement already satisfied: pyzmq>=17 in /usr/local/Caskroom/miniconda/base/envs/scikit-image/lib/python3.8/site-packages (from notebook>=4.4.1->widgetsnbextension~=3.5.0->ipywidgets>=7.0.0->swifter) (19.0.0)\n",
      "Requirement already satisfied: terminado>=0.8.1 in /usr/local/Caskroom/miniconda/base/envs/scikit-image/lib/python3.8/site-packages (from notebook>=4.4.1->widgetsnbextension~=3.5.0->ipywidgets>=7.0.0->swifter) (0.8.3)\n",
      "Requirement already satisfied: prometheus-client in /usr/local/Caskroom/miniconda/base/envs/scikit-image/lib/python3.8/site-packages (from notebook>=4.4.1->widgetsnbextension~=3.5.0->ipywidgets>=7.0.0->swifter) (0.7.1)\n",
      "Requirement already satisfied: nbconvert in /usr/local/Caskroom/miniconda/base/envs/scikit-image/lib/python3.8/site-packages (from notebook>=4.4.1->widgetsnbextension~=3.5.0->ipywidgets>=7.0.0->swifter) (5.6.1)\n",
      "Requirement already satisfied: Send2Trash in /usr/local/Caskroom/miniconda/base/envs/scikit-image/lib/python3.8/site-packages (from notebook>=4.4.1->widgetsnbextension~=3.5.0->ipywidgets>=7.0.0->swifter) (1.5.0)\n",
      "Requirement already satisfied: wcwidth in /usr/local/Caskroom/miniconda/base/envs/scikit-image/lib/python3.8/site-packages (from prompt-toolkit!=3.0.0,!=3.0.1,<3.1.0,>=2.0.0->ipython>=4.0.0; python_version >= \"3.3\"->ipywidgets>=7.0.0->swifter) (0.1.9)\n",
      "Requirement already satisfied: ptyprocess>=0.5 in /usr/local/Caskroom/miniconda/base/envs/scikit-image/lib/python3.8/site-packages (from pexpect; sys_platform != \"win32\"->ipython>=4.0.0; python_version >= \"3.3\"->ipywidgets>=7.0.0->swifter) (0.6.0)\n",
      "Requirement already satisfied: defusedxml in /usr/local/Caskroom/miniconda/base/envs/scikit-image/lib/python3.8/site-packages (from nbconvert->notebook>=4.4.1->widgetsnbextension~=3.5.0->ipywidgets>=7.0.0->swifter) (0.6.0)\n",
      "Requirement already satisfied: mistune<2,>=0.8.1 in /usr/local/Caskroom/miniconda/base/envs/scikit-image/lib/python3.8/site-packages (from nbconvert->notebook>=4.4.1->widgetsnbextension~=3.5.0->ipywidgets>=7.0.0->swifter) (0.8.4)\n",
      "Requirement already satisfied: pandocfilters>=1.4.1 in /usr/local/Caskroom/miniconda/base/envs/scikit-image/lib/python3.8/site-packages (from nbconvert->notebook>=4.4.1->widgetsnbextension~=3.5.0->ipywidgets>=7.0.0->swifter) (1.4.2)\n",
      "Requirement already satisfied: testpath in /usr/local/Caskroom/miniconda/base/envs/scikit-image/lib/python3.8/site-packages (from nbconvert->notebook>=4.4.1->widgetsnbextension~=3.5.0->ipywidgets>=7.0.0->swifter) (0.4.4)\n",
      "Building wheels for collected packages: bokeh\n",
      "  Building wheel for bokeh (setup.py) ... \u001b[?25ldone\n",
      "\u001b[?25h  Created wheel for bokeh: filename=bokeh-2.0.1-py3-none-any.whl size=9080029 sha256=08145f8b194e6227ed8e08a4f02903b20fe9a3cc4862703164a2baf72f4030ca\n",
      "  Stored in directory: /Users/saul/Library/Caches/pip/wheels/03/5c/a3/49a9ae757ea6918039ffeba015622af9453f91d1f7a7b59be6\n",
      "Successfully built bokeh\n",
      "Installing collected packages: llvmlite, numba, tqdm, widgetsnbextension, ipywidgets, swifter, bokeh\n",
      "Successfully installed bokeh-2.0.1 ipywidgets-7.5.1 llvmlite-0.32.0 numba-0.49.0 swifter-0.302 tqdm-4.45.0 widgetsnbextension-3.5.1\n"
     ]
    }
   ],
   "source": [
    "!pip install pandas altair altair_data_server swifter"
   ]
  },
  {
   "cell_type": "code",
   "execution_count": 1,
   "metadata": {
    "execution": {
     "iopub.execute_input": "2020-04-23T01:45:32.190145Z",
     "iopub.status.busy": "2020-04-23T01:45:32.189957Z",
     "iopub.status.idle": "2020-04-23T01:45:40.835382Z",
     "shell.execute_reply": "2020-04-23T01:45:40.834810Z",
     "shell.execute_reply.started": "2020-04-23T01:45:32.190124Z"
    }
   },
   "outputs": [],
   "source": [
    "import pandas\n",
    "import altair as alt\n",
    "import pandas.io.json\n",
    "import swifter\n",
    "# import dask.dataframe\n",
    "# from dask.distributed import Client\n",
    "\n",
    "# https://github.com/pandas-dev/pandas/issues/26068#issuecomment-550900208\n",
    "import json\n",
    "pandas.io.json._json.loads = lambda s, *a, **kw: json.loads(s)\n",
    "\n",
    "# dask.config.set({'temporary_directory': '/tmp'})\n",
    "alt.data_transformers.enable('data_server')\n",
    "pandas.set_option('max_colwidth', 200)\n",
    "\n",
    "# client = Client()\n",
    "# client"
   ]
  },
  {
   "cell_type": "code",
   "execution_count": 2,
   "metadata": {
    "execution": {
     "iopub.execute_input": "2020-04-23T01:45:42.549164Z",
     "iopub.status.busy": "2020-04-23T01:45:42.548929Z",
     "iopub.status.idle": "2020-04-23T01:47:07.805594Z",
     "shell.execute_reply": "2020-04-23T01:47:07.803929Z",
     "shell.execute_reply.started": "2020-04-23T01:45:42.549132Z"
    }
   },
   "outputs": [],
   "source": [
    "# data = dask.dataframe.read_json(\n",
    "#     'skimage.jsonl',\n",
    "#     blocksize=1000 * 1024,\n",
    "#     meta=pandas.DataFrame.from_dict({\"function\": [\"str\"], \"params\": [{}]})\n",
    "# )\n",
    "# data\n",
    "data = pandas.read_json('skimage.jsonl', lines=True)"
   ]
  },
  {
   "cell_type": "code",
   "execution_count": 3,
   "metadata": {
    "execution": {
     "iopub.execute_input": "2020-04-23T01:48:53.092349Z",
     "iopub.status.busy": "2020-04-23T01:48:53.092067Z",
     "iopub.status.idle": "2020-04-23T01:48:54.463685Z",
     "shell.execute_reply": "2020-04-23T01:48:54.462958Z",
     "shell.execute_reply.started": "2020-04-23T01:48:53.092290Z"
    }
   },
   "outputs": [
    {
     "name": "stdout",
     "output_type": "stream",
     "text": [
      "<class 'pandas.core.frame.DataFrame'>\n",
      "Index: 10293118 entries, builtins.getattr to builtins.getattr\n",
      "Data columns (total 1 columns):\n",
      " #   Column  Dtype \n",
      "---  ------  ----- \n",
      " 0   params  object\n",
      "dtypes: object(1)\n",
      "memory usage: 157.1+ MB\n"
     ]
    },
    {
     "data": {
      "text/html": [
       "<div>\n",
       "<style scoped>\n",
       "    .dataframe tbody tr th:only-of-type {\n",
       "        vertical-align: middle;\n",
       "    }\n",
       "\n",
       "    .dataframe tbody tr th {\n",
       "        vertical-align: top;\n",
       "    }\n",
       "\n",
       "    .dataframe thead th {\n",
       "        text-align: right;\n",
       "    }\n",
       "</style>\n",
       "<table border=\"1\" class=\"dataframe\">\n",
       "  <thead>\n",
       "    <tr style=\"text-align: right;\">\n",
       "      <th></th>\n",
       "      <th>params</th>\n",
       "    </tr>\n",
       "    <tr>\n",
       "      <th>function</th>\n",
       "      <th></th>\n",
       "    </tr>\n",
       "  </thead>\n",
       "  <tbody>\n",
       "    <tr>\n",
       "      <th>builtins.getattr</th>\n",
       "      <td>{'0': {'t': 'builtins.module', 'v': 'numpy'}, '1': 'byte'}</td>\n",
       "    </tr>\n",
       "    <tr>\n",
       "      <th>builtins.getattr</th>\n",
       "      <td>{'0': {'t': 'builtins.module', 'v': 'numpy'}, '1': 'ubyte'}</td>\n",
       "    </tr>\n",
       "    <tr>\n",
       "      <th>builtins.getattr</th>\n",
       "      <td>{'0': {'t': 'builtins.module', 'v': 'numpy'}, '1': 'short'}</td>\n",
       "    </tr>\n",
       "    <tr>\n",
       "      <th>builtins.getattr</th>\n",
       "      <td>{'0': {'t': 'builtins.module', 'v': 'numpy'}, '1': 'ushort'}</td>\n",
       "    </tr>\n",
       "    <tr>\n",
       "      <th>builtins.getattr</th>\n",
       "      <td>{'0': {'t': 'builtins.module', 'v': 'numpy'}, '1': 'intc'}</td>\n",
       "    </tr>\n",
       "    <tr>\n",
       "      <th>...</th>\n",
       "      <td>...</td>\n",
       "    </tr>\n",
       "    <tr>\n",
       "      <th>builtins.getattr</th>\n",
       "      <td>{'0': {'t': 'numpy.ndarray', 'v': [[4], 'uint8']}, '1': 'ndim'}</td>\n",
       "    </tr>\n",
       "    <tr>\n",
       "      <th>numpy.arange</th>\n",
       "      <td>{'0': 8}</td>\n",
       "    </tr>\n",
       "    <tr>\n",
       "      <th>numpy.ndarray.reshape</th>\n",
       "      <td>{'0': {'t': 'numpy.ndarray', 'v': [[8], 'int64']}, '1': {'t': 'tuple', 'v': [2, 2, 2]}}</td>\n",
       "    </tr>\n",
       "    <tr>\n",
       "      <th>builtins.getattr</th>\n",
       "      <td>{'0': {'t': 'numpy.ndarray', 'v': [[2, 2, 2], 'int64']}, '1': 'ndim'}</td>\n",
       "    </tr>\n",
       "    <tr>\n",
       "      <th>builtins.getattr</th>\n",
       "      <td>{'0': {'t': 'numpy.ndarray', 'v': [[2, 2, 2], 'int64']}, '1': 'ndim'}</td>\n",
       "    </tr>\n",
       "  </tbody>\n",
       "</table>\n",
       "<p>10293118 rows × 1 columns</p>\n",
       "</div>"
      ],
      "text/plain": [
       "                                                                                                        params\n",
       "function                                                                                                      \n",
       "builtins.getattr                                    {'0': {'t': 'builtins.module', 'v': 'numpy'}, '1': 'byte'}\n",
       "builtins.getattr                                   {'0': {'t': 'builtins.module', 'v': 'numpy'}, '1': 'ubyte'}\n",
       "builtins.getattr                                   {'0': {'t': 'builtins.module', 'v': 'numpy'}, '1': 'short'}\n",
       "builtins.getattr                                  {'0': {'t': 'builtins.module', 'v': 'numpy'}, '1': 'ushort'}\n",
       "builtins.getattr                                    {'0': {'t': 'builtins.module', 'v': 'numpy'}, '1': 'intc'}\n",
       "...                                                                                                        ...\n",
       "builtins.getattr                               {'0': {'t': 'numpy.ndarray', 'v': [[4], 'uint8']}, '1': 'ndim'}\n",
       "numpy.arange                                                                                          {'0': 8}\n",
       "numpy.ndarray.reshape  {'0': {'t': 'numpy.ndarray', 'v': [[8], 'int64']}, '1': {'t': 'tuple', 'v': [2, 2, 2]}}\n",
       "builtins.getattr                         {'0': {'t': 'numpy.ndarray', 'v': [[2, 2, 2], 'int64']}, '1': 'ndim'}\n",
       "builtins.getattr                         {'0': {'t': 'numpy.ndarray', 'v': [[2, 2, 2], 'int64']}, '1': 'ndim'}\n",
       "\n",
       "[10293118 rows x 1 columns]"
      ]
     },
     "execution_count": 3,
     "metadata": {},
     "output_type": "execute_result"
    }
   ],
   "source": [
    "data = data.set_index('function')\n",
    "data.info()\n",
    "data"
   ]
  },
  {
   "cell_type": "code",
   "execution_count": 8,
   "metadata": {
    "execution": {
     "iopub.execute_input": "2020-04-23T01:51:45.217840Z",
     "iopub.status.busy": "2020-04-23T01:51:45.217632Z",
     "iopub.status.idle": "2020-04-23T01:51:45.221688Z",
     "shell.execute_reply": "2020-04-23T01:51:45.220982Z",
     "shell.execute_reply.started": "2020-04-23T01:51:45.217817Z"
    }
   },
   "outputs": [],
   "source": [
    "counts = data.groupby('function').count()\n",
    "counts['occurance'] = counts['params'] / counts['params'].sum()"
   ]
  },
  {
   "cell_type": "code",
   "execution_count": 11,
   "metadata": {
    "execution": {
     "iopub.execute_input": "2020-04-23T01:52:54.946826Z",
     "iopub.status.busy": "2020-04-23T01:52:54.946602Z",
     "iopub.status.idle": "2020-04-23T01:52:54.971840Z",
     "shell.execute_reply": "2020-04-23T01:52:54.971237Z",
     "shell.execute_reply.started": "2020-04-23T01:52:54.946801Z"
    }
   },
   "outputs": [
    {
     "data": {
      "text/html": [
       "\n",
       "<div id=\"altair-viz-1452a86009944b7584b40fb9b9924a90\"></div>\n",
       "<script type=\"text/javascript\">\n",
       "  (function(spec, embedOpt){\n",
       "    let outputDiv = document.currentScript.previousElementSibling;\n",
       "    if (outputDiv.id !== \"altair-viz-1452a86009944b7584b40fb9b9924a90\") {\n",
       "      outputDiv = document.getElementById(\"altair-viz-1452a86009944b7584b40fb9b9924a90\");\n",
       "    }\n",
       "    const paths = {\n",
       "      \"vega\": \"https://cdn.jsdelivr.net/npm//vega@5?noext\",\n",
       "      \"vega-lib\": \"https://cdn.jsdelivr.net/npm//vega-lib?noext\",\n",
       "      \"vega-lite\": \"https://cdn.jsdelivr.net/npm//vega-lite@4.8.1?noext\",\n",
       "      \"vega-embed\": \"https://cdn.jsdelivr.net/npm//vega-embed@6?noext\",\n",
       "    };\n",
       "\n",
       "    function loadScript(lib) {\n",
       "      return new Promise(function(resolve, reject) {\n",
       "        var s = document.createElement('script');\n",
       "        s.src = paths[lib];\n",
       "        s.async = true;\n",
       "        s.onload = () => resolve(paths[lib]);\n",
       "        s.onerror = () => reject(`Error loading script: ${paths[lib]}`);\n",
       "        document.getElementsByTagName(\"head\")[0].appendChild(s);\n",
       "      });\n",
       "    }\n",
       "\n",
       "    function showError(err) {\n",
       "      outputDiv.innerHTML = `<div class=\"error\" style=\"color:red;\">${err}</div>`;\n",
       "      throw err;\n",
       "    }\n",
       "\n",
       "    function displayChart(vegaEmbed) {\n",
       "      vegaEmbed(outputDiv, spec, embedOpt)\n",
       "        .catch(err => showError(`Javascript Error: ${err.message}<br>This usually means there's a typo in your chart specification. See the javascript console for the full traceback.`));\n",
       "    }\n",
       "\n",
       "    if(typeof define === \"function\" && define.amd) {\n",
       "      requirejs.config({paths});\n",
       "      require([\"vega-embed\"], displayChart, err => showError(`Error loading script: ${err.message}`));\n",
       "    } else if (typeof vegaEmbed === \"function\") {\n",
       "      displayChart(vegaEmbed);\n",
       "    } else {\n",
       "      loadScript(\"vega\")\n",
       "        .then(() => loadScript(\"vega-lite\"))\n",
       "        .then(() => loadScript(\"vega-embed\"))\n",
       "        .catch(showError)\n",
       "        .then(() => displayChart(vegaEmbed));\n",
       "    }\n",
       "  })({\"config\": {\"view\": {\"continuousWidth\": 400, \"continuousHeight\": 300}}, \"data\": {\"url\": \"http://localhost:24308/e6f5effa57912878e0300127fd8d4d22.json\"}, \"mark\": \"bar\", \"encoding\": {\"tooltip\": [{\"type\": \"nominal\", \"field\": \"function\"}, {\"type\": \"quantitative\", \"field\": \"occurance\"}, {\"type\": \"quantitative\", \"field\": \"params\"}], \"x\": {\"type\": \"quantitative\", \"axis\": {\"format\": \"%\"}, \"field\": \"occurance\", \"scale\": {\"type\": \"log\"}}, \"y\": {\"type\": \"nominal\", \"field\": \"function\", \"sort\": \"-x\"}}, \"$schema\": \"https://vega.github.io/schema/vega-lite/v4.8.1.json\"}, {\"mode\": \"vega-lite\"});\n",
       "</script>"
      ],
      "text/plain": [
       "alt.Chart(...)"
      ]
     },
     "execution_count": 11,
     "metadata": {},
     "output_type": "execute_result"
    }
   ],
   "source": [
    "alt.Chart(counts.reset_index()).mark_bar().encode(\n",
    "    y=alt.Y('function:N', sort='-x'),\n",
    "    x=alt.X('occurance:Q', axis=alt.Axis(format='%'), scale=alt.Scale(type='log')),\n",
    "    tooltip=['function', 'occurance', 'params']\n",
    ")"
   ]
  },
  {
   "cell_type": "code",
   "execution_count": null,
   "metadata": {
    "execution": {
     "iopub.execute_input": "2020-04-23T01:53:40.156883Z",
     "iopub.status.busy": "2020-04-23T01:53:40.156700Z"
    }
   },
   "outputs": [
    {
     "name": "stderr",
     "output_type": "stream",
     "text": [
      "/usr/local/Caskroom/miniconda/base/envs/scikit-image/lib/python3.8/site-packages/tqdm/std.py:666: FutureWarning: The Panel class is removed from pandas. Accessing it from the top-level namespace will also be removed in the next version\n",
      "  from pandas import Panel\n"
     ]
    },
    {
     "data": {
      "application/vnd.jupyter.widget-view+json": {
       "model_id": "c5b3854d16024222a099db0808b74935",
       "version_major": 2,
       "version_minor": 0
      },
      "text/plain": [
       "HBox(children=(FloatProgress(value=0.0, description='Pandas Apply', max=1743491.0, style=ProgressStyle(descrip…"
      ]
     },
     "metadata": {},
     "output_type": "display_data"
    }
   ],
   "source": [
    "getitem = get_args('_operator.getitem')"
   ]
  },
  {
   "cell_type": "code",
   "execution_count": 13,
   "metadata": {
    "execution": {
     "iopub.execute_input": "2020-04-23T01:53:27.936508Z",
     "iopub.status.busy": "2020-04-23T01:53:27.936286Z",
     "iopub.status.idle": "2020-04-23T01:53:27.942989Z",
     "shell.execute_reply": "2020-04-23T01:53:27.942353Z",
     "shell.execute_reply.started": "2020-04-23T01:53:27.936484Z"
    }
   },
   "outputs": [],
   "source": [
    "def stringify(v):\n",
    "    \"\"\"\n",
    "    Turn a complex type into a simpler string, yes with less data, but easier to group by.\n",
    "    \"\"\"\n",
    "    if isinstance(v, int):\n",
    "        return \"int\"\n",
    "    if isinstance(v, str):\n",
    "        return str(repr(v))\n",
    "    if isinstance(v, float):\n",
    "        return \"float\"\n",
    "    if isinstance(v, list):\n",
    "        return f\"List[{stringify(v[0]) if v else 'Any'}]\"\n",
    "    if v is None:\n",
    "        return 'None'\n",
    "    t = v['t']\n",
    "    if t == 'builtins.type':\n",
    "        return f\"Type[{v['v']}]\"\n",
    "    if t == 'tuple':\n",
    "        return f\"Tuple[{', '.join(stringify(a) for a in v['v'])}]\"\n",
    "    return t\n",
    "        "
   ]
  },
  {
   "cell_type": "code",
   "execution_count": 14,
   "metadata": {
    "execution": {
     "iopub.execute_input": "2020-04-23T01:53:28.187209Z",
     "iopub.status.busy": "2020-04-23T01:53:28.187003Z",
     "iopub.status.idle": "2020-04-23T01:53:28.190772Z",
     "shell.execute_reply": "2020-04-23T01:53:28.190252Z",
     "shell.execute_reply.started": "2020-04-23T01:53:28.187186Z"
    }
   },
   "outputs": [],
   "source": [
    "def get_args(fn_name):\n",
    "    return data[data.index == fn_name].swifter.apply(\n",
    "        lambda x: pandas.Series({k: stringify(v) for k, v in x['params'].items()}),\n",
    "        axis=1\n",
    "    )"
   ]
  },
  {
   "cell_type": "code",
   "execution_count": 15,
   "metadata": {
    "execution": {
     "iopub.execute_input": "2020-04-23T01:53:28.559105Z",
     "iopub.status.busy": "2020-04-23T01:53:28.558891Z",
     "iopub.status.idle": "2020-04-23T01:53:28.565377Z",
     "shell.execute_reply": "2020-04-23T01:53:28.564739Z",
     "shell.execute_reply.started": "2020-04-23T01:53:28.559080Z"
    }
   },
   "outputs": [],
   "source": [
    "def make_arg_chart(df):\n",
    "    selections = [alt.selection_multi(fields=[col]) for col in df.columns]\n",
    "    charts = []\n",
    "    for i, col in enumerate(df.columns):\n",
    "        new_chart = alt.Chart(df).mark_bar().encode(\n",
    "            alt.Y(col, sort='-x', type='nominal'),\n",
    "            alt.X('count()', scale=alt.Scale(type='log')),\n",
    "            color=alt.condition(selections[i], alt.value('lightblue'), alt.value('lightgray'))\n",
    "        ).add_selection(\n",
    "            selections[i]\n",
    "        )\n",
    "        for other_i, selection in enumerate(selections):\n",
    "            # don't filter on my own selection\n",
    "            if other_i == i:\n",
    "                continue\n",
    "            new_chart = new_chart.transform_filter(selection)\n",
    "        charts.append(new_chart)\n",
    "    return alt.concat(*charts, columns=3)"
   ]
  },
  {
   "cell_type": "code",
   "execution_count": 16,
   "metadata": {
    "execution": {
     "iopub.execute_input": "2020-04-23T01:53:29.380685Z",
     "iopub.status.busy": "2020-04-23T01:53:29.380512Z",
     "iopub.status.idle": "2020-04-23T01:53:29.383459Z",
     "shell.execute_reply": "2020-04-23T01:53:29.382911Z",
     "shell.execute_reply.started": "2020-04-23T01:53:29.380666Z"
    }
   },
   "outputs": [],
   "source": [
    "def inspect_functionn(fn_name):\n",
    "    df = get_args(fn_name)\n",
    "    return make_arg_chart(df)"
   ]
  }
 ],
 "metadata": {
  "kernelspec": {
   "display_name": "Python 3",
   "language": "python",
   "name": "python3"
  },
  "language_info": {
   "codemirror_mode": {
    "name": "ipython",
    "version": 3
   },
   "file_extension": ".py",
   "mimetype": "text/x-python",
   "name": "python",
   "nbconvert_exporter": "python",
   "pygments_lexer": "ipython3",
   "version": "3.8.2"
  }
 },
 "nbformat": 4,
 "nbformat_minor": 4
}
