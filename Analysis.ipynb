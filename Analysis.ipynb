{
 "cells": [
  {
   "cell_type": "code",
   "execution_count": 14,
   "metadata": {
    "execution": {
     "iopub.execute_input": "2020-04-23T15:13:11.964686Z",
     "iopub.status.busy": "2020-04-23T15:13:11.964419Z",
     "iopub.status.idle": "2020-04-23T15:13:11.967990Z",
     "shell.execute_reply": "2020-04-23T15:13:11.967213Z",
     "shell.execute_reply.started": "2020-04-23T15:13:11.964656Z"
    }
   },
   "outputs": [],
   "source": [
    "import sys"
   ]
  },
  {
   "cell_type": "code",
   "execution_count": 17,
   "metadata": {
    "execution": {
     "iopub.execute_input": "2020-04-23T15:13:29.038422Z",
     "iopub.status.busy": "2020-04-23T15:13:29.038153Z",
     "iopub.status.idle": "2020-04-23T15:13:29.043438Z",
     "shell.execute_reply": "2020-04-23T15:13:29.042556Z",
     "shell.execute_reply.started": "2020-04-23T15:13:29.038392Z"
    }
   },
   "outputs": [
    {
     "data": {
      "text/plain": [
       "'numpy'"
      ]
     },
     "execution_count": 17,
     "metadata": {},
     "output_type": "execute_result"
    }
   ],
   "source": [
    "sys.modules['numpy'].__dict__['__name__']"
   ]
  },
  {
   "cell_type": "code",
   "execution_count": 2,
   "metadata": {
    "execution": {
     "iopub.execute_input": "2020-04-23T15:06:40.864329Z",
     "iopub.status.busy": "2020-04-23T15:06:40.864043Z",
     "iopub.status.idle": "2020-04-23T15:06:43.902663Z",
     "shell.execute_reply": "2020-04-23T15:06:43.901930Z",
     "shell.execute_reply.started": "2020-04-23T15:06:40.864296Z"
    }
   },
   "outputs": [],
   "source": [
    "import pandas\n",
    "import altair as alt\n",
    "import pandas.io.json\n",
    "import swifter\n",
    "# import dask.dataframe\n",
    "# from dask.distributed import Client\n",
    "\n",
    "# https://github.com/pandas-dev/pandas/issues/26068#issuecomment-550900208\n",
    "import json\n",
    "pandas.io.json._json.loads = lambda s, *a, **kw: json.loads(s)\n",
    "\n",
    "# dask.config.set({'temporary_directory': '/tmp'})\n",
    "alt.data_transformers.enable('data_server')\n",
    "pandas.set_option('max_colwidth', 200)\n",
    "\n",
    "# client = Client()\n",
    "# client"
   ]
  },
  {
   "cell_type": "code",
   "execution_count": 18,
   "metadata": {
    "execution": {
     "iopub.execute_input": "2020-04-23T19:15:37.362240Z",
     "iopub.status.busy": "2020-04-23T19:15:37.362017Z",
     "iopub.status.idle": "2020-04-23T19:17:29.662845Z",
     "shell.execute_reply": "2020-04-23T19:17:29.662018Z",
     "shell.execute_reply.started": "2020-04-23T19:15:37.362216Z"
    }
   },
   "outputs": [],
   "source": [
    "# data = dask.dataframe.read_json(\n",
    "#     'skimage.jsonl',\n",
    "#     blocksize=1000 * 1024,\n",
    "#     meta=pandas.DataFrame.from_dict({\"function\": [\"str\"], \"params\": [{}]})\n",
    "# )\n",
    "# data\n",
    "data = pandas.read_json('data/raw/skimage.jsonl', lines=True)"
   ]
  },
  {
   "cell_type": "code",
   "execution_count": 19,
   "metadata": {
    "execution": {
     "iopub.execute_input": "2020-04-23T19:17:34.973972Z",
     "iopub.status.busy": "2020-04-23T19:17:34.973738Z",
     "iopub.status.idle": "2020-04-23T19:17:36.116211Z",
     "shell.execute_reply": "2020-04-23T19:17:36.115415Z",
     "shell.execute_reply.started": "2020-04-23T19:17:34.973946Z"
    }
   },
   "outputs": [
    {
     "name": "stdout",
     "output_type": "stream",
     "text": [
      "<class 'pandas.core.frame.DataFrame'>\n",
      "Index: 10293118 entries, builtins.getattr to builtins.getattr\n",
      "Data columns (total 1 columns):\n",
      " #   Column  Dtype \n",
      "---  ------  ----- \n",
      " 0   params  object\n",
      "dtypes: object(1)\n",
      "memory usage: 157.1+ MB\n"
     ]
    },
    {
     "data": {
      "text/html": [
       "<div>\n",
       "<style scoped>\n",
       "    .dataframe tbody tr th:only-of-type {\n",
       "        vertical-align: middle;\n",
       "    }\n",
       "\n",
       "    .dataframe tbody tr th {\n",
       "        vertical-align: top;\n",
       "    }\n",
       "\n",
       "    .dataframe thead th {\n",
       "        text-align: right;\n",
       "    }\n",
       "</style>\n",
       "<table border=\"1\" class=\"dataframe\">\n",
       "  <thead>\n",
       "    <tr style=\"text-align: right;\">\n",
       "      <th></th>\n",
       "      <th>params</th>\n",
       "    </tr>\n",
       "    <tr>\n",
       "      <th>function</th>\n",
       "      <th></th>\n",
       "    </tr>\n",
       "  </thead>\n",
       "  <tbody>\n",
       "    <tr>\n",
       "      <th>builtins.getattr</th>\n",
       "      <td>{'0': {'t': 'builtins.module', 'v': 'numpy'}, '1': 'byte'}</td>\n",
       "    </tr>\n",
       "    <tr>\n",
       "      <th>builtins.getattr</th>\n",
       "      <td>{'0': {'t': 'builtins.module', 'v': 'numpy'}, '1': 'ubyte'}</td>\n",
       "    </tr>\n",
       "    <tr>\n",
       "      <th>builtins.getattr</th>\n",
       "      <td>{'0': {'t': 'builtins.module', 'v': 'numpy'}, '1': 'short'}</td>\n",
       "    </tr>\n",
       "    <tr>\n",
       "      <th>builtins.getattr</th>\n",
       "      <td>{'0': {'t': 'builtins.module', 'v': 'numpy'}, '1': 'ushort'}</td>\n",
       "    </tr>\n",
       "    <tr>\n",
       "      <th>builtins.getattr</th>\n",
       "      <td>{'0': {'t': 'builtins.module', 'v': 'numpy'}, '1': 'intc'}</td>\n",
       "    </tr>\n",
       "    <tr>\n",
       "      <th>...</th>\n",
       "      <td>...</td>\n",
       "    </tr>\n",
       "    <tr>\n",
       "      <th>builtins.getattr</th>\n",
       "      <td>{'0': {'t': 'numpy.ndarray', 'v': [[4], 'uint8']}, '1': 'ndim'}</td>\n",
       "    </tr>\n",
       "    <tr>\n",
       "      <th>numpy.arange</th>\n",
       "      <td>{'0': 8}</td>\n",
       "    </tr>\n",
       "    <tr>\n",
       "      <th>numpy.ndarray.reshape</th>\n",
       "      <td>{'0': {'t': 'numpy.ndarray', 'v': [[8], 'int64']}, '1': {'t': 'tuple', 'v': [2, 2, 2]}}</td>\n",
       "    </tr>\n",
       "    <tr>\n",
       "      <th>builtins.getattr</th>\n",
       "      <td>{'0': {'t': 'numpy.ndarray', 'v': [[2, 2, 2], 'int64']}, '1': 'ndim'}</td>\n",
       "    </tr>\n",
       "    <tr>\n",
       "      <th>builtins.getattr</th>\n",
       "      <td>{'0': {'t': 'numpy.ndarray', 'v': [[2, 2, 2], 'int64']}, '1': 'ndim'}</td>\n",
       "    </tr>\n",
       "  </tbody>\n",
       "</table>\n",
       "<p>10293118 rows × 1 columns</p>\n",
       "</div>"
      ],
      "text/plain": [
       "                                                                                                        params\n",
       "function                                                                                                      \n",
       "builtins.getattr                                    {'0': {'t': 'builtins.module', 'v': 'numpy'}, '1': 'byte'}\n",
       "builtins.getattr                                   {'0': {'t': 'builtins.module', 'v': 'numpy'}, '1': 'ubyte'}\n",
       "builtins.getattr                                   {'0': {'t': 'builtins.module', 'v': 'numpy'}, '1': 'short'}\n",
       "builtins.getattr                                  {'0': {'t': 'builtins.module', 'v': 'numpy'}, '1': 'ushort'}\n",
       "builtins.getattr                                    {'0': {'t': 'builtins.module', 'v': 'numpy'}, '1': 'intc'}\n",
       "...                                                                                                        ...\n",
       "builtins.getattr                               {'0': {'t': 'numpy.ndarray', 'v': [[4], 'uint8']}, '1': 'ndim'}\n",
       "numpy.arange                                                                                          {'0': 8}\n",
       "numpy.ndarray.reshape  {'0': {'t': 'numpy.ndarray', 'v': [[8], 'int64']}, '1': {'t': 'tuple', 'v': [2, 2, 2]}}\n",
       "builtins.getattr                         {'0': {'t': 'numpy.ndarray', 'v': [[2, 2, 2], 'int64']}, '1': 'ndim'}\n",
       "builtins.getattr                         {'0': {'t': 'numpy.ndarray', 'v': [[2, 2, 2], 'int64']}, '1': 'ndim'}\n",
       "\n",
       "[10293118 rows x 1 columns]"
      ]
     },
     "execution_count": 19,
     "metadata": {},
     "output_type": "execute_result"
    }
   ],
   "source": [
    "data = data.set_index('function')\n",
    "data.info()\n",
    "data"
   ]
  },
  {
   "cell_type": "code",
   "execution_count": 20,
   "metadata": {
    "execution": {
     "iopub.execute_input": "2020-04-23T19:17:42.171714Z",
     "iopub.status.busy": "2020-04-23T19:17:42.171482Z",
     "iopub.status.idle": "2020-04-23T19:17:44.557213Z",
     "shell.execute_reply": "2020-04-23T19:17:44.556368Z",
     "shell.execute_reply.started": "2020-04-23T19:17:42.171689Z"
    }
   },
   "outputs": [],
   "source": [
    "counts = data.groupby('function').count()\n",
    "counts['occurance'] = counts['params'] / counts['params'].sum()"
   ]
  },
  {
   "cell_type": "code",
   "execution_count": 21,
   "metadata": {
    "execution": {
     "iopub.execute_input": "2020-04-23T19:17:44.559032Z",
     "iopub.status.busy": "2020-04-23T19:17:44.558797Z",
     "iopub.status.idle": "2020-04-23T19:17:44.590809Z",
     "shell.execute_reply": "2020-04-23T19:17:44.590218Z",
     "shell.execute_reply.started": "2020-04-23T19:17:44.559003Z"
    }
   },
   "outputs": [
    {
     "data": {
      "text/html": [
       "\n",
       "<div id=\"altair-viz-d6b5b46da870459691bf1f9c84917309\"></div>\n",
       "<script type=\"text/javascript\">\n",
       "  (function(spec, embedOpt){\n",
       "    let outputDiv = document.currentScript.previousElementSibling;\n",
       "    if (outputDiv.id !== \"altair-viz-d6b5b46da870459691bf1f9c84917309\") {\n",
       "      outputDiv = document.getElementById(\"altair-viz-d6b5b46da870459691bf1f9c84917309\");\n",
       "    }\n",
       "    const paths = {\n",
       "      \"vega\": \"https://cdn.jsdelivr.net/npm//vega@5?noext\",\n",
       "      \"vega-lib\": \"https://cdn.jsdelivr.net/npm//vega-lib?noext\",\n",
       "      \"vega-lite\": \"https://cdn.jsdelivr.net/npm//vega-lite@4.8.1?noext\",\n",
       "      \"vega-embed\": \"https://cdn.jsdelivr.net/npm//vega-embed@6?noext\",\n",
       "    };\n",
       "\n",
       "    function loadScript(lib) {\n",
       "      return new Promise(function(resolve, reject) {\n",
       "        var s = document.createElement('script');\n",
       "        s.src = paths[lib];\n",
       "        s.async = true;\n",
       "        s.onload = () => resolve(paths[lib]);\n",
       "        s.onerror = () => reject(`Error loading script: ${paths[lib]}`);\n",
       "        document.getElementsByTagName(\"head\")[0].appendChild(s);\n",
       "      });\n",
       "    }\n",
       "\n",
       "    function showError(err) {\n",
       "      outputDiv.innerHTML = `<div class=\"error\" style=\"color:red;\">${err}</div>`;\n",
       "      throw err;\n",
       "    }\n",
       "\n",
       "    function displayChart(vegaEmbed) {\n",
       "      vegaEmbed(outputDiv, spec, embedOpt)\n",
       "        .catch(err => showError(`Javascript Error: ${err.message}<br>This usually means there's a typo in your chart specification. See the javascript console for the full traceback.`));\n",
       "    }\n",
       "\n",
       "    if(typeof define === \"function\" && define.amd) {\n",
       "      requirejs.config({paths});\n",
       "      require([\"vega-embed\"], displayChart, err => showError(`Error loading script: ${err.message}`));\n",
       "    } else if (typeof vegaEmbed === \"function\") {\n",
       "      displayChart(vegaEmbed);\n",
       "    } else {\n",
       "      loadScript(\"vega\")\n",
       "        .then(() => loadScript(\"vega-lite\"))\n",
       "        .then(() => loadScript(\"vega-embed\"))\n",
       "        .catch(showError)\n",
       "        .then(() => displayChart(vegaEmbed));\n",
       "    }\n",
       "  })({\"config\": {\"view\": {\"continuousWidth\": 400, \"continuousHeight\": 300}}, \"data\": {\"url\": \"http://localhost:19702/e6f5effa57912878e0300127fd8d4d22.json\"}, \"mark\": \"bar\", \"encoding\": {\"tooltip\": [{\"type\": \"nominal\", \"field\": \"function\"}, {\"type\": \"quantitative\", \"field\": \"occurance\"}, {\"type\": \"quantitative\", \"field\": \"params\"}], \"x\": {\"type\": \"quantitative\", \"axis\": {\"format\": \"%\"}, \"field\": \"occurance\", \"scale\": {\"type\": \"log\"}}, \"y\": {\"type\": \"nominal\", \"field\": \"function\", \"sort\": \"-x\"}}, \"$schema\": \"https://vega.github.io/schema/vega-lite/v4.8.1.json\"}, {\"mode\": \"vega-lite\"});\n",
       "</script>"
      ],
      "text/plain": [
       "alt.Chart(...)"
      ]
     },
     "execution_count": 21,
     "metadata": {},
     "output_type": "execute_result"
    }
   ],
   "source": [
    "alt.Chart(counts.reset_index()).mark_bar().encode(\n",
    "    y=alt.Y('function:N', sort='-x'),\n",
    "    x=alt.X('occurance:Q', axis=alt.Axis(format='%'), scale=alt.Scale(type='log')),\n",
    "    tooltip=['function', 'occurance', 'params']\n",
    ")"
   ]
  },
  {
   "cell_type": "code",
   "execution_count": 26,
   "metadata": {
    "execution": {
     "iopub.execute_input": "2020-04-23T19:29:19.240910Z",
     "iopub.status.busy": "2020-04-23T19:29:19.240682Z",
     "iopub.status.idle": "2020-04-23T19:38:18.865428Z",
     "shell.execute_reply": "2020-04-23T19:38:18.864501Z",
     "shell.execute_reply.started": "2020-04-23T19:29:19.240885Z"
    }
   },
   "outputs": [
    {
     "name": "stderr",
     "output_type": "stream",
     "text": [
      "/usr/local/Caskroom/miniconda/base/envs/python-record-api/lib/python3.8/site-packages/tqdm/std.py:666: FutureWarning: The Panel class is removed from pandas. Accessing it from the top-level namespace will also be removed in the next version\n",
      "  from pandas import Panel\n"
     ]
    },
    {
     "data": {
      "application/vnd.jupyter.widget-view+json": {
       "model_id": "2a6c63c3dfc144549e80755def183311",
       "version_major": 2,
       "version_minor": 0
      },
      "text/plain": [
       "HBox(children=(FloatProgress(value=0.0, description='Pandas Apply', max=992243.0, style=ProgressStyle(descript…"
      ]
     },
     "metadata": {},
     "output_type": "display_data"
    },
    {
     "name": "stdout",
     "output_type": "stream",
     "text": [
      "\n"
     ]
    }
   ],
   "source": [
    "getattr = get_args('builtins.getattr')"
   ]
  },
  {
   "cell_type": "code",
   "execution_count": 23,
   "metadata": {
    "execution": {
     "iopub.execute_input": "2020-04-23T19:28:08.580251Z",
     "iopub.status.busy": "2020-04-23T19:28:08.579959Z",
     "iopub.status.idle": "2020-04-23T19:28:08.591224Z",
     "shell.execute_reply": "2020-04-23T19:28:08.590518Z",
     "shell.execute_reply.started": "2020-04-23T19:28:08.580216Z"
    }
   },
   "outputs": [
    {
     "data": {
      "text/html": [
       "<div>\n",
       "<style scoped>\n",
       "    .dataframe tbody tr th:only-of-type {\n",
       "        vertical-align: middle;\n",
       "    }\n",
       "\n",
       "    .dataframe tbody tr th {\n",
       "        vertical-align: top;\n",
       "    }\n",
       "\n",
       "    .dataframe thead th {\n",
       "        text-align: right;\n",
       "    }\n",
       "</style>\n",
       "<table border=\"1\" class=\"dataframe\">\n",
       "  <thead>\n",
       "    <tr style=\"text-align: right;\">\n",
       "      <th></th>\n",
       "      <th>0</th>\n",
       "      <th>1</th>\n",
       "    </tr>\n",
       "    <tr>\n",
       "      <th>function</th>\n",
       "      <th></th>\n",
       "      <th></th>\n",
       "    </tr>\n",
       "  </thead>\n",
       "  <tbody>\n",
       "    <tr>\n",
       "      <th>builtins.getattr</th>\n",
       "      <td>builtins.module</td>\n",
       "      <td>'byte'</td>\n",
       "    </tr>\n",
       "    <tr>\n",
       "      <th>builtins.getattr</th>\n",
       "      <td>builtins.module</td>\n",
       "      <td>'ubyte'</td>\n",
       "    </tr>\n",
       "    <tr>\n",
       "      <th>builtins.getattr</th>\n",
       "      <td>builtins.module</td>\n",
       "      <td>'short'</td>\n",
       "    </tr>\n",
       "    <tr>\n",
       "      <th>builtins.getattr</th>\n",
       "      <td>builtins.module</td>\n",
       "      <td>'ushort'</td>\n",
       "    </tr>\n",
       "    <tr>\n",
       "      <th>builtins.getattr</th>\n",
       "      <td>builtins.module</td>\n",
       "      <td>'intc'</td>\n",
       "    </tr>\n",
       "    <tr>\n",
       "      <th>...</th>\n",
       "      <td>...</td>\n",
       "      <td>...</td>\n",
       "    </tr>\n",
       "    <tr>\n",
       "      <th>builtins.getattr</th>\n",
       "      <td>builtins.module</td>\n",
       "      <td>'uint8'</td>\n",
       "    </tr>\n",
       "    <tr>\n",
       "      <th>builtins.getattr</th>\n",
       "      <td>numpy.ndarray</td>\n",
       "      <td>'ndim'</td>\n",
       "    </tr>\n",
       "    <tr>\n",
       "      <th>builtins.getattr</th>\n",
       "      <td>numpy.ndarray</td>\n",
       "      <td>'ndim'</td>\n",
       "    </tr>\n",
       "    <tr>\n",
       "      <th>builtins.getattr</th>\n",
       "      <td>numpy.ndarray</td>\n",
       "      <td>'ndim'</td>\n",
       "    </tr>\n",
       "    <tr>\n",
       "      <th>builtins.getattr</th>\n",
       "      <td>numpy.ndarray</td>\n",
       "      <td>'ndim'</td>\n",
       "    </tr>\n",
       "  </tbody>\n",
       "</table>\n",
       "<p>992243 rows × 2 columns</p>\n",
       "</div>"
      ],
      "text/plain": [
       "                                0         1\n",
       "function                                   \n",
       "builtins.getattr  builtins.module    'byte'\n",
       "builtins.getattr  builtins.module   'ubyte'\n",
       "builtins.getattr  builtins.module   'short'\n",
       "builtins.getattr  builtins.module  'ushort'\n",
       "builtins.getattr  builtins.module    'intc'\n",
       "...                           ...       ...\n",
       "builtins.getattr  builtins.module   'uint8'\n",
       "builtins.getattr    numpy.ndarray    'ndim'\n",
       "builtins.getattr    numpy.ndarray    'ndim'\n",
       "builtins.getattr    numpy.ndarray    'ndim'\n",
       "builtins.getattr    numpy.ndarray    'ndim'\n",
       "\n",
       "[992243 rows x 2 columns]"
      ]
     },
     "execution_count": 23,
     "metadata": {},
     "output_type": "execute_result"
    }
   ],
   "source": [
    "getattr"
   ]
  },
  {
   "cell_type": "code",
   "execution_count": 24,
   "metadata": {
    "execution": {
     "iopub.execute_input": "2020-04-23T02:07:48.869077Z",
     "iopub.status.busy": "2020-04-23T02:07:48.868826Z",
     "iopub.status.idle": "2020-04-23T02:07:49.405556Z",
     "shell.execute_reply": "2020-04-23T02:07:49.404775Z",
     "shell.execute_reply.started": "2020-04-23T02:07:48.869050Z"
    }
   },
   "outputs": [
    {
     "data": {
      "text/html": [
       "\n",
       "<div id=\"altair-viz-a56935bee0aa4eb998b9a537eac33885\"></div>\n",
       "<script type=\"text/javascript\">\n",
       "  (function(spec, embedOpt){\n",
       "    let outputDiv = document.currentScript.previousElementSibling;\n",
       "    if (outputDiv.id !== \"altair-viz-a56935bee0aa4eb998b9a537eac33885\") {\n",
       "      outputDiv = document.getElementById(\"altair-viz-a56935bee0aa4eb998b9a537eac33885\");\n",
       "    }\n",
       "    const paths = {\n",
       "      \"vega\": \"https://cdn.jsdelivr.net/npm//vega@5?noext\",\n",
       "      \"vega-lib\": \"https://cdn.jsdelivr.net/npm//vega-lib?noext\",\n",
       "      \"vega-lite\": \"https://cdn.jsdelivr.net/npm//vega-lite@4.8.1?noext\",\n",
       "      \"vega-embed\": \"https://cdn.jsdelivr.net/npm//vega-embed@6?noext\",\n",
       "    };\n",
       "\n",
       "    function loadScript(lib) {\n",
       "      return new Promise(function(resolve, reject) {\n",
       "        var s = document.createElement('script');\n",
       "        s.src = paths[lib];\n",
       "        s.async = true;\n",
       "        s.onload = () => resolve(paths[lib]);\n",
       "        s.onerror = () => reject(`Error loading script: ${paths[lib]}`);\n",
       "        document.getElementsByTagName(\"head\")[0].appendChild(s);\n",
       "      });\n",
       "    }\n",
       "\n",
       "    function showError(err) {\n",
       "      outputDiv.innerHTML = `<div class=\"error\" style=\"color:red;\">${err}</div>`;\n",
       "      throw err;\n",
       "    }\n",
       "\n",
       "    function displayChart(vegaEmbed) {\n",
       "      vegaEmbed(outputDiv, spec, embedOpt)\n",
       "        .catch(err => showError(`Javascript Error: ${err.message}<br>This usually means there's a typo in your chart specification. See the javascript console for the full traceback.`));\n",
       "    }\n",
       "\n",
       "    if(typeof define === \"function\" && define.amd) {\n",
       "      requirejs.config({paths});\n",
       "      require([\"vega-embed\"], displayChart, err => showError(`Error loading script: ${err.message}`));\n",
       "    } else if (typeof vegaEmbed === \"function\") {\n",
       "      displayChart(vegaEmbed);\n",
       "    } else {\n",
       "      loadScript(\"vega\")\n",
       "        .then(() => loadScript(\"vega-lite\"))\n",
       "        .then(() => loadScript(\"vega-embed\"))\n",
       "        .catch(showError)\n",
       "        .then(() => displayChart(vegaEmbed));\n",
       "    }\n",
       "  })({\"config\": {\"view\": {\"continuousWidth\": 400, \"continuousHeight\": 300}}, \"data\": {\"url\": \"http://localhost:24308/5d32bdbe99b2efe8d8bb7136ae48c862.json\"}, \"mark\": \"bar\", \"encoding\": {\"tooltip\": [{\"type\": \"nominal\", \"field\": \"b\"}, {\"type\": \"quantitative\", \"field\": \"a\"}], \"x\": {\"type\": \"quantitative\", \"field\": \"a\", \"scale\": {\"type\": \"log\"}}, \"y\": {\"type\": \"nominal\", \"field\": \"b\", \"sort\": \"-x\"}}, \"$schema\": \"https://vega.github.io/schema/vega-lite/v4.8.1.json\"}, {\"mode\": \"vega-lite\"});\n",
       "</script>"
      ],
      "text/plain": [
       "alt.Chart(...)"
      ]
     },
     "execution_count": 24,
     "metadata": {},
     "output_type": "execute_result"
    }
   ],
   "source": [
    "alt.Chart(getitem.groupby('b').count().reset_index()).mark_bar().encode(\n",
    "    y=alt.Y('b:N', sort='-x'),\n",
    "    x=alt.X('a:Q', scale=alt.Scale(type='log')),\n",
    "    tooltip=['b', 'a']\n",
    ")"
   ]
  },
  {
   "cell_type": "code",
   "execution_count": 24,
   "metadata": {
    "execution": {
     "iopub.execute_input": "2020-04-23T19:28:46.336112Z",
     "iopub.status.busy": "2020-04-23T19:28:46.335877Z",
     "iopub.status.idle": "2020-04-23T19:28:46.342341Z",
     "shell.execute_reply": "2020-04-23T19:28:46.341646Z",
     "shell.execute_reply.started": "2020-04-23T19:28:46.336086Z"
    }
   },
   "outputs": [],
   "source": [
    "def stringify(v):\n",
    "    \"\"\"\n",
    "    Turn a complex type into a simpler string, yes with less data, but easier to group by.\n",
    "    \"\"\"\n",
    "    if isinstance(v, int):\n",
    "        return \"int\"\n",
    "    if isinstance(v, str):\n",
    "        return str(repr(v))\n",
    "    if isinstance(v, float):\n",
    "        return \"float\"\n",
    "    if isinstance(v, list):\n",
    "        return f\"List[{stringify(v[0]) if v else 'Any'}]\"\n",
    "    if v is None:\n",
    "        return 'None'\n",
    "    t = v['t']\n",
    "    if t == 'builtins.type':\n",
    "        return f\"Type[{v['v']}]\"\n",
    "    if t == 'builtins.module':\n",
    "        return v['v']\n",
    "    if t == 'tuple':\n",
    "        return f\"Tuple[{', '.join(stringify(a) for a in v['v'])}]\"\n",
    "    return t\n",
    "        "
   ]
  },
  {
   "cell_type": "code",
   "execution_count": 25,
   "metadata": {
    "execution": {
     "iopub.execute_input": "2020-04-23T19:28:58.596828Z",
     "iopub.status.busy": "2020-04-23T19:28:58.596604Z",
     "iopub.status.idle": "2020-04-23T19:28:58.601182Z",
     "shell.execute_reply": "2020-04-23T19:28:58.600489Z",
     "shell.execute_reply.started": "2020-04-23T19:28:58.596803Z"
    }
   },
   "outputs": [],
   "source": [
    "def get_args(fn_name):\n",
    "    return data[data.index == fn_name].swifter.apply(\n",
    "        lambda x: pandas.Series({k: stringify(v) for k, v in x['params'].items()}),\n",
    "        axis=1\n",
    "    )"
   ]
  },
  {
   "cell_type": "code",
   "execution_count": 10,
   "metadata": {
    "execution": {
     "iopub.execute_input": "2020-04-23T15:07:08.413142Z",
     "iopub.status.busy": "2020-04-23T15:07:08.412853Z",
     "iopub.status.idle": "2020-04-23T15:07:08.421904Z",
     "shell.execute_reply": "2020-04-23T15:07:08.421023Z",
     "shell.execute_reply.started": "2020-04-23T15:07:08.413109Z"
    }
   },
   "outputs": [],
   "source": [
    "def make_arg_chart(df):\n",
    "    selections = [alt.selection_multi(fields=[col]) for col in df.columns]\n",
    "    charts = []\n",
    "    for i, col in enumerate(df.columns):\n",
    "        new_chart = alt.Chart(df).mark_bar().encode(\n",
    "            alt.Y(col, sort='-x', type='nominal'),\n",
    "            alt.X('count()', scale=alt.Scale(type='log')),\n",
    "            color=alt.condition(selections[i], alt.value('lightblue'), alt.value('lightgray'))\n",
    "        ).add_selection(\n",
    "            selections[i]\n",
    "        )\n",
    "        for other_i, selection in enumerate(selections):\n",
    "            # don't filter on my own selection\n",
    "            if other_i == i:\n",
    "                continue\n",
    "            new_chart = new_chart.transform_filter(selection)\n",
    "        charts.append(new_chart)\n",
    "    return alt.concat(*charts, columns=3)"
   ]
  },
  {
   "cell_type": "code",
   "execution_count": 11,
   "metadata": {
    "execution": {
     "iopub.execute_input": "2020-04-23T15:07:08.824850Z",
     "iopub.status.busy": "2020-04-23T15:07:08.824565Z",
     "iopub.status.idle": "2020-04-23T15:07:08.828908Z",
     "shell.execute_reply": "2020-04-23T15:07:08.827973Z",
     "shell.execute_reply.started": "2020-04-23T15:07:08.824816Z"
    }
   },
   "outputs": [],
   "source": [
    "def inspect_functionn(fn_name):\n",
    "    df = get_args(fn_name)\n",
    "    return make_arg_chart(df)"
   ]
  },
  {
   "cell_type": "code",
   "execution_count": null,
   "metadata": {},
   "outputs": [],
   "source": []
  }
 ],
 "metadata": {
  "kernelspec": {
   "display_name": "Python 3",
   "language": "python",
   "name": "python3"
  },
  "language_info": {
   "codemirror_mode": {
    "name": "ipython",
    "version": 3
   },
   "file_extension": ".py",
   "mimetype": "text/x-python",
   "name": "python",
   "nbconvert_exporter": "python",
   "pygments_lexer": "ipython3",
   "version": "3.8.2"
  }
 },
 "nbformat": 4,
 "nbformat_minor": 4
}
