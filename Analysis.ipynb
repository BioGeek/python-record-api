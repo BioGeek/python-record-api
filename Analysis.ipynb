{
 "cells": [
  {
   "cell_type": "code",
   "execution_count": 1,
   "metadata": {
    "collapsed": true,
    "execution": {
     "iopub.execute_input": "2020-04-21T18:07:55.166256Z",
     "iopub.status.busy": "2020-04-21T18:07:55.166028Z",
     "iopub.status.idle": "2020-04-21T18:07:56.395242Z",
     "shell.execute_reply": "2020-04-21T18:07:56.394574Z",
     "shell.execute_reply.started": "2020-04-21T18:07:55.166232Z"
    },
    "jupyter": {
     "outputs_hidden": true
    }
   },
   "outputs": [
    {
     "name": "stdout",
     "output_type": "stream",
     "text": [
      "Requirement already satisfied: pandas in /usr/local/Caskroom/miniconda/base/envs/scikit-image/lib/python3.8/site-packages (1.0.3)\n",
      "Requirement already satisfied: altair in /usr/local/Caskroom/miniconda/base/envs/scikit-image/lib/python3.8/site-packages (4.1.0)\n",
      "Requirement already satisfied: altair_data_server in /usr/local/Caskroom/miniconda/base/envs/scikit-image/lib/python3.8/site-packages (0.4.1)\n",
      "Requirement already satisfied: numpy>=1.13.3 in /usr/local/Caskroom/miniconda/base/envs/scikit-image/lib/python3.8/site-packages (from pandas) (1.18.1)\n",
      "Requirement already satisfied: python-dateutil>=2.6.1 in /usr/local/Caskroom/miniconda/base/envs/scikit-image/lib/python3.8/site-packages (from pandas) (2.8.1)\n",
      "Requirement already satisfied: pytz>=2017.2 in /usr/local/Caskroom/miniconda/base/envs/scikit-image/lib/python3.8/site-packages (from pandas) (2019.3)\n",
      "Requirement already satisfied: jinja2 in /usr/local/Caskroom/miniconda/base/envs/scikit-image/lib/python3.8/site-packages (from altair) (2.11.2)\n",
      "Requirement already satisfied: entrypoints in /usr/local/Caskroom/miniconda/base/envs/scikit-image/lib/python3.8/site-packages (from altair) (0.3)\n",
      "Requirement already satisfied: toolz in /usr/local/Caskroom/miniconda/base/envs/scikit-image/lib/python3.8/site-packages (from altair) (0.10.0)\n",
      "Requirement already satisfied: jsonschema in /usr/local/Caskroom/miniconda/base/envs/scikit-image/lib/python3.8/site-packages (from altair) (3.2.0)\n",
      "Requirement already satisfied: tornado in /usr/local/Caskroom/miniconda/base/envs/scikit-image/lib/python3.8/site-packages (from altair_data_server) (6.0.4)\n",
      "Requirement already satisfied: portpicker in /usr/local/Caskroom/miniconda/base/envs/scikit-image/lib/python3.8/site-packages (from altair_data_server) (1.3.1)\n",
      "Requirement already satisfied: six>=1.5 in /usr/local/Caskroom/miniconda/base/envs/scikit-image/lib/python3.8/site-packages (from python-dateutil>=2.6.1->pandas) (1.14.0)\n",
      "Requirement already satisfied: MarkupSafe>=0.23 in /usr/local/Caskroom/miniconda/base/envs/scikit-image/lib/python3.8/site-packages (from jinja2->altair) (1.1.1)\n",
      "Requirement already satisfied: pyrsistent>=0.14.0 in /usr/local/Caskroom/miniconda/base/envs/scikit-image/lib/python3.8/site-packages (from jsonschema->altair) (0.16.0)\n",
      "Requirement already satisfied: setuptools in /usr/local/Caskroom/miniconda/base/envs/scikit-image/lib/python3.8/site-packages (from jsonschema->altair) (46.1.3.post20200325)\n",
      "Requirement already satisfied: attrs>=17.4.0 in /usr/local/Caskroom/miniconda/base/envs/scikit-image/lib/python3.8/site-packages (from jsonschema->altair) (19.3.0)\n"
     ]
    }
   ],
   "source": [
    "!pip install pandas altair altair_data_server"
   ]
  },
  {
   "cell_type": "code",
   "execution_count": 33,
   "metadata": {
    "execution": {
     "iopub.execute_input": "2020-04-21T18:44:49.499510Z",
     "iopub.status.busy": "2020-04-21T18:44:49.499287Z",
     "iopub.status.idle": "2020-04-21T18:44:49.503974Z",
     "shell.execute_reply": "2020-04-21T18:44:49.503298Z",
     "shell.execute_reply.started": "2020-04-21T18:44:49.499487Z"
    }
   },
   "outputs": [
    {
     "data": {
      "text/plain": [
       "DataTransformerRegistry.enable('data_server')"
      ]
     },
     "execution_count": 33,
     "metadata": {},
     "output_type": "execute_result"
    }
   ],
   "source": [
    "import pandas\n",
    "import altair\n",
    "\n",
    "altair.data_transformers.enable('data_server')"
   ]
  },
  {
   "cell_type": "code",
   "execution_count": 46,
   "metadata": {
    "execution": {
     "iopub.execute_input": "2020-04-21T18:47:45.227611Z",
     "iopub.status.busy": "2020-04-21T18:47:45.227420Z",
     "iopub.status.idle": "2020-04-21T18:47:45.254461Z",
     "shell.execute_reply": "2020-04-21T18:47:45.253918Z",
     "shell.execute_reply.started": "2020-04-21T18:47:45.227591Z"
    }
   },
   "outputs": [
    {
     "data": {
      "text/html": [
       "<div>\n",
       "<style scoped>\n",
       "    .dataframe tbody tr th:only-of-type {\n",
       "        vertical-align: middle;\n",
       "    }\n",
       "\n",
       "    .dataframe tbody tr th {\n",
       "        vertical-align: top;\n",
       "    }\n",
       "\n",
       "    .dataframe thead th {\n",
       "        text-align: right;\n",
       "    }\n",
       "</style>\n",
       "<table border=\"1\" class=\"dataframe\">\n",
       "  <thead>\n",
       "    <tr style=\"text-align: right;\">\n",
       "      <th></th>\n",
       "      <th>function</th>\n",
       "      <th>caller_args</th>\n",
       "      <th>caller_kwargs</th>\n",
       "      <th>signature_available</th>\n",
       "      <th>function_arguments</th>\n",
       "      <th>function_var_positional</th>\n",
       "      <th>function_var_keyword</th>\n",
       "    </tr>\n",
       "  </thead>\n",
       "  <tbody>\n",
       "    <tr>\n",
       "      <th>0</th>\n",
       "      <td>numpy.arange</td>\n",
       "      <td>[10]</td>\n",
       "      <td>{}</td>\n",
       "      <td>False</td>\n",
       "      <td>None</td>\n",
       "      <td>None</td>\n",
       "      <td>None</td>\n",
       "    </tr>\n",
       "    <tr>\n",
       "      <th>1</th>\n",
       "      <td>_operator.pos</td>\n",
       "      <td>[{'__tp': 'numpy.ndarray'}]</td>\n",
       "      <td>{}</td>\n",
       "      <td>True</td>\n",
       "      <td>{'a': {'__tp': 'numpy.ndarray'}}</td>\n",
       "      <td>[]</td>\n",
       "      <td>{}</td>\n",
       "    </tr>\n",
       "    <tr>\n",
       "      <th>2</th>\n",
       "      <td>_operator.neg</td>\n",
       "      <td>[{'__tp': 'numpy.ndarray'}]</td>\n",
       "      <td>{}</td>\n",
       "      <td>True</td>\n",
       "      <td>{'a': {'__tp': 'numpy.ndarray'}}</td>\n",
       "      <td>[]</td>\n",
       "      <td>{}</td>\n",
       "    </tr>\n",
       "    <tr>\n",
       "      <th>3</th>\n",
       "      <td>_operator.invert</td>\n",
       "      <td>[{'__tp': 'numpy.ndarray'}]</td>\n",
       "      <td>{}</td>\n",
       "      <td>True</td>\n",
       "      <td>{'a': {'__tp': 'numpy.ndarray'}}</td>\n",
       "      <td>[]</td>\n",
       "      <td>{}</td>\n",
       "    </tr>\n",
       "    <tr>\n",
       "      <th>4</th>\n",
       "      <td>_operator.not_</td>\n",
       "      <td>[{'__tp': 'numpy.ndarray'}]</td>\n",
       "      <td>{}</td>\n",
       "      <td>True</td>\n",
       "      <td>{'a': {'__tp': 'numpy.ndarray'}}</td>\n",
       "      <td>[]</td>\n",
       "      <td>{}</td>\n",
       "    </tr>\n",
       "    <tr>\n",
       "      <th>...</th>\n",
       "      <td>...</td>\n",
       "      <td>...</td>\n",
       "      <td>...</td>\n",
       "      <td>...</td>\n",
       "      <td>...</td>\n",
       "      <td>...</td>\n",
       "      <td>...</td>\n",
       "    </tr>\n",
       "    <tr>\n",
       "      <th>66</th>\n",
       "      <td>builtins.getattr</td>\n",
       "      <td>[{'__tp': 'numpy.ndarray'}, T]</td>\n",
       "      <td>{}</td>\n",
       "      <td>False</td>\n",
       "      <td>None</td>\n",
       "      <td>None</td>\n",
       "      <td>None</td>\n",
       "    </tr>\n",
       "    <tr>\n",
       "      <th>67</th>\n",
       "      <td>numpy.ndarray.reshape</td>\n",
       "      <td>[{'__tp': 'numpy.ndarray'}, [5, 2]]</td>\n",
       "      <td>{}</td>\n",
       "      <td>False</td>\n",
       "      <td>None</td>\n",
       "      <td>None</td>\n",
       "      <td>None</td>\n",
       "    </tr>\n",
       "    <tr>\n",
       "      <th>68</th>\n",
       "      <td>numpy.column_stack</td>\n",
       "      <td>[[{'__tp': 'numpy.ndarray'}, {'__tp': 'numpy.n...</td>\n",
       "      <td>{}</td>\n",
       "      <td>True</td>\n",
       "      <td>{'tup': [{'__tp': 'numpy.ndarray'}, {'__tp': '...</td>\n",
       "      <td>[]</td>\n",
       "      <td>{}</td>\n",
       "    </tr>\n",
       "    <tr>\n",
       "      <th>69</th>\n",
       "      <td>builtins.getattr</td>\n",
       "      <td>[{'__tp': 'builtins.module', '__v': 'numpy'}, ...</td>\n",
       "      <td>{}</td>\n",
       "      <td>False</td>\n",
       "      <td>None</td>\n",
       "      <td>None</td>\n",
       "      <td>None</td>\n",
       "    </tr>\n",
       "    <tr>\n",
       "      <th>70</th>\n",
       "      <td>numpy.concatenate</td>\n",
       "      <td>[[{'__tp': 'numpy.ndarray'}, {'__tp': 'numpy.n...</td>\n",
       "      <td>{'axis': 0}</td>\n",
       "      <td>False</td>\n",
       "      <td>None</td>\n",
       "      <td>None</td>\n",
       "      <td>None</td>\n",
       "    </tr>\n",
       "  </tbody>\n",
       "</table>\n",
       "<p>71 rows × 7 columns</p>\n",
       "</div>"
      ],
      "text/plain": [
       "                 function                                        caller_args  \\\n",
       "0            numpy.arange                                               [10]   \n",
       "1           _operator.pos                        [{'__tp': 'numpy.ndarray'}]   \n",
       "2           _operator.neg                        [{'__tp': 'numpy.ndarray'}]   \n",
       "3        _operator.invert                        [{'__tp': 'numpy.ndarray'}]   \n",
       "4          _operator.not_                        [{'__tp': 'numpy.ndarray'}]   \n",
       "..                    ...                                                ...   \n",
       "66       builtins.getattr                     [{'__tp': 'numpy.ndarray'}, T]   \n",
       "67  numpy.ndarray.reshape                [{'__tp': 'numpy.ndarray'}, [5, 2]]   \n",
       "68     numpy.column_stack  [[{'__tp': 'numpy.ndarray'}, {'__tp': 'numpy.n...   \n",
       "69       builtins.getattr  [{'__tp': 'builtins.module', '__v': 'numpy'}, ...   \n",
       "70      numpy.concatenate  [[{'__tp': 'numpy.ndarray'}, {'__tp': 'numpy.n...   \n",
       "\n",
       "   caller_kwargs  signature_available  \\\n",
       "0             {}                False   \n",
       "1             {}                 True   \n",
       "2             {}                 True   \n",
       "3             {}                 True   \n",
       "4             {}                 True   \n",
       "..           ...                  ...   \n",
       "66            {}                False   \n",
       "67            {}                False   \n",
       "68            {}                 True   \n",
       "69            {}                False   \n",
       "70   {'axis': 0}                False   \n",
       "\n",
       "                                   function_arguments function_var_positional  \\\n",
       "0                                                None                    None   \n",
       "1                    {'a': {'__tp': 'numpy.ndarray'}}                      []   \n",
       "2                    {'a': {'__tp': 'numpy.ndarray'}}                      []   \n",
       "3                    {'a': {'__tp': 'numpy.ndarray'}}                      []   \n",
       "4                    {'a': {'__tp': 'numpy.ndarray'}}                      []   \n",
       "..                                                ...                     ...   \n",
       "66                                               None                    None   \n",
       "67                                               None                    None   \n",
       "68  {'tup': [{'__tp': 'numpy.ndarray'}, {'__tp': '...                      []   \n",
       "69                                               None                    None   \n",
       "70                                               None                    None   \n",
       "\n",
       "   function_var_keyword  \n",
       "0                  None  \n",
       "1                    {}  \n",
       "2                    {}  \n",
       "3                    {}  \n",
       "4                    {}  \n",
       "..                  ...  \n",
       "66                 None  \n",
       "67                 None  \n",
       "68                   {}  \n",
       "69                 None  \n",
       "70                 None  \n",
       "\n",
       "[71 rows x 7 columns]"
      ]
     },
     "execution_count": 46,
     "metadata": {},
     "output_type": "execute_result"
    }
   ],
   "source": [
    "data = pandas.read_json('use_numpy_api.jsonl', lines=True)\n",
    "data"
   ]
  },
  {
   "cell_type": "code",
   "execution_count": 47,
   "metadata": {
    "execution": {
     "iopub.execute_input": "2020-04-21T18:47:45.366723Z",
     "iopub.status.busy": "2020-04-21T18:47:45.366504Z",
     "iopub.status.idle": "2020-04-21T18:47:45.383898Z",
     "shell.execute_reply": "2020-04-21T18:47:45.383324Z",
     "shell.execute_reply.started": "2020-04-21T18:47:45.366699Z"
    }
   },
   "outputs": [
    {
     "data": {
      "text/html": [
       "\n",
       "<div id=\"altair-viz-6bb739a6fad04a47923bd672790f949a\"></div>\n",
       "<script type=\"text/javascript\">\n",
       "  (function(spec, embedOpt){\n",
       "    let outputDiv = document.currentScript.previousElementSibling;\n",
       "    if (outputDiv.id !== \"altair-viz-6bb739a6fad04a47923bd672790f949a\") {\n",
       "      outputDiv = document.getElementById(\"altair-viz-6bb739a6fad04a47923bd672790f949a\");\n",
       "    }\n",
       "    const paths = {\n",
       "      \"vega\": \"https://cdn.jsdelivr.net/npm//vega@5?noext\",\n",
       "      \"vega-lib\": \"https://cdn.jsdelivr.net/npm//vega-lib?noext\",\n",
       "      \"vega-lite\": \"https://cdn.jsdelivr.net/npm//vega-lite@4.8.1?noext\",\n",
       "      \"vega-embed\": \"https://cdn.jsdelivr.net/npm//vega-embed@6?noext\",\n",
       "    };\n",
       "\n",
       "    function loadScript(lib) {\n",
       "      return new Promise(function(resolve, reject) {\n",
       "        var s = document.createElement('script');\n",
       "        s.src = paths[lib];\n",
       "        s.async = true;\n",
       "        s.onload = () => resolve(paths[lib]);\n",
       "        s.onerror = () => reject(`Error loading script: ${paths[lib]}`);\n",
       "        document.getElementsByTagName(\"head\")[0].appendChild(s);\n",
       "      });\n",
       "    }\n",
       "\n",
       "    function showError(err) {\n",
       "      outputDiv.innerHTML = `<div class=\"error\" style=\"color:red;\">${err}</div>`;\n",
       "      throw err;\n",
       "    }\n",
       "\n",
       "    function displayChart(vegaEmbed) {\n",
       "      vegaEmbed(outputDiv, spec, embedOpt)\n",
       "        .catch(err => showError(`Javascript Error: ${err.message}<br>This usually means there's a typo in your chart specification. See the javascript console for the full traceback.`));\n",
       "    }\n",
       "\n",
       "    if(typeof define === \"function\" && define.amd) {\n",
       "      requirejs.config({paths});\n",
       "      require([\"vega-embed\"], displayChart, err => showError(`Error loading script: ${err.message}`));\n",
       "    } else if (typeof vegaEmbed === \"function\") {\n",
       "      displayChart(vegaEmbed);\n",
       "    } else {\n",
       "      loadScript(\"vega\")\n",
       "        .then(() => loadScript(\"vega-lite\"))\n",
       "        .then(() => loadScript(\"vega-embed\"))\n",
       "        .catch(showError)\n",
       "        .then(() => displayChart(vegaEmbed));\n",
       "    }\n",
       "  })({\"config\": {\"view\": {\"continuousWidth\": 400, \"continuousHeight\": 300}}, \"data\": {\"url\": \"http://localhost:24560/5a70810c8867dcf0a569f516ecdb8cea.json\"}, \"mark\": \"bar\", \"encoding\": {\"x\": {\"type\": \"quantitative\", \"aggregate\": \"count\"}, \"y\": {\"type\": \"nominal\", \"field\": \"function\", \"sort\": \"-x\"}}, \"$schema\": \"https://vega.github.io/schema/vega-lite/v4.8.1.json\"}, {\"mode\": \"vega-lite\"});\n",
       "</script>"
      ],
      "text/plain": [
       "alt.Chart(...)"
      ]
     },
     "execution_count": 47,
     "metadata": {},
     "output_type": "execute_result"
    }
   ],
   "source": [
    "altair.Chart(data).mark_bar().encode(\n",
    "    y=altair.Y('function', sort='-x'),\n",
    "    x='count()'\n",
    ")"
   ]
  },
  {
   "cell_type": "code",
   "execution_count": 58,
   "metadata": {
    "execution": {
     "iopub.execute_input": "2020-04-21T18:48:30.698372Z",
     "iopub.status.busy": "2020-04-21T18:48:30.698147Z",
     "iopub.status.idle": "2020-04-21T18:48:30.701892Z",
     "shell.execute_reply": "2020-04-21T18:48:30.701214Z",
     "shell.execute_reply.started": "2020-04-21T18:48:30.698347Z"
    }
   },
   "outputs": [],
   "source": [
    "def get_types(name):\n",
    "    return pandas.DataFrame.from_records(list(data[data.function == name]['caller_args'].to_dict().values()))"
   ]
  },
  {
   "cell_type": "code",
   "execution_count": 59,
   "metadata": {
    "execution": {
     "iopub.execute_input": "2020-04-21T18:48:31.126485Z",
     "iopub.status.busy": "2020-04-21T18:48:31.126257Z",
     "iopub.status.idle": "2020-04-21T18:48:31.130491Z",
     "shell.execute_reply": "2020-04-21T18:48:31.129850Z",
     "shell.execute_reply.started": "2020-04-21T18:48:31.126460Z"
    }
   },
   "outputs": [
    {
     "data": {
      "text/plain": [
       "1"
      ]
     },
     "execution_count": 59,
     "metadata": {},
     "output_type": "execute_result"
    }
   ],
   "source": [
    "slice(1, 2, 3).start"
   ]
  },
  {
   "cell_type": "code",
   "execution_count": 60,
   "metadata": {
    "execution": {
     "iopub.execute_input": "2020-04-21T18:48:31.451322Z",
     "iopub.status.busy": "2020-04-21T18:48:31.451097Z",
     "iopub.status.idle": "2020-04-21T18:48:31.461247Z",
     "shell.execute_reply": "2020-04-21T18:48:31.460443Z",
     "shell.execute_reply.started": "2020-04-21T18:48:31.451298Z"
    }
   },
   "outputs": [
    {
     "data": {
      "text/html": [
       "<div>\n",
       "<style scoped>\n",
       "    .dataframe tbody tr th:only-of-type {\n",
       "        vertical-align: middle;\n",
       "    }\n",
       "\n",
       "    .dataframe tbody tr th {\n",
       "        vertical-align: top;\n",
       "    }\n",
       "\n",
       "    .dataframe thead th {\n",
       "        text-align: right;\n",
       "    }\n",
       "</style>\n",
       "<table border=\"1\" class=\"dataframe\">\n",
       "  <thead>\n",
       "    <tr style=\"text-align: right;\">\n",
       "      <th></th>\n",
       "      <th>0</th>\n",
       "      <th>1</th>\n",
       "    </tr>\n",
       "  </thead>\n",
       "  <tbody>\n",
       "    <tr>\n",
       "      <th>0</th>\n",
       "      <td>{'__tp': 'numpy.ndarray'}</td>\n",
       "      <td>0</td>\n",
       "    </tr>\n",
       "    <tr>\n",
       "      <th>1</th>\n",
       "      <td>{'__tp': 'numpy.ndarray'}</td>\n",
       "      <td>{'__tp': 'numpy.ndarray'}</td>\n",
       "    </tr>\n",
       "    <tr>\n",
       "      <th>2</th>\n",
       "      <td>{'__tp': 'numpy.ndarray'}</td>\n",
       "      <td>0</td>\n",
       "    </tr>\n",
       "    <tr>\n",
       "      <th>3</th>\n",
       "      <td>{'__tp': 'numpy.ndarray'}</td>\n",
       "      <td>{'__tp': 'builtins.slice', '__v': [1, 2, None]}</td>\n",
       "    </tr>\n",
       "  </tbody>\n",
       "</table>\n",
       "</div>"
      ],
      "text/plain": [
       "                           0                                                1\n",
       "0  {'__tp': 'numpy.ndarray'}                                                0\n",
       "1  {'__tp': 'numpy.ndarray'}                        {'__tp': 'numpy.ndarray'}\n",
       "2  {'__tp': 'numpy.ndarray'}                                                0\n",
       "3  {'__tp': 'numpy.ndarray'}  {'__tp': 'builtins.slice', '__v': [1, 2, None]}"
      ]
     },
     "execution_count": 60,
     "metadata": {},
     "output_type": "execute_result"
    }
   ],
   "source": [
    "get_types('_operator.getitem')"
   ]
  },
  {
   "cell_type": "code",
   "execution_count": 61,
   "metadata": {
    "execution": {
     "iopub.execute_input": "2020-04-21T18:48:32.204121Z",
     "iopub.status.busy": "2020-04-21T18:48:32.203929Z",
     "iopub.status.idle": "2020-04-21T18:48:32.210121Z",
     "shell.execute_reply": "2020-04-21T18:48:32.209567Z",
     "shell.execute_reply.started": "2020-04-21T18:48:32.204100Z"
    }
   },
   "outputs": [
    {
     "data": {
      "text/html": [
       "<div>\n",
       "<style scoped>\n",
       "    .dataframe tbody tr th:only-of-type {\n",
       "        vertical-align: middle;\n",
       "    }\n",
       "\n",
       "    .dataframe tbody tr th {\n",
       "        vertical-align: top;\n",
       "    }\n",
       "\n",
       "    .dataframe thead th {\n",
       "        text-align: right;\n",
       "    }\n",
       "</style>\n",
       "<table border=\"1\" class=\"dataframe\">\n",
       "  <thead>\n",
       "    <tr style=\"text-align: right;\">\n",
       "      <th></th>\n",
       "      <th>0</th>\n",
       "    </tr>\n",
       "  </thead>\n",
       "  <tbody>\n",
       "    <tr>\n",
       "      <th>0</th>\n",
       "      <td>[4, 5]</td>\n",
       "    </tr>\n",
       "  </tbody>\n",
       "</table>\n",
       "</div>"
      ],
      "text/plain": [
       "        0\n",
       "0  [4, 5]"
      ]
     },
     "execution_count": 61,
     "metadata": {},
     "output_type": "execute_result"
    }
   ],
   "source": [
    "get_types('numpy.zeros')"
   ]
  },
  {
   "cell_type": "code",
   "execution_count": 62,
   "metadata": {
    "execution": {
     "iopub.execute_input": "2020-04-21T18:48:38.596425Z",
     "iopub.status.busy": "2020-04-21T18:48:38.596197Z",
     "iopub.status.idle": "2020-04-21T18:48:38.603732Z",
     "shell.execute_reply": "2020-04-21T18:48:38.603030Z",
     "shell.execute_reply.started": "2020-04-21T18:48:38.596400Z"
    }
   },
   "outputs": [
    {
     "data": {
      "text/html": [
       "<div>\n",
       "<style scoped>\n",
       "    .dataframe tbody tr th:only-of-type {\n",
       "        vertical-align: middle;\n",
       "    }\n",
       "\n",
       "    .dataframe tbody tr th {\n",
       "        vertical-align: top;\n",
       "    }\n",
       "\n",
       "    .dataframe thead th {\n",
       "        text-align: right;\n",
       "    }\n",
       "</style>\n",
       "<table border=\"1\" class=\"dataframe\">\n",
       "  <thead>\n",
       "    <tr style=\"text-align: right;\">\n",
       "      <th></th>\n",
       "      <th>0</th>\n",
       "      <th>1</th>\n",
       "      <th>2</th>\n",
       "    </tr>\n",
       "  </thead>\n",
       "  <tbody>\n",
       "    <tr>\n",
       "      <th>0</th>\n",
       "      <td>0</td>\n",
       "      <td>2</td>\n",
       "      <td>100</td>\n",
       "    </tr>\n",
       "  </tbody>\n",
       "</table>\n",
       "</div>"
      ],
      "text/plain": [
       "   0  1    2\n",
       "0  0  2  100"
      ]
     },
     "execution_count": 62,
     "metadata": {},
     "output_type": "execute_result"
    }
   ],
   "source": [
    "get_types('numpy.linspace').head()"
   ]
  },
  {
   "cell_type": "code",
   "execution_count": null,
   "metadata": {},
   "outputs": [],
   "source": []
  }
 ],
 "metadata": {
  "kernelspec": {
   "display_name": "Python 3",
   "language": "python",
   "name": "python3"
  },
  "language_info": {
   "codemirror_mode": {
    "name": "ipython",
    "version": 3
   },
   "file_extension": ".py",
   "mimetype": "text/x-python",
   "name": "python",
   "nbconvert_exporter": "python",
   "pygments_lexer": "ipython3",
   "version": "3.8.2"
  }
 },
 "nbformat": 4,
 "nbformat_minor": 4
}
