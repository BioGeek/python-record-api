{
 "cells": [
  {
   "cell_type": "code",
   "execution_count": 4,
   "metadata": {
    "execution": {
     "iopub.execute_input": "2020-04-16T18:17:04.078007Z",
     "iopub.status.busy": "2020-04-16T18:17:04.077785Z",
     "iopub.status.idle": "2020-04-16T18:17:06.331118Z",
     "shell.execute_reply": "2020-04-16T18:17:06.330377Z",
     "shell.execute_reply.started": "2020-04-16T18:17:04.077982Z"
    }
   },
   "outputs": [
    {
     "name": "stdout",
     "output_type": "stream",
     "text": [
      "Requirement already satisfied: pandas in /usr/local/Caskroom/miniconda/base/envs/scikit-image/lib/python3.8/site-packages (1.0.3)\n",
      "Requirement already satisfied: altair in /usr/local/Caskroom/miniconda/base/envs/scikit-image/lib/python3.8/site-packages (4.1.0)\n",
      "Collecting altair_data_server\n",
      "  Downloading altair_data_server-0.4.1-py3-none-any.whl (12 kB)\n",
      "Requirement already satisfied: pytz>=2017.2 in /usr/local/Caskroom/miniconda/base/envs/scikit-image/lib/python3.8/site-packages (from pandas) (2019.3)\n",
      "Requirement already satisfied: numpy>=1.13.3 in /usr/local/Caskroom/miniconda/base/envs/scikit-image/lib/python3.8/site-packages (from pandas) (1.18.1)\n",
      "Requirement already satisfied: python-dateutil>=2.6.1 in /usr/local/Caskroom/miniconda/base/envs/scikit-image/lib/python3.8/site-packages (from pandas) (2.8.1)\n",
      "Requirement already satisfied: entrypoints in /usr/local/Caskroom/miniconda/base/envs/scikit-image/lib/python3.8/site-packages (from altair) (0.3)\n",
      "Requirement already satisfied: jinja2 in /usr/local/Caskroom/miniconda/base/envs/scikit-image/lib/python3.8/site-packages (from altair) (2.11.2)\n",
      "Requirement already satisfied: jsonschema in /usr/local/Caskroom/miniconda/base/envs/scikit-image/lib/python3.8/site-packages (from altair) (3.2.0)\n",
      "Requirement already satisfied: toolz in /usr/local/Caskroom/miniconda/base/envs/scikit-image/lib/python3.8/site-packages (from altair) (0.10.0)\n",
      "Requirement already satisfied: tornado in /usr/local/Caskroom/miniconda/base/envs/scikit-image/lib/python3.8/site-packages (from altair_data_server) (6.0.4)\n",
      "Collecting portpicker\n",
      "  Downloading portpicker-1.3.1.tar.gz (18 kB)\n",
      "Requirement already satisfied: six>=1.5 in /usr/local/Caskroom/miniconda/base/envs/scikit-image/lib/python3.8/site-packages (from python-dateutil>=2.6.1->pandas) (1.14.0)\n",
      "Requirement already satisfied: MarkupSafe>=0.23 in /usr/local/Caskroom/miniconda/base/envs/scikit-image/lib/python3.8/site-packages (from jinja2->altair) (1.1.1)\n",
      "Requirement already satisfied: pyrsistent>=0.14.0 in /usr/local/Caskroom/miniconda/base/envs/scikit-image/lib/python3.8/site-packages (from jsonschema->altair) (0.16.0)\n",
      "Requirement already satisfied: setuptools in /usr/local/Caskroom/miniconda/base/envs/scikit-image/lib/python3.8/site-packages (from jsonschema->altair) (46.1.3.post20200325)\n",
      "Requirement already satisfied: attrs>=17.4.0 in /usr/local/Caskroom/miniconda/base/envs/scikit-image/lib/python3.8/site-packages (from jsonschema->altair) (19.3.0)\n",
      "Building wheels for collected packages: portpicker\n",
      "  Building wheel for portpicker (setup.py) ... \u001b[?25ldone\n",
      "\u001b[?25h  Created wheel for portpicker: filename=portpicker-1.3.1-py3-none-any.whl size=13665 sha256=aed18ce12b61a0fe9178737dd1e5660676457e62e589cc9715b8b1b83ffa1eb2\n",
      "  Stored in directory: /Users/saul/Library/Caches/pip/wheels/79/41/b5/c922618972ef3ad0bfa030d39016537cd9f915918bd72b8bbe\n",
      "Successfully built portpicker\n",
      "Installing collected packages: portpicker, altair-data-server\n",
      "Successfully installed altair-data-server-0.4.1 portpicker-1.3.1\n"
     ]
    }
   ],
   "source": [
    "!pip install pandas altair altair_data_server"
   ]
  },
  {
   "cell_type": "code",
   "execution_count": 6,
   "metadata": {
    "execution": {
     "iopub.execute_input": "2020-04-16T18:17:10.025472Z",
     "iopub.status.busy": "2020-04-16T18:17:10.025273Z",
     "iopub.status.idle": "2020-04-16T18:17:10.066851Z",
     "shell.execute_reply": "2020-04-16T18:17:10.066381Z",
     "shell.execute_reply.started": "2020-04-16T18:17:10.025451Z"
    }
   },
   "outputs": [
    {
     "data": {
      "text/plain": [
       "DataTransformerRegistry.enable('data_server')"
      ]
     },
     "execution_count": 6,
     "metadata": {},
     "output_type": "execute_result"
    }
   ],
   "source": [
    "import pandas\n",
    "import altair\n",
    "\n",
    "altair.data_transformers.enable('data_server')"
   ]
  },
  {
   "cell_type": "code",
   "execution_count": 7,
   "metadata": {
    "execution": {
     "iopub.execute_input": "2020-04-16T18:17:10.519174Z",
     "iopub.status.busy": "2020-04-16T18:17:10.518954Z",
     "iopub.status.idle": "2020-04-16T18:17:10.546946Z",
     "shell.execute_reply": "2020-04-16T18:17:10.546451Z",
     "shell.execute_reply.started": "2020-04-16T18:17:10.519151Z"
    }
   },
   "outputs": [
    {
     "data": {
      "text/html": [
       "<div>\n",
       "<style scoped>\n",
       "    .dataframe tbody tr th:only-of-type {\n",
       "        vertical-align: middle;\n",
       "    }\n",
       "\n",
       "    .dataframe tbody tr th {\n",
       "        vertical-align: top;\n",
       "    }\n",
       "\n",
       "    .dataframe thead th {\n",
       "        text-align: right;\n",
       "    }\n",
       "</style>\n",
       "<table border=\"1\" class=\"dataframe\">\n",
       "  <thead>\n",
       "    <tr style=\"text-align: right;\">\n",
       "      <th></th>\n",
       "      <th>function</th>\n",
       "      <th>caller_args</th>\n",
       "      <th>caller_kwargs</th>\n",
       "      <th>signature_available</th>\n",
       "      <th>function_arguments</th>\n",
       "      <th>function_var_positional</th>\n",
       "      <th>function_var_keyword</th>\n",
       "    </tr>\n",
       "  </thead>\n",
       "  <tbody>\n",
       "    <tr>\n",
       "      <th>0</th>\n",
       "      <td>numpy.__getattr__</td>\n",
       "      <td>[builtins.str]</td>\n",
       "      <td>{}</td>\n",
       "      <td>True</td>\n",
       "      <td>{'attr': 'builtins.str'}</td>\n",
       "      <td>[]</td>\n",
       "      <td>{}</td>\n",
       "    </tr>\n",
       "    <tr>\n",
       "      <th>1</th>\n",
       "      <td>numpy.testing._private.decorators.skipif</td>\n",
       "      <td>[builtins.bool, builtins.str]</td>\n",
       "      <td>{}</td>\n",
       "      <td>True</td>\n",
       "      <td>{'skip_condition': 'builtins.bool', 'msg': 'bu...</td>\n",
       "      <td>[]</td>\n",
       "      <td>{}</td>\n",
       "    </tr>\n",
       "    <tr>\n",
       "      <th>2</th>\n",
       "      <td>numpy.core._internal._ufunc_doc_signature_form...</td>\n",
       "      <td>[numpy.ufunc]</td>\n",
       "      <td>{}</td>\n",
       "      <td>True</td>\n",
       "      <td>{'ufunc': 'numpy.ufunc'}</td>\n",
       "      <td>[]</td>\n",
       "      <td>{}</td>\n",
       "    </tr>\n",
       "    <tr>\n",
       "      <th>3</th>\n",
       "      <td>numpy.core._internal._ufunc_doc_signature_form...</td>\n",
       "      <td>[numpy.ufunc]</td>\n",
       "      <td>{}</td>\n",
       "      <td>True</td>\n",
       "      <td>{'ufunc': 'numpy.ufunc'}</td>\n",
       "      <td>[]</td>\n",
       "      <td>{}</td>\n",
       "    </tr>\n",
       "    <tr>\n",
       "      <th>4</th>\n",
       "      <td>numpy.core._internal._ufunc_doc_signature_form...</td>\n",
       "      <td>[numpy.ufunc]</td>\n",
       "      <td>{}</td>\n",
       "      <td>True</td>\n",
       "      <td>{'ufunc': 'numpy.ufunc'}</td>\n",
       "      <td>[]</td>\n",
       "      <td>{}</td>\n",
       "    </tr>\n",
       "  </tbody>\n",
       "</table>\n",
       "</div>"
      ],
      "text/plain": [
       "                                            function  \\\n",
       "0                                  numpy.__getattr__   \n",
       "1           numpy.testing._private.decorators.skipif   \n",
       "2  numpy.core._internal._ufunc_doc_signature_form...   \n",
       "3  numpy.core._internal._ufunc_doc_signature_form...   \n",
       "4  numpy.core._internal._ufunc_doc_signature_form...   \n",
       "\n",
       "                     caller_args caller_kwargs  signature_available  \\\n",
       "0                 [builtins.str]            {}                 True   \n",
       "1  [builtins.bool, builtins.str]            {}                 True   \n",
       "2                  [numpy.ufunc]            {}                 True   \n",
       "3                  [numpy.ufunc]            {}                 True   \n",
       "4                  [numpy.ufunc]            {}                 True   \n",
       "\n",
       "                                  function_arguments function_var_positional  \\\n",
       "0                           {'attr': 'builtins.str'}                      []   \n",
       "1  {'skip_condition': 'builtins.bool', 'msg': 'bu...                      []   \n",
       "2                           {'ufunc': 'numpy.ufunc'}                      []   \n",
       "3                           {'ufunc': 'numpy.ufunc'}                      []   \n",
       "4                           {'ufunc': 'numpy.ufunc'}                      []   \n",
       "\n",
       "  function_var_keyword  \n",
       "0                   {}  \n",
       "1                   {}  \n",
       "2                   {}  \n",
       "3                   {}  \n",
       "4                   {}  "
      ]
     },
     "execution_count": 7,
     "metadata": {},
     "output_type": "execute_result"
    }
   ],
   "source": [
    "data = pandas.read_json('out.jsonl', lines=True)\n",
    "data.head()"
   ]
  },
  {
   "cell_type": "code",
   "execution_count": 8,
   "metadata": {
    "execution": {
     "iopub.execute_input": "2020-04-16T18:17:11.707569Z",
     "iopub.status.busy": "2020-04-16T18:17:11.707342Z",
     "iopub.status.idle": "2020-04-16T18:17:11.756377Z",
     "shell.execute_reply": "2020-04-16T18:17:11.755785Z",
     "shell.execute_reply.started": "2020-04-16T18:17:11.707545Z"
    }
   },
   "outputs": [
    {
     "data": {
      "text/html": [
       "\n",
       "<div id=\"altair-viz-27e6c0ddf86a4bdc8b39fd77f8e84c0e\"></div>\n",
       "<script type=\"text/javascript\">\n",
       "  (function(spec, embedOpt){\n",
       "    let outputDiv = document.currentScript.previousElementSibling;\n",
       "    if (outputDiv.id !== \"altair-viz-27e6c0ddf86a4bdc8b39fd77f8e84c0e\") {\n",
       "      outputDiv = document.getElementById(\"altair-viz-27e6c0ddf86a4bdc8b39fd77f8e84c0e\");\n",
       "    }\n",
       "    const paths = {\n",
       "      \"vega\": \"https://cdn.jsdelivr.net/npm//vega@5?noext\",\n",
       "      \"vega-lib\": \"https://cdn.jsdelivr.net/npm//vega-lib?noext\",\n",
       "      \"vega-lite\": \"https://cdn.jsdelivr.net/npm//vega-lite@4.8.1?noext\",\n",
       "      \"vega-embed\": \"https://cdn.jsdelivr.net/npm//vega-embed@6?noext\",\n",
       "    };\n",
       "\n",
       "    function loadScript(lib) {\n",
       "      return new Promise(function(resolve, reject) {\n",
       "        var s = document.createElement('script');\n",
       "        s.src = paths[lib];\n",
       "        s.async = true;\n",
       "        s.onload = () => resolve(paths[lib]);\n",
       "        s.onerror = () => reject(`Error loading script: ${paths[lib]}`);\n",
       "        document.getElementsByTagName(\"head\")[0].appendChild(s);\n",
       "      });\n",
       "    }\n",
       "\n",
       "    function showError(err) {\n",
       "      outputDiv.innerHTML = `<div class=\"error\" style=\"color:red;\">${err}</div>`;\n",
       "      throw err;\n",
       "    }\n",
       "\n",
       "    function displayChart(vegaEmbed) {\n",
       "      vegaEmbed(outputDiv, spec, embedOpt)\n",
       "        .catch(err => showError(`Javascript Error: ${err.message}<br>This usually means there's a typo in your chart specification. See the javascript console for the full traceback.`));\n",
       "    }\n",
       "\n",
       "    if(typeof define === \"function\" && define.amd) {\n",
       "      requirejs.config({paths});\n",
       "      require([\"vega-embed\"], displayChart, err => showError(`Error loading script: ${err.message}`));\n",
       "    } else if (typeof vegaEmbed === \"function\") {\n",
       "      displayChart(vegaEmbed);\n",
       "    } else {\n",
       "      loadScript(\"vega\")\n",
       "        .then(() => loadScript(\"vega-lite\"))\n",
       "        .then(() => loadScript(\"vega-embed\"))\n",
       "        .catch(showError)\n",
       "        .then(() => displayChart(vegaEmbed));\n",
       "    }\n",
       "  })({\"config\": {\"view\": {\"continuousWidth\": 400, \"continuousHeight\": 300}}, \"data\": {\"url\": \"http://localhost:15254/943f43bb05f567dae4a7cc80473389b1.json\"}, \"mark\": \"bar\", \"encoding\": {\"x\": {\"type\": \"quantitative\", \"aggregate\": \"count\"}, \"y\": {\"type\": \"nominal\", \"field\": \"function\", \"sort\": \"-x\"}}, \"$schema\": \"https://vega.github.io/schema/vega-lite/v4.8.1.json\"}, {\"mode\": \"vega-lite\"});\n",
       "</script>"
      ],
      "text/plain": [
       "alt.Chart(...)"
      ]
     },
     "execution_count": 8,
     "metadata": {},
     "output_type": "execute_result"
    }
   ],
   "source": [
    "altair.Chart(data).mark_bar().encode(\n",
    "    y=altair.Y('function', sort='-x'),\n",
    "    x='count()'\n",
    ")"
   ]
  },
  {
   "cell_type": "code",
   "execution_count": 9,
   "metadata": {
    "execution": {
     "iopub.execute_input": "2020-04-16T18:17:13.653710Z",
     "iopub.status.busy": "2020-04-16T18:17:13.653483Z",
     "iopub.status.idle": "2020-04-16T18:17:13.657163Z",
     "shell.execute_reply": "2020-04-16T18:17:13.656549Z",
     "shell.execute_reply.started": "2020-04-16T18:17:13.653685Z"
    }
   },
   "outputs": [],
   "source": [
    "def get_types(name):\n",
    "    return pandas.DataFrame.from_records(list(data[data.function == name]['function_arguments'].to_dict().values()))"
   ]
  },
  {
   "cell_type": "code",
   "execution_count": 10,
   "metadata": {
    "execution": {
     "iopub.execute_input": "2020-04-16T18:17:13.847059Z",
     "iopub.status.busy": "2020-04-16T18:17:13.846839Z",
     "iopub.status.idle": "2020-04-16T18:17:13.856909Z",
     "shell.execute_reply": "2020-04-16T18:17:13.856318Z",
     "shell.execute_reply.started": "2020-04-16T18:17:13.847036Z"
    }
   },
   "outputs": [
    {
     "data": {
      "text/html": [
       "<div>\n",
       "<style scoped>\n",
       "    .dataframe tbody tr th:only-of-type {\n",
       "        vertical-align: middle;\n",
       "    }\n",
       "\n",
       "    .dataframe tbody tr th {\n",
       "        vertical-align: top;\n",
       "    }\n",
       "\n",
       "    .dataframe thead th {\n",
       "        text-align: right;\n",
       "    }\n",
       "</style>\n",
       "<table border=\"1\" class=\"dataframe\">\n",
       "  <thead>\n",
       "    <tr style=\"text-align: right;\">\n",
       "      <th></th>\n",
       "      <th>shape</th>\n",
       "      <th>fill_value</th>\n",
       "      <th>dtype</th>\n",
       "      <th>order</th>\n",
       "    </tr>\n",
       "  </thead>\n",
       "  <tbody>\n",
       "    <tr>\n",
       "      <th>0</th>\n",
       "      <td>builtins.tuple</td>\n",
       "      <td>builtins.float</td>\n",
       "      <td>builtins.NoneType</td>\n",
       "      <td>builtins.str</td>\n",
       "    </tr>\n",
       "  </tbody>\n",
       "</table>\n",
       "</div>"
      ],
      "text/plain": [
       "            shape      fill_value              dtype         order\n",
       "0  builtins.tuple  builtins.float  builtins.NoneType  builtins.str"
      ]
     },
     "execution_count": 10,
     "metadata": {},
     "output_type": "execute_result"
    }
   ],
   "source": [
    "get_types('numpy.full').head()"
   ]
  },
  {
   "cell_type": "code",
   "execution_count": 11,
   "metadata": {
    "execution": {
     "iopub.execute_input": "2020-04-16T18:17:14.254170Z",
     "iopub.status.busy": "2020-04-16T18:17:14.253949Z",
     "iopub.status.idle": "2020-04-16T18:17:14.261905Z",
     "shell.execute_reply": "2020-04-16T18:17:14.261191Z",
     "shell.execute_reply.started": "2020-04-16T18:17:14.254146Z"
    }
   },
   "outputs": [
    {
     "data": {
      "text/html": [
       "<div>\n",
       "<style scoped>\n",
       "    .dataframe tbody tr th:only-of-type {\n",
       "        vertical-align: middle;\n",
       "    }\n",
       "\n",
       "    .dataframe tbody tr th {\n",
       "        vertical-align: top;\n",
       "    }\n",
       "\n",
       "    .dataframe thead th {\n",
       "        text-align: right;\n",
       "    }\n",
       "</style>\n",
       "<table border=\"1\" class=\"dataframe\">\n",
       "  <thead>\n",
       "    <tr style=\"text-align: right;\">\n",
       "      <th></th>\n",
       "      <th>a</th>\n",
       "      <th>axis</th>\n",
       "    </tr>\n",
       "  </thead>\n",
       "  <tbody>\n",
       "    <tr>\n",
       "      <th>0</th>\n",
       "      <td>numpy.ndarray</td>\n",
       "      <td>builtins.NoneType</td>\n",
       "    </tr>\n",
       "  </tbody>\n",
       "</table>\n",
       "</div>"
      ],
      "text/plain": [
       "               a               axis\n",
       "0  numpy.ndarray  builtins.NoneType"
      ]
     },
     "execution_count": 11,
     "metadata": {},
     "output_type": "execute_result"
    }
   ],
   "source": [
    "get_types('numpy.squeeze').head()"
   ]
  },
  {
   "cell_type": "code",
   "execution_count": 12,
   "metadata": {
    "execution": {
     "iopub.execute_input": "2020-04-16T18:17:15.155118Z",
     "iopub.status.busy": "2020-04-16T18:17:15.154932Z",
     "iopub.status.idle": "2020-04-16T18:17:15.165605Z",
     "shell.execute_reply": "2020-04-16T18:17:15.165099Z",
     "shell.execute_reply.started": "2020-04-16T18:17:15.155097Z"
    }
   },
   "outputs": [
    {
     "data": {
      "text/html": [
       "<div>\n",
       "<style scoped>\n",
       "    .dataframe tbody tr th:only-of-type {\n",
       "        vertical-align: middle;\n",
       "    }\n",
       "\n",
       "    .dataframe tbody tr th {\n",
       "        vertical-align: top;\n",
       "    }\n",
       "\n",
       "    .dataframe thead th {\n",
       "        text-align: right;\n",
       "    }\n",
       "</style>\n",
       "<table border=\"1\" class=\"dataframe\">\n",
       "  <thead>\n",
       "    <tr style=\"text-align: right;\">\n",
       "      <th></th>\n",
       "      <th>start</th>\n",
       "      <th>stop</th>\n",
       "      <th>num</th>\n",
       "      <th>endpoint</th>\n",
       "      <th>retstep</th>\n",
       "      <th>dtype</th>\n",
       "      <th>axis</th>\n",
       "    </tr>\n",
       "  </thead>\n",
       "  <tbody>\n",
       "    <tr>\n",
       "      <th>0</th>\n",
       "      <td>builtins.int</td>\n",
       "      <td>builtins.int</td>\n",
       "      <td>builtins.int</td>\n",
       "      <td>builtins.bool</td>\n",
       "      <td>builtins.bool</td>\n",
       "      <td>builtins.NoneType</td>\n",
       "      <td>builtins.int</td>\n",
       "    </tr>\n",
       "    <tr>\n",
       "      <th>1</th>\n",
       "      <td>builtins.int</td>\n",
       "      <td>builtins.int</td>\n",
       "      <td>builtins.int</td>\n",
       "      <td>builtins.bool</td>\n",
       "      <td>builtins.bool</td>\n",
       "      <td>builtins.NoneType</td>\n",
       "      <td>builtins.int</td>\n",
       "    </tr>\n",
       "    <tr>\n",
       "      <th>2</th>\n",
       "      <td>builtins.int</td>\n",
       "      <td>builtins.int</td>\n",
       "      <td>builtins.int</td>\n",
       "      <td>builtins.bool</td>\n",
       "      <td>builtins.bool</td>\n",
       "      <td>builtins.NoneType</td>\n",
       "      <td>builtins.int</td>\n",
       "    </tr>\n",
       "    <tr>\n",
       "      <th>3</th>\n",
       "      <td>builtins.int</td>\n",
       "      <td>builtins.int</td>\n",
       "      <td>builtins.int</td>\n",
       "      <td>builtins.bool</td>\n",
       "      <td>builtins.bool</td>\n",
       "      <td>builtins.NoneType</td>\n",
       "      <td>builtins.int</td>\n",
       "    </tr>\n",
       "    <tr>\n",
       "      <th>4</th>\n",
       "      <td>builtins.int</td>\n",
       "      <td>builtins.int</td>\n",
       "      <td>builtins.int</td>\n",
       "      <td>builtins.bool</td>\n",
       "      <td>builtins.bool</td>\n",
       "      <td>builtins.NoneType</td>\n",
       "      <td>builtins.int</td>\n",
       "    </tr>\n",
       "  </tbody>\n",
       "</table>\n",
       "</div>"
      ],
      "text/plain": [
       "          start          stop           num       endpoint        retstep  \\\n",
       "0  builtins.int  builtins.int  builtins.int  builtins.bool  builtins.bool   \n",
       "1  builtins.int  builtins.int  builtins.int  builtins.bool  builtins.bool   \n",
       "2  builtins.int  builtins.int  builtins.int  builtins.bool  builtins.bool   \n",
       "3  builtins.int  builtins.int  builtins.int  builtins.bool  builtins.bool   \n",
       "4  builtins.int  builtins.int  builtins.int  builtins.bool  builtins.bool   \n",
       "\n",
       "               dtype          axis  \n",
       "0  builtins.NoneType  builtins.int  \n",
       "1  builtins.NoneType  builtins.int  \n",
       "2  builtins.NoneType  builtins.int  \n",
       "3  builtins.NoneType  builtins.int  \n",
       "4  builtins.NoneType  builtins.int  "
      ]
     },
     "execution_count": 12,
     "metadata": {},
     "output_type": "execute_result"
    }
   ],
   "source": [
    "get_types('numpy.linspace').head()"
   ]
  },
  {
   "cell_type": "code",
   "execution_count": null,
   "metadata": {},
   "outputs": [],
   "source": []
  }
 ],
 "metadata": {
  "kernelspec": {
   "display_name": "Python 3",
   "language": "python",
   "name": "python3"
  },
  "language_info": {
   "codemirror_mode": {
    "name": "ipython",
    "version": 3
   },
   "file_extension": ".py",
   "mimetype": "text/x-python",
   "name": "python",
   "nbconvert_exporter": "python",
   "pygments_lexer": "ipython3",
   "version": "3.8.2"
  }
 },
 "nbformat": 4,
 "nbformat_minor": 4
}
