{
 "cells": [
  {
   "cell_type": "code",
   "execution_count": 9,
   "metadata": {
    "execution": {
     "iopub.execute_input": "2020-05-10T18:05:00.720622Z",
     "iopub.status.busy": "2020-05-10T18:05:00.720387Z",
     "iopub.status.idle": "2020-05-10T18:05:00.845374Z",
     "shell.execute_reply": "2020-05-10T18:05:00.844859Z",
     "shell.execute_reply.started": "2020-05-10T18:05:00.720600Z"
    }
   },
   "outputs": [
    {
     "data": {
      "text/plain": [
       "DataTransformerRegistry.enable('data_server')"
      ]
     },
     "execution_count": 9,
     "metadata": {},
     "output_type": "execute_result"
    }
   ],
   "source": [
    "import pandas as pd\n",
    "import altair as alt\n",
    "import pathlib\n",
    "\n",
    "pd.set_option('max_colwidth', 200)\n",
    "alt.data_transformers.enable('data_server')"
   ]
  },
  {
   "cell_type": "code",
   "execution_count": 17,
   "metadata": {
    "execution": {
     "iopub.execute_input": "2020-05-10T18:24:19.217359Z",
     "iopub.status.busy": "2020-05-10T18:24:19.217061Z",
     "iopub.status.idle": "2020-05-10T18:24:19.246657Z",
     "shell.execute_reply": "2020-05-10T18:24:19.245863Z",
     "shell.execute_reply.started": "2020-05-10T18:24:19.217326Z"
    }
   },
   "outputs": [],
   "source": [
    "def read_path(path):\n",
    "    library = path.stem\n",
    "    df = pd.read_csv(str(path))\n",
    "    df['library'] = library\n",
    "    return df\n",
    "\n",
    "df = pd.concat(read_path(path) for path in (pathlib.Path('.') / 'data' / 'counts_untyped').glob(\"*.csv\") if path.stem != 'sample_usage')\n",
    "df."
   ]
  },
  {
   "cell_type": "markdown",
   "metadata": {},
   "source": [
    "Remove functions with bad names, really should clean these up in generation scripts!"
   ]
  },
  {
   "cell_type": "code",
   "execution_count": 18,
   "metadata": {
    "execution": {
     "iopub.execute_input": "2020-05-10T18:24:20.562500Z",
     "iopub.status.busy": "2020-05-10T18:24:20.562241Z",
     "iopub.status.idle": "2020-05-10T18:24:20.569112Z",
     "shell.execute_reply": "2020-05-10T18:24:20.568344Z",
     "shell.execute_reply.started": "2020-05-10T18:24:20.562470Z"
    }
   },
   "outputs": [],
   "source": [
    "df = df[~df.function.str.contains('<')]"
   ]
  },
  {
   "cell_type": "code",
   "execution_count": 20,
   "metadata": {
    "execution": {
     "iopub.execute_input": "2020-05-10T18:25:31.239795Z",
     "iopub.status.busy": "2020-05-10T18:25:31.239564Z",
     "iopub.status.idle": "2020-05-10T18:25:31.253290Z",
     "shell.execute_reply": "2020-05-10T18:25:31.252679Z",
     "shell.execute_reply.started": "2020-05-10T18:25:31.239770Z"
    }
   },
   "outputs": [],
   "source": [
    "df.to_csv(str(pathlib.Path('.') / 'data' / 'counts_untyped.csv'))"
   ]
  },
  {
   "cell_type": "code",
   "execution_count": 19,
   "metadata": {
    "execution": {
     "iopub.execute_input": "2020-05-10T18:24:22.047181Z",
     "iopub.status.busy": "2020-05-10T18:24:22.046925Z",
     "iopub.status.idle": "2020-05-10T18:24:22.082556Z",
     "shell.execute_reply": "2020-05-10T18:24:22.082006Z",
     "shell.execute_reply.started": "2020-05-10T18:24:22.047152Z"
    }
   },
   "outputs": [
    {
     "data": {
      "text/html": [
       "\n",
       "<div id=\"altair-viz-60960e2a04394abb9eb63806d64b28a7\"></div>\n",
       "<script type=\"text/javascript\">\n",
       "  (function(spec, embedOpt){\n",
       "    let outputDiv = document.currentScript.previousElementSibling;\n",
       "    if (outputDiv.id !== \"altair-viz-60960e2a04394abb9eb63806d64b28a7\") {\n",
       "      outputDiv = document.getElementById(\"altair-viz-60960e2a04394abb9eb63806d64b28a7\");\n",
       "    }\n",
       "    const paths = {\n",
       "      \"vega\": \"https://cdn.jsdelivr.net/npm//vega@5?noext\",\n",
       "      \"vega-lib\": \"https://cdn.jsdelivr.net/npm//vega-lib?noext\",\n",
       "      \"vega-lite\": \"https://cdn.jsdelivr.net/npm//vega-lite@4.8.1?noext\",\n",
       "      \"vega-embed\": \"https://cdn.jsdelivr.net/npm//vega-embed@6?noext\",\n",
       "    };\n",
       "\n",
       "    function loadScript(lib) {\n",
       "      return new Promise(function(resolve, reject) {\n",
       "        var s = document.createElement('script');\n",
       "        s.src = paths[lib];\n",
       "        s.async = true;\n",
       "        s.onload = () => resolve(paths[lib]);\n",
       "        s.onerror = () => reject(`Error loading script: ${paths[lib]}`);\n",
       "        document.getElementsByTagName(\"head\")[0].appendChild(s);\n",
       "      });\n",
       "    }\n",
       "\n",
       "    function showError(err) {\n",
       "      outputDiv.innerHTML = `<div class=\"error\" style=\"color:red;\">${err}</div>`;\n",
       "      throw err;\n",
       "    }\n",
       "\n",
       "    function displayChart(vegaEmbed) {\n",
       "      vegaEmbed(outputDiv, spec, embedOpt)\n",
       "        .catch(err => showError(`Javascript Error: ${err.message}<br>This usually means there's a typo in your chart specification. See the javascript console for the full traceback.`));\n",
       "    }\n",
       "\n",
       "    if(typeof define === \"function\" && define.amd) {\n",
       "      requirejs.config({paths});\n",
       "      require([\"vega-embed\"], displayChart, err => showError(`Error loading script: ${err.message}`));\n",
       "    } else if (typeof vegaEmbed === \"function\") {\n",
       "      displayChart(vegaEmbed);\n",
       "    } else {\n",
       "      loadScript(\"vega\")\n",
       "        .then(() => loadScript(\"vega-lite\"))\n",
       "        .then(() => loadScript(\"vega-embed\"))\n",
       "        .catch(showError)\n",
       "        .then(() => displayChart(vegaEmbed));\n",
       "    }\n",
       "  })({\"config\": {\"view\": {\"continuousWidth\": 400, \"continuousHeight\": 300}}, \"data\": {\"url\": \"http://localhost:24537/cdceae25d57f28fd77397659cd44ac2f.json\"}, \"mark\": \"bar\", \"encoding\": {\"color\": {\"type\": \"nominal\", \"field\": \"library\"}, \"tooltip\": [{\"type\": \"nominal\", \"field\": \"function\"}, {\"type\": \"quantitative\", \"field\": \"count\"}, {\"type\": \"nominal\", \"field\": \"library\"}], \"x\": {\"type\": \"quantitative\", \"field\": \"count\"}, \"y\": {\"type\": \"nominal\", \"field\": \"function\", \"sort\": \"-x\"}}, \"$schema\": \"https://vega.github.io/schema/vega-lite/v4.8.1.json\"}, {\"mode\": \"vega-lite\"});\n",
       "</script>"
      ],
      "text/plain": [
       "alt.Chart(...)"
      ]
     },
     "execution_count": 19,
     "metadata": {},
     "output_type": "execute_result"
    }
   ],
   "source": [
    "alt.Chart(df).mark_bar().encode(\n",
    "    y=alt.Y('function:N', sort='-x'),\n",
    "    x=alt.X('count:Q'),\n",
    "    color='library',\n",
    "    tooltip=['function', 'count', 'library']\n",
    ")"
   ]
  },
  {
   "cell_type": "code",
   "execution_count": 13,
   "metadata": {
    "execution": {
     "iopub.execute_input": "2020-05-10T18:06:37.886848Z",
     "iopub.status.busy": "2020-05-10T18:06:37.886629Z",
     "iopub.status.idle": "2020-05-10T18:06:37.908148Z",
     "shell.execute_reply": "2020-05-10T18:06:37.907242Z",
     "shell.execute_reply.started": "2020-05-10T18:06:37.886825Z"
    }
   },
   "outputs": [
    {
     "data": {
      "text/plain": [
       "function\n",
       "*numpy.flatiter                                                           True\n",
       "*numpy.ma.core.MaskedArray                                               False\n",
       "*numpy.ndarray                                                            True\n",
       "*numpy.ndenumerate                                                       False\n",
       "*numpy.ndindex                                                           False\n",
       "                                                                         ...  \n",
       "xarray.core.varianumpy.ndarrayle.Varianumpy.ndarrayle - numpy.ndarray    False\n",
       "xarray.core.varianumpy.str_le.Varianumpy.str_le == numpy.str_            False\n",
       "~numpy.bool_                                                             False\n",
       "~numpy.ma.core.MaskedArray                                               False\n",
       "~numpy.ndarray                                                            True\n",
       "Name: count, Length: 6839, dtype: bool"
      ]
     },
     "execution_count": 13,
     "metadata": {},
     "output_type": "execute_result"
    }
   ],
   "source": [
    "(df.groupby('function').sum()['count'] > 10)"
   ]
  },
  {
   "cell_type": "code",
   "execution_count": null,
   "metadata": {},
   "outputs": [],
   "source": []
  }
 ],
 "metadata": {
  "kernelspec": {
   "display_name": "Python 3",
   "language": "python",
   "name": "python3"
  },
  "language_info": {
   "codemirror_mode": {
    "name": "ipython",
    "version": 3
   },
   "file_extension": ".py",
   "mimetype": "text/x-python",
   "name": "python",
   "nbconvert_exporter": "python",
   "pygments_lexer": "ipython3",
   "version": "3.8.2"
  }
 },
 "nbformat": 4,
 "nbformat_minor": 4
}
